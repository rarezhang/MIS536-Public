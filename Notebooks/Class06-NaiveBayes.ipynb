{
  "nbformat": 4,
  "nbformat_minor": 0,
  "metadata": {
    "kernelspec": {
      "display_name": "Python 3",
      "language": "python",
      "name": "python3"
    },
    "language_info": {
      "codemirror_mode": {
        "name": "ipython",
        "version": 3
      },
      "file_extension": ".py",
      "mimetype": "text/x-python",
      "name": "python",
      "nbconvert_exporter": "python",
      "pygments_lexer": "ipython3",
      "version": "3.8.3"
    },
    "colab": {
      "name": "Class06-NaiveBayes.ipynb",
      "provenance": [],
      "include_colab_link": true
    }
  },
  "cells": [
    {
      "cell_type": "markdown",
      "metadata": {
        "id": "view-in-github",
        "colab_type": "text"
      },
      "source": [
        "<a href=\"https://colab.research.google.com/github/timcsmith/MIS536-Public/blob/master/Notebooks/Class06-NaiveBayes.ipynb\" target=\"_parent\"><img src=\"https://colab.research.google.com/assets/colab-badge.svg\" alt=\"Open In Colab\"/></a>"
      ]
    },
    {
      "cell_type": "markdown",
      "metadata": {
        "id": "3AJ8MPT2O2gc"
      },
      "source": [
        "## Introduction to Naive Bayes \n",
        "\n",
        "In this exerices, we will conduct Naive Bayes classifications on two datasets using sklearn.naivebayes package. "
      ]
    },
    {
      "cell_type": "code",
      "metadata": {
        "id": "CGjm4joqO2gd"
      },
      "source": [
        "# import packaages for this in class exercise\n"
      ],
      "execution_count": null,
      "outputs": []
    },
    {
      "cell_type": "markdown",
      "metadata": {
        "id": "vMDHTZpiO2gg"
      },
      "source": [
        "## Gaussian Naive Bayes\n",
        "\n"
      ]
    },
    {
      "cell_type": "code",
      "metadata": {
        "id": "GO1q-wj9O2gh"
      },
      "source": [
        "# 1. load play.csv from GitHub site as play_df\n",
        "\n",
        "\n",
        "# 2.Convert string labels into numbers.\n",
        "\n",
        "\n",
        "# 3. verify dataframe data\n",
        " \n",
        "\n"
      ],
      "execution_count": null,
      "outputs": []
    },
    {
      "cell_type": "code",
      "metadata": {
        "id": "o-xWzBZWO2gj"
      },
      "source": [
        "\n",
        "# Create a Gaussian Classifier\n",
        "\n",
        "\n",
        "# Train the model using the training sets\n",
        "\n",
        "\n",
        "# We have a new data point [[0,2]] which means weather: Overcast, temp: Mild. \n",
        "# Perform prediction for this data point and print out the prediction result.\n"
      ],
      "execution_count": null,
      "outputs": []
    },
    {
      "cell_type": "markdown",
      "metadata": {
        "id": "jUvch223O2gl"
      },
      "source": [
        "***\n",
        "***\n",
        "## Naive Bayes with Multiple Labels\n",
        "Till now we have learned Naive Bayes classification with binary labels. Now you will learn about multiple class classification in Naive Bayes. Which is known as multinomial Naive Bayes classification. For example, if you want to classify a news article into the categories of technology, entertainment, politics, or sports, rather than tenology or non-technology.\n",
        "\n",
        "\n",
        "In model building part, you will use the wine dataset which is a very famous multi-class classification problem. \"This dataset is the result of a chemical analysis of wines grown in the same region in Italy but derived from three different cultivars.\" ([UC Irvine](https://archive.ics.uci.edu/ml/datasets/wine))\n",
        "\n",
        "Dataset comprises of 13 features (alcohol, malic_acid, ash, alcalinity_of_ash, magnesium, total_phenols, flavanoids, nonflavanoid_phenols, proanthocyanins, color_intensity, hue, od280/od315_of_diluted_wines, proline) and type of wine cultivar. This data has three type of wine Class_0, Class_1, and Class_3. Here you can build a model to classify the type of wine.\n",
        "\n",
        "The dataset is adapted from the wine dataset from sklearn-learn datasets."
      ]
    },
    {
      "cell_type": "code",
      "metadata": {
        "id": "-exczSV8O2gl"
      },
      "source": [
        "# Import wine.csv to a dataframe wine_df\n",
        "\n"
      ],
      "execution_count": null,
      "outputs": []
    },
    {
      "cell_type": "code",
      "metadata": {
        "id": "AFkdkQLaO2gn"
      },
      "source": [
        "# clean the dataset.\n"
      ],
      "execution_count": null,
      "outputs": []
    },
    {
      "cell_type": "code",
      "metadata": {
        "id": "q3G-DK0jO2gp"
      },
      "source": [
        "# Split dataset into training set and test set: 80% training and 20% validation\n"
      ],
      "execution_count": null,
      "outputs": []
    },
    {
      "cell_type": "code",
      "metadata": {
        "id": "zi7kFwrjO2gr"
      },
      "source": [
        "\n",
        "# Create a Multinomial Classifier\n",
        "# Train the model using the training sets\n",
        "\n",
        "\n",
        "# Predict the response for validate dataset\n"
      ],
      "execution_count": null,
      "outputs": []
    },
    {
      "cell_type": "code",
      "metadata": {
        "id": "YQu8d3-QO2gt"
      },
      "source": [
        "# Import scikit-learn metrics module for accuracy calculation\n",
        "# compute model accuracy \n"
      ],
      "execution_count": null,
      "outputs": []
    },
    {
      "cell_type": "code",
      "metadata": {
        "id": "LYxjqsUaO2gw"
      },
      "source": [
        ""
      ],
      "execution_count": null,
      "outputs": []
    }
  ]
}