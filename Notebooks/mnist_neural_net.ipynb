{
  "nbformat": 4,
  "nbformat_minor": 0,
  "metadata": {
    "colab": {
      "name": "mnist_neural_net.ipynb",
      "provenance": [],
      "collapsed_sections": [],
      "machine_shape": "hm",
      "authorship_tag": "ABX9TyPrmDKtwmCqPrzCgGb7i/03",
      "include_colab_link": true
    },
    "kernelspec": {
      "name": "python3",
      "display_name": "Python 3"
    },
    "accelerator": "TPU"
  },
  "cells": [
    {
      "cell_type": "markdown",
      "metadata": {
        "id": "view-in-github",
        "colab_type": "text"
      },
      "source": [
        "<a href=\"https://colab.research.google.com/github/timcsmith/MIS536-Public/blob/master/Notebooks/mnist_neural_net.ipynb\" target=\"_parent\"><img src=\"https://colab.research.google.com/assets/colab-badge.svg\" alt=\"Open In Colab\"/></a>"
      ]
    },
    {
      "cell_type": "code",
      "metadata": {
        "id": "skobrEkKyLdb"
      },
      "source": [
        "import pandas as pd\n",
        "import numpy as np\n",
        "from sklearn.model_selection import train_test_split\n",
        "from sklearn.neural_network import MLPClassifier\n",
        "from sklearn.metrics import accuracy_score\n",
        "import time"
      ],
      "execution_count": null,
      "outputs": []
    },
    {
      "cell_type": "code",
      "metadata": {
        "id": "wy_AFXIsyPVn"
      },
      "source": [
        "mnist_df = pd.read_csv(\"https://github.com/timcsmith/MIS536-Public/raw/master/Data/mnist.zip\", compression=\"zip\")"
      ],
      "execution_count": null,
      "outputs": []
    },
    {
      "cell_type": "code",
      "metadata": {
        "id": "4CFfxhTT53Ge",
        "outputId": "a15275fc-e113-45e3-900a-1c72d3c6d270",
        "colab": {
          "base_uri": "https://localhost:8080/"
        }
      },
      "source": [
        "mnist_df.info()"
      ],
      "execution_count": null,
      "outputs": [
        {
          "output_type": "stream",
          "text": [
            "<class 'pandas.core.frame.DataFrame'>\n",
            "RangeIndex: 70000 entries, 0 to 69999\n",
            "Columns: 785 entries, label to 28x28\n",
            "dtypes: int64(785)\n",
            "memory usage: 419.2 MB\n"
          ],
          "name": "stdout"
        }
      ]
    },
    {
      "cell_type": "code",
      "metadata": {
        "id": "DSzPZhVT1jU-",
        "outputId": "85b9d371-cf9f-4473-cf84-75fba9a8efa5",
        "colab": {
          "base_uri": "https://localhost:8080/"
        }
      },
      "source": [
        "mnist_df.columns"
      ],
      "execution_count": null,
      "outputs": [
        {
          "output_type": "execute_result",
          "data": {
            "text/plain": [
              "Index(['label', '1x1', '1x2', '1x3', '1x4', '1x5', '1x6', '1x7', '1x8', '1x9',\n",
              "       ...\n",
              "       '28x19', '28x20', '28x21', '28x22', '28x23', '28x24', '28x25', '28x26',\n",
              "       '28x27', '28x28'],\n",
              "      dtype='object', length=785)"
            ]
          },
          "metadata": {
            "tags": []
          },
          "execution_count": 4
        }
      ]
    },
    {
      "cell_type": "code",
      "metadata": {
        "id": "XMi6NB3MJB_J",
        "outputId": "daeea431-ef63-49ba-f7a1-6237e85117b9",
        "colab": {
          "base_uri": "https://localhost:8080/"
        }
      },
      "source": [
        "target = 'label'\n",
        "predictors = list(mnist_df.columns)\n",
        "predictors.remove(target)\n",
        "X = mnist_df[predictors]\n",
        "y = mnist_df[target]\n",
        "train_X, valid_X, train_y, valid_y = train_test_split(X, y, test_size=.2, random_state=1)\n",
        "print(\"train_X\", train_X.shape)\n",
        "print(\"train_Y\", train_y.shape)\n",
        "print(\"valid_X\", valid_X.shape)\n",
        "print(\"valid_y\", valid_y.shape)"
      ],
      "execution_count": null,
      "outputs": [
        {
          "output_type": "stream",
          "text": [
            "train_X (56000, 784)\n",
            "train_Y (56000,)\n",
            "valid_X (14000, 784)\n",
            "valid_y (14000,)\n"
          ],
          "name": "stdout"
        }
      ]
    },
    {
      "cell_type": "code",
      "metadata": {
        "id": "oYa9cCYVJwrz",
        "outputId": "c8acf346-c93f-4219-974a-c906f96e4c68",
        "colab": {
          "base_uri": "https://localhost:8080/"
        }
      },
      "source": [
        "%%time\n",
        "start = time.time()\n",
        "\n",
        "model = MLPClassifier(hidden_layer_sizes=(500,250,100,40), solver='adam', max_iter=200, verbose=True)\n",
        "model.fit(train_X, train_y)\n",
        "\n",
        "end = time.time()\n",
        "print(\"Total Time\", end - start)"
      ],
      "execution_count": null,
      "outputs": [
        {
          "output_type": "stream",
          "text": [
            "Iteration 1, loss = 1.37645895\n",
            "Iteration 2, loss = 0.20165665\n",
            "Iteration 3, loss = 0.11789121\n",
            "Iteration 4, loss = 0.08113025\n",
            "Iteration 5, loss = 0.06147633\n",
            "Iteration 6, loss = 0.04972507\n",
            "Iteration 7, loss = 0.04543046\n",
            "Iteration 8, loss = 0.05665970\n",
            "Iteration 9, loss = 0.05166284\n",
            "Iteration 10, loss = 0.04381874\n",
            "Iteration 11, loss = 0.04683603\n",
            "Iteration 12, loss = 0.04611961\n",
            "Iteration 13, loss = 0.03672313\n",
            "Iteration 14, loss = 0.03848841\n",
            "Iteration 15, loss = 0.03537045\n",
            "Iteration 16, loss = 0.03725263\n",
            "Iteration 17, loss = 0.03699561\n",
            "Iteration 18, loss = 0.03002123\n",
            "Iteration 19, loss = 0.03780088\n",
            "Iteration 20, loss = 0.02445798\n",
            "Iteration 21, loss = 0.02700062\n",
            "Iteration 22, loss = 0.02843983\n",
            "Iteration 23, loss = 0.03097750\n",
            "Iteration 24, loss = 0.02903377\n",
            "Iteration 25, loss = 0.02157293\n",
            "Iteration 26, loss = 0.02191431\n",
            "Iteration 27, loss = 0.02879707\n",
            "Iteration 28, loss = 0.01909601\n",
            "Iteration 29, loss = 0.02018279\n",
            "Iteration 30, loss = 0.02199738\n",
            "Iteration 31, loss = 0.01901423\n",
            "Iteration 32, loss = 0.01380458\n",
            "Iteration 33, loss = 0.02204312\n",
            "Iteration 34, loss = 0.01585423\n",
            "Iteration 35, loss = 0.02057853\n",
            "Iteration 36, loss = 0.01983558\n",
            "Iteration 37, loss = 0.00925685\n",
            "Iteration 38, loss = 0.01699257\n",
            "Iteration 39, loss = 0.01510029\n",
            "Iteration 40, loss = 0.01273907\n",
            "Iteration 41, loss = 0.01530900\n",
            "Iteration 42, loss = 0.01723747\n",
            "Iteration 43, loss = 0.01096556\n",
            "Iteration 44, loss = 0.01261291\n",
            "Iteration 45, loss = 0.02087938\n",
            "Iteration 46, loss = 0.01104615\n",
            "Iteration 47, loss = 0.00691700\n",
            "Iteration 48, loss = 0.01061025\n",
            "Iteration 49, loss = 0.01394888\n",
            "Iteration 50, loss = 0.01590512\n",
            "Iteration 51, loss = 0.01130511\n",
            "Iteration 52, loss = 0.00916293\n",
            "Iteration 53, loss = 0.00903077\n",
            "Iteration 54, loss = 0.00780922\n",
            "Iteration 55, loss = 0.00449386\n",
            "Iteration 56, loss = 0.01649119\n",
            "Iteration 57, loss = 0.01188072\n",
            "Iteration 58, loss = 0.01220692\n",
            "Iteration 59, loss = 0.00780820\n",
            "Iteration 60, loss = 0.00476249\n",
            "Iteration 61, loss = 0.01193234\n",
            "Iteration 62, loss = 0.01064260\n",
            "Iteration 63, loss = 0.02415659\n",
            "Iteration 64, loss = 0.00819791\n",
            "Iteration 65, loss = 0.00823849\n",
            "Iteration 66, loss = 0.00603616\n",
            "Training loss did not improve more than tol=0.000100 for 10 consecutive epochs. Stopping.\n",
            "Total Time 528.9842510223389\n",
            "CPU times: user 1h 8min 50s, sys: 4h 40min 44s, total: 5h 49min 35s\n",
            "Wall time: 8min 48s\n"
          ],
          "name": "stdout"
        }
      ]
    },
    {
      "cell_type": "code",
      "metadata": {
        "id": "xcSgupa_Lzbi",
        "outputId": "0bf70353-37e2-47bf-dde2-c4357babd77c",
        "colab": {
          "base_uri": "https://localhost:8080/"
        }
      },
      "source": [
        "%%time\n",
        "start = time.time()\n",
        "\n",
        "sample_X = valid_X.iloc[1]\n",
        "sample_X = sample_X.values.reshape(1, -1)\n",
        "print(sample_X)\n",
        "print(model.predict(sample_X))\n",
        "\n",
        "end = time.time()\n",
        "print(\"Total Time\", end - start)\n"
      ],
      "execution_count": null,
      "outputs": [
        {
          "output_type": "stream",
          "text": [
            "[[  0   0   0   0   0   0   0   0   0   0   0   0   0   0   0   0   0   0\n",
            "    0   0   0   0   0   0   0   0   0   0   0   0   0   0   0   0   0   0\n",
            "    0   0   0   0   0   0   0   0   0   0   0   0   0   0   0   0   0   0\n",
            "    0   0   0   0   0   0   0   0   0   0   0   0   0   0   0   0   0   0\n",
            "    0   0   0   0   0   0   0   0   0   0   0   0   0   0   0   0   0   0\n",
            "    0   0   0   0   0   0   0   0   0   0   0   0   0   0   0   0   0   0\n",
            "    0   0   0   0   0   0   0   0   0   0   0   0   0   0   0   0   0   0\n",
            "    0   0   0   0   0   0   0   0   0   0   0   0   0   0   0   0   0   0\n",
            "    0   0   0   0   0   0   0   0   0   0   0   0   0   0  45 107  18   0\n",
            "    0   0   0   0   0   0   0   0   0   0   0   0   0   0   0   0   0   0\n",
            "    0   0   0   0  39 171 235 254  93   0   0   0   0   0   0   0   0   0\n",
            "    0   0   0   0   0   0   0   0   0   0   0   0  44 133 237 253 253 254\n",
            "  239 207  99   4   0   0   0   0   0   0   0   0   0   0   0   0   0   0\n",
            "    0  40 100 208 249 253 253 253 253 254 253 253 253 115   0   0   0   0\n",
            "    0   0   0   0   0   0   0   0   0   0   0 177 254 254 234 158 120  35\n",
            "    0   0  35 113 254 199   0   0   0   0   0   0   0   0   0   0   0   0\n",
            "    0   0   0  32 108  68   0   0   0   0   0   0   0  48 253 173   0   0\n",
            "    0   0   0   0   0   0   0   0   0   0   0   0   0   0   0   0   0   0\n",
            "    0   0   0   0   0  88 253 134   0   0   0   0   0   0   0   0   0   0\n",
            "    0   0   0   0   0   0   0   0   0   0   0   0   0   0  48 237 217  17\n",
            "    0   0   0   0   0   0   0   0   0   0   0   0   0   0   0   0   0   0\n",
            "    0   0   0   0   0  40 244 238  56   0   0   0   0   0   0   0   0   0\n",
            "    0   0   0   0   0   0   2  81 140 174 121  29   0   0 110 255 227  40\n",
            "    0   0   0   0   0   0   0   0   0   0   0   0   0   0   0  87 178 253\n",
            "  253 253 254 215  31 118 229 227  55   0   0   0   0   0   0   0   0   0\n",
            "    0   0   0   0   0  47 152 254 247 165  82  72 224 253 229 247 173  15\n",
            "    0   0   0   0   0   0   0   0   0   0   0   0   0   0  67 230 253 205\n",
            "   72   0   0  20 160 253 241  76  12   0   0   0   0   0   0   0   0   0\n",
            "    0   0   0   0   0 129 250 233  50   5   0  40 144 243 254 253 195  10\n",
            "    0   0   0   0   0   0   0   0   0   0   0   0   0   0  51 254 254  46\n",
            "   41 101 209 254 220 133  56 214 176   0   0   0   0   0   0   0   0   0\n",
            "    0   0   0   0   0   0 184 253 253 253 253 242 186 128   8   0   4 157\n",
            "  135   0   0   0   0   0   0   0   0   0   0   0   0   0   0   0  82 241\n",
            "  214 160 127  30   0   0   0   0   0   0   0   0   0   0   0   0   0   0\n",
            "    0   0   0   0   0   0   0   0   0  24   6   0   0   0   0   0   0   0\n",
            "    0   0   0   0   0   0   0   0   0   0   0   0   0   0   0   0   0   0\n",
            "    0   0   0   0   0   0   0   0   0   0   0   0   0   0   0   0   0   0\n",
            "    0   0   0   0   0   0   0   0   0   0   0   0   0   0   0   0   0   0\n",
            "    0   0   0   0   0   0   0   0   0   0   0   0   0   0   0   0   0   0\n",
            "    0   0   0   0   0   0   0   0   0   0   0   0   0   0   0   0   0   0\n",
            "    0   0   0   0   0   0   0   0   0   0   0   0   0   0   0   0   0   0\n",
            "    0   0   0   0   0   0   0   0   0   0   0   0   0   0   0   0   0   0\n",
            "    0   0   0   0   0   0   0   0   0   0   0   0   0   0   0   0   0   0\n",
            "    0   0   0   0   0   0   0   0   0   0]]\n",
            "[2]\n",
            "Total Time 0.007590293884277344\n",
            "CPU times: user 41.5 ms, sys: 137 ms, total: 178 ms\n",
            "Wall time: 7.68 ms\n"
          ],
          "name": "stdout"
        }
      ]
    },
    {
      "cell_type": "code",
      "metadata": {
        "id": "WVbv9OUALLtU",
        "outputId": "cf7cf9b7-a51f-4f14-ea77-33089cad79de",
        "colab": {
          "base_uri": "https://localhost:8080/"
        }
      },
      "source": [
        "%%time\n",
        "\n",
        "start = time.time()\n",
        "validation_predictions = model.predict(valid_X)\n",
        "end = time.time()\n",
        "print(\"Total Time per prediction =\", (end - start)/len(valid_X))\n",
        "\n",
        "\n",
        "print('Accuracy Score: ', accuracy_score(valid_y, validation_predictions))\n",
        "#print('Precision Score: ', precision_score(valid_y, validation_predictions))\n",
        "#print('Recall Score: ', recall_score(valid_y, validation_predictions))"
      ],
      "execution_count": null,
      "outputs": [
        {
          "output_type": "stream",
          "text": [
            "Total Time per prediction = 1.3137170246669225e-05\n",
            "Accuracy Score:  0.9833571428571428\n",
            "CPU times: user 2.29 s, sys: 3.39 s, total: 5.69 s\n",
            "Wall time: 187 ms\n"
          ],
          "name": "stdout"
        }
      ]
    }
  ]
}