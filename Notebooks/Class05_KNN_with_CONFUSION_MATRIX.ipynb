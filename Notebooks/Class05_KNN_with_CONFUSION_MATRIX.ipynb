{
  "nbformat": 4,
  "nbformat_minor": 0,
  "metadata": {
    "kernelspec": {
      "name": "Python 3.8.6 64-bit",
      "display_name": "Python 3.8.6 64-bit",
      "metadata": {
        "interpreter": {
          "hash": "03dadcf6a3abc71841e1bed2e04821a02fffca50026b70bbe9a86d4746878e06"
        }
      }
    },
    "language_info": {
      "codemirror_mode": {
        "name": "ipython",
        "version": 3
      },
      "file_extension": ".py",
      "mimetype": "text/x-python",
      "name": "python",
      "nbconvert_exporter": "python",
      "pygments_lexer": "ipython3",
      "version": "3.8.6-final"
    },
    "colab": {
      "name": "Class05-KNN_with_CONFUSION_MATRIX.ipynb",
      "provenance": [],
      "collapsed_sections": [
        "jKZWz5SKzGNE",
        "QICirRwAt0AL"
      ],
      "include_colab_link": true
    }
  },
  "cells": [
    {
      "cell_type": "markdown",
      "metadata": {
        "id": "view-in-github",
        "colab_type": "text"
      },
      "source": [
        "<a href=\"https://colab.research.google.com/github/timcsmith/MIS536-Public/blob/master/Notebooks/Class05_KNN_with_CONFUSION_MATRIX.ipynb\" target=\"_parent\"><img src=\"https://colab.research.google.com/assets/colab-badge.svg\" alt=\"Open In Colab\"/></a>"
      ]
    },
    {
      "cell_type": "markdown",
      "metadata": {
        "id": "gs999erazKxt"
      },
      "source": [
        "# Universal Bank k-NN model with Confusion Matrix\n"
      ]
    },
    {
      "cell_type": "code",
      "metadata": {
        "id": "G7UR4wTEzGM-"
      },
      "source": [
        "# Import required packages \n",
        "import pandas as pd\n",
        "from sklearn import preprocessing \n",
        "from sklearn.model_selection import train_test_split\n",
        "from sklearn.metrics import accuracy_score\n",
        "from sklearn.neighbors import KNeighborsClassifier\n",
        "from sklearn.metrics import confusion_matrix # <- this is new\n",
        "from sklearn.metrics import classification_report"
      ],
      "execution_count": 1,
      "outputs": []
    },
    {
      "cell_type": "markdown",
      "metadata": {
        "id": "jKZWz5SKzGNE"
      },
      "source": [
        "#### Load data, clean, split and normalize data"
      ]
    },
    {
      "cell_type": "code",
      "metadata": {
        "scrolled": true,
        "id": "3rSIcUpszGNE"
      },
      "source": [
        "# Load the data direct from GitHub\n",
        "bank_df = pd.read_csv('https://github.com/timcsmith/MIS536-Public/raw/master/Data/UniversalBank.csv')\n",
        "\n",
        "# strip any trailing/leading whitespace and transform any remaining whitespce to underscore\n",
        "bank_df.columns = [s.strip().replace(' ','_') for s in bank_df.columns] # list comprehension, all columns\n",
        "\n",
        "# drop ID and ZIP from data\n",
        "bank_df = bank_df.drop(columns=['ID', 'ZIP_Code'])\n",
        "\n",
        "# translate any categorical variables into dummy variables\n",
        "bank_df['Education'] = bank_df['Education'].astype('category')\n",
        "bank_df = pd.get_dummies(bank_df, prefix_sep='_', drop_first=False)\n",
        "\n",
        "# split the data into validation and training set\n",
        "train_df, validation_df = train_test_split(bank_df, test_size=0.4, random_state=1)\n",
        "\n",
        "# to reduce repetition in later code, let's create variables to represent the columns\n",
        "# that are our predictors, and outcome\n",
        "target = 'Personal_Loan'\n",
        "predictors = list(bank_df.columns)\n",
        "predictors.remove(target)\n",
        "\n",
        "# create a standard scaler and fit it to the training set of predictors\n",
        "scaler = preprocessing.StandardScaler()\n",
        "scaler.fit(train_df[predictors])\n",
        "\n",
        "# Transform the predictors of training and validation sets\n",
        "train_predictors = scaler.transform(train_df[predictors])\n",
        "train_target = train_df[target]\n",
        "validation_predictors = scaler.transform(validation_df[predictors])\n",
        "validation_target = validation_df[target]"
      ],
      "execution_count": 2,
      "outputs": []
    },
    {
      "cell_type": "markdown",
      "metadata": {
        "id": "hnRpvv2znmO6"
      },
      "source": [
        "## Measuring performance of model using confusion matrix"
      ]
    },
    {
      "cell_type": "code",
      "metadata": {
        "id": "wdGfPJfEYlRV",
        "outputId": "2fe22ed5-6d97-40cf-88e0-09f8f8cee8f4",
        "colab": {
          "base_uri": "https://localhost:8080/",
          "height": 51
        }
      },
      "source": [
        "# let's explore the performance of 5-NN model\n",
        "knn = KNeighborsClassifier(n_neighbors=5)\n",
        "knn.fit(train_predictors, train_target)\n",
        "knn_prediction_output = knn.predict(validation_predictors)\n",
        "confusion = confusion_matrix(validation_target, knn_prediction_output)\n",
        "confusion"
      ],
      "execution_count": 3,
      "outputs": [
        {
          "output_type": "execute_result",
          "data": {
            "text/plain": [
              "array([[1803,    4],\n",
              "       [  83,  110]])"
            ]
          },
          "metadata": {
            "tags": []
          },
          "execution_count": 3
        }
      ]
    },
    {
      "cell_type": "code",
      "metadata": {
        "id": "5ulijKuInH4J"
      },
      "source": [
        "TP = confusion[1, 1] # True Positives\n",
        "TN = confusion[0, 0] # True Negatives\n",
        "FP = confusion[0, 1] # False Positives\n",
        "FN = confusion[1, 0] # False Negatives"
      ],
      "execution_count": 4,
      "outputs": []
    },
    {
      "cell_type": "markdown",
      "metadata": {
        "id": "f8RSxiWGnJj2"
      },
      "source": [
        "### Classification Accuracy of model:\n",
        "\n",
        "How often was the model correct?"
      ]
    },
    {
      "cell_type": "code",
      "metadata": {
        "id": "FfO1nisznIiI",
        "outputId": "878d0f2f-3f3a-41c7-9b9e-d0f428fb950e",
        "colab": {
          "base_uri": "https://localhost:8080/",
          "height": 34
        }
      },
      "source": [
        "classification_accuracy = (TP + TN) / (TP + TN + FP + FN)\n",
        "print(classification_accuracy)"
      ],
      "execution_count": 5,
      "outputs": [
        {
          "output_type": "stream",
          "text": [
            "0.9565\n"
          ],
          "name": "stdout"
        }
      ]
    },
    {
      "cell_type": "markdown",
      "metadata": {
        "id": "qZGZKw3bnMye"
      },
      "source": [
        "### Classification Error (aka Misclassification Rate):\n",
        "\n",
        "How often is the classifier incorrect?"
      ]
    },
    {
      "cell_type": "code",
      "metadata": {
        "id": "1YLQMVIVnMC_",
        "outputId": "8bfe3f91-530d-421f-aeda-5a53febf6635",
        "colab": {
          "base_uri": "https://localhost:8080/",
          "height": 51
        }
      },
      "source": [
        "classification_error = (FP + FN) / (TP + TN + FP + FN)\n",
        "print(classification_error)\n",
        "\n",
        "# also ...\n",
        "print(1-classification_accuracy) "
      ],
      "execution_count": 6,
      "outputs": [
        {
          "output_type": "stream",
          "text": [
            "0.0435\n",
            "0.04349999999999998\n"
          ],
          "name": "stdout"
        }
      ]
    },
    {
      "cell_type": "markdown",
      "metadata": {
        "id": "SzKkssIbnPXd"
      },
      "source": [
        "### Precision: \n",
        "\n",
        "When a positive value is predicted, how often is the prediction correct?\n",
        "\n",
        "In other wordes: How \"precise\" is the classifier when predicting positive instances?"
      ]
    },
    {
      "cell_type": "code",
      "metadata": {
        "id": "DE2o7HIxnP7F",
        "outputId": "cc8b3fe4-0e6e-428a-9907-e46e8e7d007e",
        "colab": {
          "base_uri": "https://localhost:8080/",
          "height": 34
        }
      },
      "source": [
        "precision = TP / (TP + FP)\n",
        "print(precision)"
      ],
      "execution_count": 7,
      "outputs": [
        {
          "output_type": "stream",
          "text": [
            "0.9649122807017544\n"
          ],
          "name": "stdout"
        }
      ]
    },
    {
      "cell_type": "markdown",
      "metadata": {
        "id": "tjSqr2r2nQPm"
      },
      "source": [
        "### Recall:\n",
        "\n",
        "Ability of a classification model to identify all relevant instances. \n",
        "Also referred to as Sensitivity, Probability of Detection, True Positive Rate\n"
      ]
    },
    {
      "cell_type": "code",
      "metadata": {
        "id": "DT7oM6VtoVuq",
        "outputId": "974479f7-52d7-4550-a4a3-d3556fe03f81",
        "colab": {
          "base_uri": "https://localhost:8080/",
          "height": 34
        }
      },
      "source": [
        "recall = TP / (TP + FN)\n",
        "print(recall)"
      ],
      "execution_count": 8,
      "outputs": [
        {
          "output_type": "stream",
          "text": [
            "0.5699481865284974\n"
          ],
          "name": "stdout"
        }
      ]
    },
    {
      "cell_type": "markdown",
      "metadata": {
        "id": "_K9Bqws9ogma"
      },
      "source": [
        "### Support\n",
        "\n",
        "Number of occurences in each class in y_true"
      ]
    },
    {
      "cell_type": "code",
      "metadata": {
        "id": "TB40debPohEq",
        "outputId": "177d30bd-1b45-43fe-d2e2-bf90bfb09b6e",
        "colab": {
          "base_uri": "https://localhost:8080/",
          "height": 34
        }
      },
      "source": [
        "not_loan = TN+FP\n",
        "loan = FN+TP\n",
        "print(not_loan, loan)"
      ],
      "execution_count": 9,
      "outputs": [
        {
          "output_type": "stream",
          "text": [
            "1807 193\n"
          ],
          "name": "stdout"
        }
      ]
    },
    {
      "cell_type": "markdown",
      "metadata": {
        "id": "hK9rHhz8nPk8"
      },
      "source": [
        "### F1 Score\n",
        "\n",
        "This is a measure that takes the harmonic mean of precision and recall."
      ]
    },
    {
      "cell_type": "code",
      "metadata": {
        "id": "cXVb-Q59ox_k",
        "outputId": "ee546904-3955-492b-b0aa-b13cf06aacf4",
        "colab": {
          "base_uri": "https://localhost:8080/",
          "height": 34
        }
      },
      "source": [
        "f1_Score = (2 * precision * recall) / (precision + recall)\n",
        "print(f1_Score)"
      ],
      "execution_count": 10,
      "outputs": [
        {
          "output_type": "stream",
          "text": [
            "0.7166123778501629\n"
          ],
          "name": "stdout"
        }
      ]
    },
    {
      "cell_type": "markdown",
      "metadata": {
        "id": "Ybu7t8KQnITV"
      },
      "source": [
        "### Calculate Precision, Recall, Support and F1 score all at once\n"
      ]
    },
    {
      "cell_type": "markdown",
      "metadata": {
        "id": "cev-C4zY7Ls8"
      },
      "source": [
        ""
      ]
    },
    {
      "cell_type": "code",
      "metadata": {
        "id": "44vDKlHOpPz4",
        "outputId": "ad432cdf-d365-4be1-ad5d-fcd78af8a38a",
        "colab": {
          "base_uri": "https://localhost:8080/",
          "height": 170
        }
      },
      "source": [
        "\n",
        "print(classification_report(validation_target, knn.predict(validation_predictors)))"
      ],
      "execution_count": 11,
      "outputs": [
        {
          "output_type": "stream",
          "text": [
            "              precision    recall  f1-score   support\n",
            "\n",
            "           0       0.96      1.00      0.98      1807\n",
            "           1       0.96      0.57      0.72       193\n",
            "\n",
            "    accuracy                           0.96      2000\n",
            "   macro avg       0.96      0.78      0.85      2000\n",
            "weighted avg       0.96      0.96      0.95      2000\n",
            "\n"
          ],
          "name": "stdout"
        }
      ]
    },
    {
      "cell_type": "markdown",
      "metadata": {
        "id": "IWdHupurpMjC"
      },
      "source": [
        "## Evaluate a range of k values\n",
        "\n",
        "What values of k should you choose? \n",
        "\n",
        "As discussed in Class04, the upper limit of possible k values in n-1. \n",
        "\n",
        "Practically, it's not always reasonable to test every possible value of k. \n",
        "\n",
        "It's often stated as a \"rule of thumb\" (when it's not possible to test a number of k values), to choose k = square root of n. This is a very rough rule though, and as we discussed in class05, \"what is good\" varies depending on the business context. \n",
        "\n",
        "For this test, I'll look at the trend in k values from 1 to 99. I will focus only on odd k values due to the 'tie-breaker' issue with even numbered k's. I choose this range such that is includes square root of n (in this case, 70), and goes a bit beyond this value. \n",
        "\n",
        "Based on our initial analysis using this range, we may decide that it's worth exploring larger values of k (but, it unlikely that we will need to).\n"
      ]
    },
    {
      "cell_type": "code",
      "metadata": {
        "id": "-8gU_F26nHHa",
        "outputId": "577634c2-ee01-424f-c52b-eb510b4df400",
        "colab": {
          "base_uri": "https://localhost:8080/",
          "height": 1000
        }
      },
      "source": [
        "from sklearn.metrics import accuracy_score, precision_score, recall_score, f1_score\n",
        "\n",
        "\n",
        "results = []\n",
        "for k in range(1, 100, 2):\n",
        "\n",
        "    knn = KNeighborsClassifier(n_neighbors=k)\n",
        "    knn.fit(train_predictors, train_target)\n",
        "    validation_predictions = knn.predict(validation_predictors)\n",
        "    confusion = confusion_matrix(validation_target, validation_predictions)\n",
        "    TP = confusion[1,1]\n",
        "    TN = confusion[0,0]\n",
        "    FP = confusion[0,1]\n",
        "    FN = confusion[1,0]    \n",
        "    results.append({\n",
        "        'k': k,\n",
        "        'TP':  TP,\n",
        "        'TN':  TN,\n",
        "        'FP':  FP,\n",
        "        'FN':  FN,\n",
        "        'accuracy': (TP + TN) / (TP + TN + FP + FN),\n",
        "        'error': (FP + FN) / (TP + TN + FP + FN),\n",
        "        'precision' : TP / (TP + FP),\n",
        "        'recall' : TP / (TP + FN),\n",
        "        'f1_score': f1_score(validation_target, validation_predictions),\n",
        "    })\n",
        "\n",
        "results = pd.DataFrame(results)\n",
        "results"
      ],
      "execution_count": 12,
      "outputs": [
        {
          "output_type": "execute_result",
          "data": {
            "text/html": [
              "<div>\n",
              "<style scoped>\n",
              "    .dataframe tbody tr th:only-of-type {\n",
              "        vertical-align: middle;\n",
              "    }\n",
              "\n",
              "    .dataframe tbody tr th {\n",
              "        vertical-align: top;\n",
              "    }\n",
              "\n",
              "    .dataframe thead th {\n",
              "        text-align: right;\n",
              "    }\n",
              "</style>\n",
              "<table border=\"1\" class=\"dataframe\">\n",
              "  <thead>\n",
              "    <tr style=\"text-align: right;\">\n",
              "      <th></th>\n",
              "      <th>k</th>\n",
              "      <th>TP</th>\n",
              "      <th>TN</th>\n",
              "      <th>FP</th>\n",
              "      <th>FN</th>\n",
              "      <th>accuracy</th>\n",
              "      <th>error</th>\n",
              "      <th>precision</th>\n",
              "      <th>recall</th>\n",
              "      <th>f1_score</th>\n",
              "    </tr>\n",
              "  </thead>\n",
              "  <tbody>\n",
              "    <tr>\n",
              "      <th>0</th>\n",
              "      <td>1</td>\n",
              "      <td>124</td>\n",
              "      <td>1785</td>\n",
              "      <td>22</td>\n",
              "      <td>69</td>\n",
              "      <td>0.9545</td>\n",
              "      <td>0.0455</td>\n",
              "      <td>0.849315</td>\n",
              "      <td>0.642487</td>\n",
              "      <td>0.731563</td>\n",
              "    </tr>\n",
              "    <tr>\n",
              "      <th>1</th>\n",
              "      <td>3</td>\n",
              "      <td>110</td>\n",
              "      <td>1797</td>\n",
              "      <td>10</td>\n",
              "      <td>83</td>\n",
              "      <td>0.9535</td>\n",
              "      <td>0.0465</td>\n",
              "      <td>0.916667</td>\n",
              "      <td>0.569948</td>\n",
              "      <td>0.702875</td>\n",
              "    </tr>\n",
              "    <tr>\n",
              "      <th>2</th>\n",
              "      <td>5</td>\n",
              "      <td>110</td>\n",
              "      <td>1803</td>\n",
              "      <td>4</td>\n",
              "      <td>83</td>\n",
              "      <td>0.9565</td>\n",
              "      <td>0.0435</td>\n",
              "      <td>0.964912</td>\n",
              "      <td>0.569948</td>\n",
              "      <td>0.716612</td>\n",
              "    </tr>\n",
              "    <tr>\n",
              "      <th>3</th>\n",
              "      <td>7</td>\n",
              "      <td>102</td>\n",
              "      <td>1802</td>\n",
              "      <td>5</td>\n",
              "      <td>91</td>\n",
              "      <td>0.9520</td>\n",
              "      <td>0.0480</td>\n",
              "      <td>0.953271</td>\n",
              "      <td>0.528497</td>\n",
              "      <td>0.680000</td>\n",
              "    </tr>\n",
              "    <tr>\n",
              "      <th>4</th>\n",
              "      <td>9</td>\n",
              "      <td>92</td>\n",
              "      <td>1803</td>\n",
              "      <td>4</td>\n",
              "      <td>101</td>\n",
              "      <td>0.9475</td>\n",
              "      <td>0.0525</td>\n",
              "      <td>0.958333</td>\n",
              "      <td>0.476684</td>\n",
              "      <td>0.636678</td>\n",
              "    </tr>\n",
              "    <tr>\n",
              "      <th>5</th>\n",
              "      <td>11</td>\n",
              "      <td>90</td>\n",
              "      <td>1803</td>\n",
              "      <td>4</td>\n",
              "      <td>103</td>\n",
              "      <td>0.9465</td>\n",
              "      <td>0.0535</td>\n",
              "      <td>0.957447</td>\n",
              "      <td>0.466321</td>\n",
              "      <td>0.627178</td>\n",
              "    </tr>\n",
              "    <tr>\n",
              "      <th>6</th>\n",
              "      <td>13</td>\n",
              "      <td>84</td>\n",
              "      <td>1806</td>\n",
              "      <td>1</td>\n",
              "      <td>109</td>\n",
              "      <td>0.9450</td>\n",
              "      <td>0.0550</td>\n",
              "      <td>0.988235</td>\n",
              "      <td>0.435233</td>\n",
              "      <td>0.604317</td>\n",
              "    </tr>\n",
              "    <tr>\n",
              "      <th>7</th>\n",
              "      <td>15</td>\n",
              "      <td>84</td>\n",
              "      <td>1804</td>\n",
              "      <td>3</td>\n",
              "      <td>109</td>\n",
              "      <td>0.9440</td>\n",
              "      <td>0.0560</td>\n",
              "      <td>0.965517</td>\n",
              "      <td>0.435233</td>\n",
              "      <td>0.600000</td>\n",
              "    </tr>\n",
              "    <tr>\n",
              "      <th>8</th>\n",
              "      <td>17</td>\n",
              "      <td>81</td>\n",
              "      <td>1802</td>\n",
              "      <td>5</td>\n",
              "      <td>112</td>\n",
              "      <td>0.9415</td>\n",
              "      <td>0.0585</td>\n",
              "      <td>0.941860</td>\n",
              "      <td>0.419689</td>\n",
              "      <td>0.580645</td>\n",
              "    </tr>\n",
              "    <tr>\n",
              "      <th>9</th>\n",
              "      <td>19</td>\n",
              "      <td>80</td>\n",
              "      <td>1801</td>\n",
              "      <td>6</td>\n",
              "      <td>113</td>\n",
              "      <td>0.9405</td>\n",
              "      <td>0.0595</td>\n",
              "      <td>0.930233</td>\n",
              "      <td>0.414508</td>\n",
              "      <td>0.573477</td>\n",
              "    </tr>\n",
              "    <tr>\n",
              "      <th>10</th>\n",
              "      <td>21</td>\n",
              "      <td>80</td>\n",
              "      <td>1803</td>\n",
              "      <td>4</td>\n",
              "      <td>113</td>\n",
              "      <td>0.9415</td>\n",
              "      <td>0.0585</td>\n",
              "      <td>0.952381</td>\n",
              "      <td>0.414508</td>\n",
              "      <td>0.577617</td>\n",
              "    </tr>\n",
              "    <tr>\n",
              "      <th>11</th>\n",
              "      <td>23</td>\n",
              "      <td>71</td>\n",
              "      <td>1804</td>\n",
              "      <td>3</td>\n",
              "      <td>122</td>\n",
              "      <td>0.9375</td>\n",
              "      <td>0.0625</td>\n",
              "      <td>0.959459</td>\n",
              "      <td>0.367876</td>\n",
              "      <td>0.531835</td>\n",
              "    </tr>\n",
              "    <tr>\n",
              "      <th>12</th>\n",
              "      <td>25</td>\n",
              "      <td>67</td>\n",
              "      <td>1804</td>\n",
              "      <td>3</td>\n",
              "      <td>126</td>\n",
              "      <td>0.9355</td>\n",
              "      <td>0.0645</td>\n",
              "      <td>0.957143</td>\n",
              "      <td>0.347150</td>\n",
              "      <td>0.509506</td>\n",
              "    </tr>\n",
              "    <tr>\n",
              "      <th>13</th>\n",
              "      <td>27</td>\n",
              "      <td>66</td>\n",
              "      <td>1804</td>\n",
              "      <td>3</td>\n",
              "      <td>127</td>\n",
              "      <td>0.9350</td>\n",
              "      <td>0.0650</td>\n",
              "      <td>0.956522</td>\n",
              "      <td>0.341969</td>\n",
              "      <td>0.503817</td>\n",
              "    </tr>\n",
              "    <tr>\n",
              "      <th>14</th>\n",
              "      <td>29</td>\n",
              "      <td>67</td>\n",
              "      <td>1803</td>\n",
              "      <td>4</td>\n",
              "      <td>126</td>\n",
              "      <td>0.9350</td>\n",
              "      <td>0.0650</td>\n",
              "      <td>0.943662</td>\n",
              "      <td>0.347150</td>\n",
              "      <td>0.507576</td>\n",
              "    </tr>\n",
              "    <tr>\n",
              "      <th>15</th>\n",
              "      <td>31</td>\n",
              "      <td>67</td>\n",
              "      <td>1804</td>\n",
              "      <td>3</td>\n",
              "      <td>126</td>\n",
              "      <td>0.9355</td>\n",
              "      <td>0.0645</td>\n",
              "      <td>0.957143</td>\n",
              "      <td>0.347150</td>\n",
              "      <td>0.509506</td>\n",
              "    </tr>\n",
              "    <tr>\n",
              "      <th>16</th>\n",
              "      <td>33</td>\n",
              "      <td>66</td>\n",
              "      <td>1804</td>\n",
              "      <td>3</td>\n",
              "      <td>127</td>\n",
              "      <td>0.9350</td>\n",
              "      <td>0.0650</td>\n",
              "      <td>0.956522</td>\n",
              "      <td>0.341969</td>\n",
              "      <td>0.503817</td>\n",
              "    </tr>\n",
              "    <tr>\n",
              "      <th>17</th>\n",
              "      <td>35</td>\n",
              "      <td>66</td>\n",
              "      <td>1804</td>\n",
              "      <td>3</td>\n",
              "      <td>127</td>\n",
              "      <td>0.9350</td>\n",
              "      <td>0.0650</td>\n",
              "      <td>0.956522</td>\n",
              "      <td>0.341969</td>\n",
              "      <td>0.503817</td>\n",
              "    </tr>\n",
              "    <tr>\n",
              "      <th>18</th>\n",
              "      <td>37</td>\n",
              "      <td>63</td>\n",
              "      <td>1804</td>\n",
              "      <td>3</td>\n",
              "      <td>130</td>\n",
              "      <td>0.9335</td>\n",
              "      <td>0.0665</td>\n",
              "      <td>0.954545</td>\n",
              "      <td>0.326425</td>\n",
              "      <td>0.486486</td>\n",
              "    </tr>\n",
              "    <tr>\n",
              "      <th>19</th>\n",
              "      <td>39</td>\n",
              "      <td>63</td>\n",
              "      <td>1804</td>\n",
              "      <td>3</td>\n",
              "      <td>130</td>\n",
              "      <td>0.9335</td>\n",
              "      <td>0.0665</td>\n",
              "      <td>0.954545</td>\n",
              "      <td>0.326425</td>\n",
              "      <td>0.486486</td>\n",
              "    </tr>\n",
              "    <tr>\n",
              "      <th>20</th>\n",
              "      <td>41</td>\n",
              "      <td>62</td>\n",
              "      <td>1804</td>\n",
              "      <td>3</td>\n",
              "      <td>131</td>\n",
              "      <td>0.9330</td>\n",
              "      <td>0.0670</td>\n",
              "      <td>0.953846</td>\n",
              "      <td>0.321244</td>\n",
              "      <td>0.480620</td>\n",
              "    </tr>\n",
              "    <tr>\n",
              "      <th>21</th>\n",
              "      <td>43</td>\n",
              "      <td>62</td>\n",
              "      <td>1804</td>\n",
              "      <td>3</td>\n",
              "      <td>131</td>\n",
              "      <td>0.9330</td>\n",
              "      <td>0.0670</td>\n",
              "      <td>0.953846</td>\n",
              "      <td>0.321244</td>\n",
              "      <td>0.480620</td>\n",
              "    </tr>\n",
              "    <tr>\n",
              "      <th>22</th>\n",
              "      <td>45</td>\n",
              "      <td>62</td>\n",
              "      <td>1804</td>\n",
              "      <td>3</td>\n",
              "      <td>131</td>\n",
              "      <td>0.9330</td>\n",
              "      <td>0.0670</td>\n",
              "      <td>0.953846</td>\n",
              "      <td>0.321244</td>\n",
              "      <td>0.480620</td>\n",
              "    </tr>\n",
              "    <tr>\n",
              "      <th>23</th>\n",
              "      <td>47</td>\n",
              "      <td>61</td>\n",
              "      <td>1804</td>\n",
              "      <td>3</td>\n",
              "      <td>132</td>\n",
              "      <td>0.9325</td>\n",
              "      <td>0.0675</td>\n",
              "      <td>0.953125</td>\n",
              "      <td>0.316062</td>\n",
              "      <td>0.474708</td>\n",
              "    </tr>\n",
              "    <tr>\n",
              "      <th>24</th>\n",
              "      <td>49</td>\n",
              "      <td>59</td>\n",
              "      <td>1804</td>\n",
              "      <td>3</td>\n",
              "      <td>134</td>\n",
              "      <td>0.9315</td>\n",
              "      <td>0.0685</td>\n",
              "      <td>0.951613</td>\n",
              "      <td>0.305699</td>\n",
              "      <td>0.462745</td>\n",
              "    </tr>\n",
              "    <tr>\n",
              "      <th>25</th>\n",
              "      <td>51</td>\n",
              "      <td>58</td>\n",
              "      <td>1804</td>\n",
              "      <td>3</td>\n",
              "      <td>135</td>\n",
              "      <td>0.9310</td>\n",
              "      <td>0.0690</td>\n",
              "      <td>0.950820</td>\n",
              "      <td>0.300518</td>\n",
              "      <td>0.456693</td>\n",
              "    </tr>\n",
              "    <tr>\n",
              "      <th>26</th>\n",
              "      <td>53</td>\n",
              "      <td>59</td>\n",
              "      <td>1804</td>\n",
              "      <td>3</td>\n",
              "      <td>134</td>\n",
              "      <td>0.9315</td>\n",
              "      <td>0.0685</td>\n",
              "      <td>0.951613</td>\n",
              "      <td>0.305699</td>\n",
              "      <td>0.462745</td>\n",
              "    </tr>\n",
              "    <tr>\n",
              "      <th>27</th>\n",
              "      <td>55</td>\n",
              "      <td>58</td>\n",
              "      <td>1805</td>\n",
              "      <td>2</td>\n",
              "      <td>135</td>\n",
              "      <td>0.9315</td>\n",
              "      <td>0.0685</td>\n",
              "      <td>0.966667</td>\n",
              "      <td>0.300518</td>\n",
              "      <td>0.458498</td>\n",
              "    </tr>\n",
              "    <tr>\n",
              "      <th>28</th>\n",
              "      <td>57</td>\n",
              "      <td>55</td>\n",
              "      <td>1805</td>\n",
              "      <td>2</td>\n",
              "      <td>138</td>\n",
              "      <td>0.9300</td>\n",
              "      <td>0.0700</td>\n",
              "      <td>0.964912</td>\n",
              "      <td>0.284974</td>\n",
              "      <td>0.440000</td>\n",
              "    </tr>\n",
              "    <tr>\n",
              "      <th>29</th>\n",
              "      <td>59</td>\n",
              "      <td>55</td>\n",
              "      <td>1804</td>\n",
              "      <td>3</td>\n",
              "      <td>138</td>\n",
              "      <td>0.9295</td>\n",
              "      <td>0.0705</td>\n",
              "      <td>0.948276</td>\n",
              "      <td>0.284974</td>\n",
              "      <td>0.438247</td>\n",
              "    </tr>\n",
              "    <tr>\n",
              "      <th>30</th>\n",
              "      <td>61</td>\n",
              "      <td>52</td>\n",
              "      <td>1804</td>\n",
              "      <td>3</td>\n",
              "      <td>141</td>\n",
              "      <td>0.9280</td>\n",
              "      <td>0.0720</td>\n",
              "      <td>0.945455</td>\n",
              "      <td>0.269430</td>\n",
              "      <td>0.419355</td>\n",
              "    </tr>\n",
              "    <tr>\n",
              "      <th>31</th>\n",
              "      <td>63</td>\n",
              "      <td>52</td>\n",
              "      <td>1805</td>\n",
              "      <td>2</td>\n",
              "      <td>141</td>\n",
              "      <td>0.9285</td>\n",
              "      <td>0.0715</td>\n",
              "      <td>0.962963</td>\n",
              "      <td>0.269430</td>\n",
              "      <td>0.421053</td>\n",
              "    </tr>\n",
              "    <tr>\n",
              "      <th>32</th>\n",
              "      <td>65</td>\n",
              "      <td>49</td>\n",
              "      <td>1805</td>\n",
              "      <td>2</td>\n",
              "      <td>144</td>\n",
              "      <td>0.9270</td>\n",
              "      <td>0.0730</td>\n",
              "      <td>0.960784</td>\n",
              "      <td>0.253886</td>\n",
              "      <td>0.401639</td>\n",
              "    </tr>\n",
              "    <tr>\n",
              "      <th>33</th>\n",
              "      <td>67</td>\n",
              "      <td>47</td>\n",
              "      <td>1805</td>\n",
              "      <td>2</td>\n",
              "      <td>146</td>\n",
              "      <td>0.9260</td>\n",
              "      <td>0.0740</td>\n",
              "      <td>0.959184</td>\n",
              "      <td>0.243523</td>\n",
              "      <td>0.388430</td>\n",
              "    </tr>\n",
              "    <tr>\n",
              "      <th>34</th>\n",
              "      <td>69</td>\n",
              "      <td>44</td>\n",
              "      <td>1805</td>\n",
              "      <td>2</td>\n",
              "      <td>149</td>\n",
              "      <td>0.9245</td>\n",
              "      <td>0.0755</td>\n",
              "      <td>0.956522</td>\n",
              "      <td>0.227979</td>\n",
              "      <td>0.368201</td>\n",
              "    </tr>\n",
              "    <tr>\n",
              "      <th>35</th>\n",
              "      <td>71</td>\n",
              "      <td>44</td>\n",
              "      <td>1806</td>\n",
              "      <td>1</td>\n",
              "      <td>149</td>\n",
              "      <td>0.9250</td>\n",
              "      <td>0.0750</td>\n",
              "      <td>0.977778</td>\n",
              "      <td>0.227979</td>\n",
              "      <td>0.369748</td>\n",
              "    </tr>\n",
              "    <tr>\n",
              "      <th>36</th>\n",
              "      <td>73</td>\n",
              "      <td>41</td>\n",
              "      <td>1806</td>\n",
              "      <td>1</td>\n",
              "      <td>152</td>\n",
              "      <td>0.9235</td>\n",
              "      <td>0.0765</td>\n",
              "      <td>0.976190</td>\n",
              "      <td>0.212435</td>\n",
              "      <td>0.348936</td>\n",
              "    </tr>\n",
              "    <tr>\n",
              "      <th>37</th>\n",
              "      <td>75</td>\n",
              "      <td>41</td>\n",
              "      <td>1806</td>\n",
              "      <td>1</td>\n",
              "      <td>152</td>\n",
              "      <td>0.9235</td>\n",
              "      <td>0.0765</td>\n",
              "      <td>0.976190</td>\n",
              "      <td>0.212435</td>\n",
              "      <td>0.348936</td>\n",
              "    </tr>\n",
              "    <tr>\n",
              "      <th>38</th>\n",
              "      <td>77</td>\n",
              "      <td>40</td>\n",
              "      <td>1806</td>\n",
              "      <td>1</td>\n",
              "      <td>153</td>\n",
              "      <td>0.9230</td>\n",
              "      <td>0.0770</td>\n",
              "      <td>0.975610</td>\n",
              "      <td>0.207254</td>\n",
              "      <td>0.341880</td>\n",
              "    </tr>\n",
              "    <tr>\n",
              "      <th>39</th>\n",
              "      <td>79</td>\n",
              "      <td>39</td>\n",
              "      <td>1806</td>\n",
              "      <td>1</td>\n",
              "      <td>154</td>\n",
              "      <td>0.9225</td>\n",
              "      <td>0.0775</td>\n",
              "      <td>0.975000</td>\n",
              "      <td>0.202073</td>\n",
              "      <td>0.334764</td>\n",
              "    </tr>\n",
              "    <tr>\n",
              "      <th>40</th>\n",
              "      <td>81</td>\n",
              "      <td>40</td>\n",
              "      <td>1807</td>\n",
              "      <td>0</td>\n",
              "      <td>153</td>\n",
              "      <td>0.9235</td>\n",
              "      <td>0.0765</td>\n",
              "      <td>1.000000</td>\n",
              "      <td>0.207254</td>\n",
              "      <td>0.343348</td>\n",
              "    </tr>\n",
              "    <tr>\n",
              "      <th>41</th>\n",
              "      <td>83</td>\n",
              "      <td>36</td>\n",
              "      <td>1807</td>\n",
              "      <td>0</td>\n",
              "      <td>157</td>\n",
              "      <td>0.9215</td>\n",
              "      <td>0.0785</td>\n",
              "      <td>1.000000</td>\n",
              "      <td>0.186528</td>\n",
              "      <td>0.314410</td>\n",
              "    </tr>\n",
              "    <tr>\n",
              "      <th>42</th>\n",
              "      <td>85</td>\n",
              "      <td>35</td>\n",
              "      <td>1807</td>\n",
              "      <td>0</td>\n",
              "      <td>158</td>\n",
              "      <td>0.9210</td>\n",
              "      <td>0.0790</td>\n",
              "      <td>1.000000</td>\n",
              "      <td>0.181347</td>\n",
              "      <td>0.307018</td>\n",
              "    </tr>\n",
              "    <tr>\n",
              "      <th>43</th>\n",
              "      <td>87</td>\n",
              "      <td>32</td>\n",
              "      <td>1807</td>\n",
              "      <td>0</td>\n",
              "      <td>161</td>\n",
              "      <td>0.9195</td>\n",
              "      <td>0.0805</td>\n",
              "      <td>1.000000</td>\n",
              "      <td>0.165803</td>\n",
              "      <td>0.284444</td>\n",
              "    </tr>\n",
              "    <tr>\n",
              "      <th>44</th>\n",
              "      <td>89</td>\n",
              "      <td>31</td>\n",
              "      <td>1807</td>\n",
              "      <td>0</td>\n",
              "      <td>162</td>\n",
              "      <td>0.9190</td>\n",
              "      <td>0.0810</td>\n",
              "      <td>1.000000</td>\n",
              "      <td>0.160622</td>\n",
              "      <td>0.276786</td>\n",
              "    </tr>\n",
              "    <tr>\n",
              "      <th>45</th>\n",
              "      <td>91</td>\n",
              "      <td>30</td>\n",
              "      <td>1807</td>\n",
              "      <td>0</td>\n",
              "      <td>163</td>\n",
              "      <td>0.9185</td>\n",
              "      <td>0.0815</td>\n",
              "      <td>1.000000</td>\n",
              "      <td>0.155440</td>\n",
              "      <td>0.269058</td>\n",
              "    </tr>\n",
              "    <tr>\n",
              "      <th>46</th>\n",
              "      <td>93</td>\n",
              "      <td>32</td>\n",
              "      <td>1807</td>\n",
              "      <td>0</td>\n",
              "      <td>161</td>\n",
              "      <td>0.9195</td>\n",
              "      <td>0.0805</td>\n",
              "      <td>1.000000</td>\n",
              "      <td>0.165803</td>\n",
              "      <td>0.284444</td>\n",
              "    </tr>\n",
              "    <tr>\n",
              "      <th>47</th>\n",
              "      <td>95</td>\n",
              "      <td>28</td>\n",
              "      <td>1807</td>\n",
              "      <td>0</td>\n",
              "      <td>165</td>\n",
              "      <td>0.9175</td>\n",
              "      <td>0.0825</td>\n",
              "      <td>1.000000</td>\n",
              "      <td>0.145078</td>\n",
              "      <td>0.253394</td>\n",
              "    </tr>\n",
              "    <tr>\n",
              "      <th>48</th>\n",
              "      <td>97</td>\n",
              "      <td>29</td>\n",
              "      <td>1807</td>\n",
              "      <td>0</td>\n",
              "      <td>164</td>\n",
              "      <td>0.9180</td>\n",
              "      <td>0.0820</td>\n",
              "      <td>1.000000</td>\n",
              "      <td>0.150259</td>\n",
              "      <td>0.261261</td>\n",
              "    </tr>\n",
              "    <tr>\n",
              "      <th>49</th>\n",
              "      <td>99</td>\n",
              "      <td>27</td>\n",
              "      <td>1807</td>\n",
              "      <td>0</td>\n",
              "      <td>166</td>\n",
              "      <td>0.9170</td>\n",
              "      <td>0.0830</td>\n",
              "      <td>1.000000</td>\n",
              "      <td>0.139896</td>\n",
              "      <td>0.245455</td>\n",
              "    </tr>\n",
              "  </tbody>\n",
              "</table>\n",
              "</div>"
            ],
            "text/plain": [
              "     k   TP    TN  FP   FN  accuracy   error  precision    recall  f1_score\n",
              "0    1  124  1785  22   69    0.9545  0.0455   0.849315  0.642487  0.731563\n",
              "1    3  110  1797  10   83    0.9535  0.0465   0.916667  0.569948  0.702875\n",
              "2    5  110  1803   4   83    0.9565  0.0435   0.964912  0.569948  0.716612\n",
              "3    7  102  1802   5   91    0.9520  0.0480   0.953271  0.528497  0.680000\n",
              "4    9   92  1803   4  101    0.9475  0.0525   0.958333  0.476684  0.636678\n",
              "5   11   90  1803   4  103    0.9465  0.0535   0.957447  0.466321  0.627178\n",
              "6   13   84  1806   1  109    0.9450  0.0550   0.988235  0.435233  0.604317\n",
              "7   15   84  1804   3  109    0.9440  0.0560   0.965517  0.435233  0.600000\n",
              "8   17   81  1802   5  112    0.9415  0.0585   0.941860  0.419689  0.580645\n",
              "9   19   80  1801   6  113    0.9405  0.0595   0.930233  0.414508  0.573477\n",
              "10  21   80  1803   4  113    0.9415  0.0585   0.952381  0.414508  0.577617\n",
              "11  23   71  1804   3  122    0.9375  0.0625   0.959459  0.367876  0.531835\n",
              "12  25   67  1804   3  126    0.9355  0.0645   0.957143  0.347150  0.509506\n",
              "13  27   66  1804   3  127    0.9350  0.0650   0.956522  0.341969  0.503817\n",
              "14  29   67  1803   4  126    0.9350  0.0650   0.943662  0.347150  0.507576\n",
              "15  31   67  1804   3  126    0.9355  0.0645   0.957143  0.347150  0.509506\n",
              "16  33   66  1804   3  127    0.9350  0.0650   0.956522  0.341969  0.503817\n",
              "17  35   66  1804   3  127    0.9350  0.0650   0.956522  0.341969  0.503817\n",
              "18  37   63  1804   3  130    0.9335  0.0665   0.954545  0.326425  0.486486\n",
              "19  39   63  1804   3  130    0.9335  0.0665   0.954545  0.326425  0.486486\n",
              "20  41   62  1804   3  131    0.9330  0.0670   0.953846  0.321244  0.480620\n",
              "21  43   62  1804   3  131    0.9330  0.0670   0.953846  0.321244  0.480620\n",
              "22  45   62  1804   3  131    0.9330  0.0670   0.953846  0.321244  0.480620\n",
              "23  47   61  1804   3  132    0.9325  0.0675   0.953125  0.316062  0.474708\n",
              "24  49   59  1804   3  134    0.9315  0.0685   0.951613  0.305699  0.462745\n",
              "25  51   58  1804   3  135    0.9310  0.0690   0.950820  0.300518  0.456693\n",
              "26  53   59  1804   3  134    0.9315  0.0685   0.951613  0.305699  0.462745\n",
              "27  55   58  1805   2  135    0.9315  0.0685   0.966667  0.300518  0.458498\n",
              "28  57   55  1805   2  138    0.9300  0.0700   0.964912  0.284974  0.440000\n",
              "29  59   55  1804   3  138    0.9295  0.0705   0.948276  0.284974  0.438247\n",
              "30  61   52  1804   3  141    0.9280  0.0720   0.945455  0.269430  0.419355\n",
              "31  63   52  1805   2  141    0.9285  0.0715   0.962963  0.269430  0.421053\n",
              "32  65   49  1805   2  144    0.9270  0.0730   0.960784  0.253886  0.401639\n",
              "33  67   47  1805   2  146    0.9260  0.0740   0.959184  0.243523  0.388430\n",
              "34  69   44  1805   2  149    0.9245  0.0755   0.956522  0.227979  0.368201\n",
              "35  71   44  1806   1  149    0.9250  0.0750   0.977778  0.227979  0.369748\n",
              "36  73   41  1806   1  152    0.9235  0.0765   0.976190  0.212435  0.348936\n",
              "37  75   41  1806   1  152    0.9235  0.0765   0.976190  0.212435  0.348936\n",
              "38  77   40  1806   1  153    0.9230  0.0770   0.975610  0.207254  0.341880\n",
              "39  79   39  1806   1  154    0.9225  0.0775   0.975000  0.202073  0.334764\n",
              "40  81   40  1807   0  153    0.9235  0.0765   1.000000  0.207254  0.343348\n",
              "41  83   36  1807   0  157    0.9215  0.0785   1.000000  0.186528  0.314410\n",
              "42  85   35  1807   0  158    0.9210  0.0790   1.000000  0.181347  0.307018\n",
              "43  87   32  1807   0  161    0.9195  0.0805   1.000000  0.165803  0.284444\n",
              "44  89   31  1807   0  162    0.9190  0.0810   1.000000  0.160622  0.276786\n",
              "45  91   30  1807   0  163    0.9185  0.0815   1.000000  0.155440  0.269058\n",
              "46  93   32  1807   0  161    0.9195  0.0805   1.000000  0.165803  0.284444\n",
              "47  95   28  1807   0  165    0.9175  0.0825   1.000000  0.145078  0.253394\n",
              "48  97   29  1807   0  164    0.9180  0.0820   1.000000  0.150259  0.261261\n",
              "49  99   27  1807   0  166    0.9170  0.0830   1.000000  0.139896  0.245455"
            ]
          },
          "metadata": {
            "tags": []
          },
          "execution_count": 12
        }
      ]
    },
    {
      "cell_type": "code",
      "metadata": {
        "id": "ekAWEQErzGNr",
        "outputId": "203a61b0-8735-402a-ac7d-5355e7ae280e",
        "colab": {
          "base_uri": "https://localhost:8080/",
          "height": 279
        }
      },
      "source": [
        "# plot accuracy vs. k\n",
        "_ = results.plot.scatter(x='k', y='accuracy', xlim=[0, 60])"
      ],
      "execution_count": 13,
      "outputs": [
        {
          "output_type": "display_data",
          "data": {
            "image/png": "[encoded data removed]",
            "text/plain": [
              "<Figure size 432x288 with 1 Axes>"
            ]
          },
          "metadata": {
            "tags": [],
            "needs_background": "light"
          }
        }
      ]
    },
    {
      "cell_type": "code",
      "metadata": {
        "id": "e8LCL58pp2rj",
        "outputId": "9dd47783-f669-4ab0-e14c-92393516b368",
        "colab": {
          "base_uri": "https://localhost:8080/",
          "height": 279
        }
      },
      "source": [
        "# plot precision vs. k\n",
        "_ = results.plot.scatter(x='k', y='precision', xlim=[0, 60])"
      ],
      "execution_count": 14,
      "outputs": [
        {
          "output_type": "display_data",
          "data": {
            "image/png": "[encoded data removed]",
            "text/plain": [
              "<Figure size 432x288 with 1 Axes>"
            ]
          },
          "metadata": {
            "tags": [],
            "needs_background": "light"
          }
        }
      ]
    },
    {
      "cell_type": "code",
      "metadata": {
        "id": "lZvvcAGWqV5R",
        "outputId": "f37ea2ac-9705-4277-ff82-23cdcc3833c1",
        "colab": {
          "base_uri": "https://localhost:8080/",
          "height": 279
        }
      },
      "source": [
        "# plot recall vs. k\n",
        "_ = results.plot.scatter(x='k', y='recall', xlim=[0, 60])"
      ],
      "execution_count": 15,
      "outputs": [
        {
          "output_type": "display_data",
          "data": {
            "image/png": "[encoded data removed]",
            "text/plain": [
              "<Figure size 432x288 with 1 Axes>"
            ]
          },
          "metadata": {
            "tags": [],
            "needs_background": "light"
          }
        }
      ]
    },
    {
      "cell_type": "code",
      "metadata": {
        "id": "RKIqbd7CqnAI",
        "outputId": "1ee88a56-de85-441b-be79-38721260a7d1",
        "colab": {
          "base_uri": "https://localhost:8080/",
          "height": 279
        }
      },
      "source": [
        "# plot f1 score vs. k\n",
        "_ = results.plot.scatter(x='k', y='f1_score', xlim=[0, 60])"
      ],
      "execution_count": 16,
      "outputs": [
        {
          "output_type": "display_data",
          "data": {
            "image/png": "[encoded data removed]",
            "text/plain": [
              "<Figure size 432x288 with 1 Axes>"
            ]
          },
          "metadata": {
            "tags": [],
            "needs_background": "light"
          }
        }
      ]
    },
    {
      "cell_type": "code",
      "metadata": {
        "id": "fODhlDJmrCYG",
        "outputId": "0e57cdaa-3742-4b12-8a78-36f0a5fc66a6",
        "colab": {
          "base_uri": "https://localhost:8080/",
          "height": 880
        }
      },
      "source": [
        "# multiple line plot\n",
        "from matplotlib import pylab as plt\n",
        "plt.figure(figsize=(15,15))\n",
        "plt.plot( 'k', 'accuracy', data=results, marker='d', color='red', linewidth=1, linestyle='dashed', label=\"accuracy\")\n",
        "plt.plot( 'k', 'precision', data=results, marker='x', color='blue', linewidth=2, linestyle='dashed', label=\"precision\")\n",
        "plt.plot( 'k', 'recall', data=results, marker='.', color='green', linewidth=2, linestyle='dashed', label=\"recall\")\n",
        "plt.plot( 'k', 'f1_score', data=results, marker='*', color='yellow', linewidth=2, linestyle='dashed', label=\"f1_score\")\n",
        "plt.legend()\n"
      ],
      "execution_count": 17,
      "outputs": [
        {
          "output_type": "execute_result",
          "data": {
            "text/plain": [
              "<matplotlib.legend.Legend at 0x7f5eefbe1358>"
            ]
          },
          "metadata": {
            "tags": []
          },
          "execution_count": 17
        },
        {
          "output_type": "display_data",
          "data": {
            "image/png": "[encoded data removed]",
            "text/plain": [
              "<Figure size 1080x1080 with 1 Axes>"
            ]
          },
          "metadata": {
            "tags": [],
            "needs_background": "light"
          }
        }
      ]
    },
    {
      "cell_type": "markdown",
      "metadata": {
        "id": "opDdGjpHtsJP"
      },
      "source": [
        "Let's look at lowest k values that produce the max Precision, max Recall, max accuracy and max f1 score."
      ]
    },
    {
      "cell_type": "code",
      "metadata": {
        "id": "2pvKr_bdwqQY",
        "outputId": "f488c9e2-e7d0-4764-9447-5298ab0a5d87",
        "colab": {
          "base_uri": "https://localhost:8080/",
          "height": 901
        }
      },
      "source": [
        "# get the index position of max values in every column\n",
        "maxVals = results.idxmax()\n",
        "print(\"*\"*10+'accuracy'+'*'*10+\"\\n\", results.iloc[maxVals['accuracy']], \"\\n\")\n",
        "print(\"*\"*10+'precision'+'*'*10+\"\\n\",results.iloc[maxVals['precision']], \"\\n\")\n",
        "print(\"*\"*10+'recall'+'*'*10+\"\\n\",results.iloc[maxVals['recall']], \"\\n\")\n",
        "print(\"*\"*10+'f1_score'+'*'*10+\"\\n\",results.iloc[maxVals['f1_score']], \"\\n\")"
      ],
      "execution_count": 18,
      "outputs": [
        {
          "output_type": "stream",
          "text": [
            "**********accuracy**********\n",
            " k               5.000000\n",
            "TP            110.000000\n",
            "TN           1803.000000\n",
            "FP              4.000000\n",
            "FN             83.000000\n",
            "accuracy        0.956500\n",
            "error           0.043500\n",
            "precision       0.964912\n",
            "recall          0.569948\n",
            "f1_score        0.716612\n",
            "Name: 2, dtype: float64 \n",
            "\n",
            "**********precision**********\n",
            " k              81.000000\n",
            "TP             40.000000\n",
            "TN           1807.000000\n",
            "FP              0.000000\n",
            "FN            153.000000\n",
            "accuracy        0.923500\n",
            "error           0.076500\n",
            "precision       1.000000\n",
            "recall          0.207254\n",
            "f1_score        0.343348\n",
            "Name: 40, dtype: float64 \n",
            "\n",
            "**********recall**********\n",
            " k               1.000000\n",
            "TP            124.000000\n",
            "TN           1785.000000\n",
            "FP             22.000000\n",
            "FN             69.000000\n",
            "accuracy        0.954500\n",
            "error           0.045500\n",
            "precision       0.849315\n",
            "recall          0.642487\n",
            "f1_score        0.731563\n",
            "Name: 0, dtype: float64 \n",
            "\n",
            "**********f1_score**********\n",
            " k               1.000000\n",
            "TP            124.000000\n",
            "TN           1785.000000\n",
            "FP             22.000000\n",
            "FN             69.000000\n",
            "accuracy        0.954500\n",
            "error           0.045500\n",
            "precision       0.849315\n",
            "recall          0.642487\n",
            "f1_score        0.731563\n",
            "Name: 0, dtype: float64 \n",
            "\n"
          ],
          "name": "stdout"
        }
      ]
    },
    {
      "cell_type": "markdown",
      "metadata": {
        "id": "XCdhheBFs8da"
      },
      "source": [
        "## Summary of key measures:\n",
        "\n",
        "* **Accuracy** is one of the simpler, and most intuitive, measures. It is the total the model got right dived by the total observations.\n",
        "\n",
        "* **Precision** is more important than **recall** when you would like to have fewer **False Positives** in trade off to have more **False Negatives**. Meaning, getting a **False Positive** is very costly, and a **False Negative** is not as much.\n",
        "\n",
        "* **Recall** is more important than **precision** when you would like to have less **false negatives** in trade off to have more **False positives**. Meaning, getting a **False negatives** is very costly, and a **False Positive** is not as much. \n",
        "\n",
        "* **f1_score** is a measure that represents a balance between **Recall** and **Precision** (represented at a harmonic mean of the two values)."
      ]
    },
    {
      "cell_type": "code",
      "metadata": {
        "id": "PLvaZhbexHQV"
      },
      "source": [
        ""
      ],
      "execution_count": null,
      "outputs": []
    },
    {
      "cell_type": "markdown",
      "metadata": {
        "id": "QICirRwAt0AL"
      },
      "source": [
        "## Conclusion:\n",
        "\n",
        "Confusion matrix gives you a more complete picture of how our classifiers are performing\n",
        "\n",
        "You can use the confusion matrix to compute various classification metrics. These metrics can guide your model selection.\n",
        "\n",
        "Which metrics should you focus on?\n",
        "\n",
        "* Choice of metric depends on your business objective!\n",
        "  * There are two types of errors we can make,\n",
        "    * Identify if FP or FN is more important to reduce:\n",
        "  * Choose metric with relevant variable (FP or FN in the equation)\n",
        "\n",
        "    * Example1: Spam filter (positive class is \"spam\"):\n",
        "      * Optimize for precision \n",
        "        * Precision is more important than recall when you would like to have less False Positives in trade off to have more False Negatives. \n",
        "        * Because false negatives (spam goes to the inbox) are more acceptable than false positives (non-spam is caught by the spam filter), precision would be a good metric to focus on more heavily.\n",
        "\n",
        "    * Example2: Medical diagnostics (positive class is \"sick\"):\n",
        "      * Optimize for recall\n",
        "        * Proportion of corrrect positive classifications froms cases that are actually positive. \n",
        "        * Because false positives (normal transactions that are flagged as possible sickness) are more acceptable than false negatives (sick patients that are not detected)\n",
        "  "
      ]
    },
    {
      "cell_type": "code",
      "metadata": {
        "id": "eV8H1ZsIyR1C"
      },
      "source": [
        ""
      ],
      "execution_count": 18,
      "outputs": []
    }
  ]
}