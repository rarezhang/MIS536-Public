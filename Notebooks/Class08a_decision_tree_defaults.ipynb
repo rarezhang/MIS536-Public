{
  "nbformat": 4,
  "nbformat_minor": 0,
  "metadata": {
    "kernelspec": {
      "display_name": "Python 3",
      "language": "python",
      "name": "python3"
    },
    "language_info": {
      "codemirror_mode": {
        "name": "ipython",
        "version": 3
      },
      "file_extension": ".py",
      "mimetype": "text/x-python",
      "name": "python",
      "nbconvert_exporter": "python",
      "pygments_lexer": "ipython3",
      "version": "3.8.3"
    },
    "colab": {
      "name": "Class08a-decision_tree_defaults.ipynb",
      "provenance": [],
      "collapsed_sections": [],
      "machine_shape": "hm",
      "include_colab_link": true
    },
    "accelerator": "TPU"
  },
  "cells": [
    {
      "cell_type": "markdown",
      "metadata": {
        "id": "view-in-github",
        "colab_type": "text"
      },
      "source": [
        "<a href=\"https://colab.research.google.com/github/timcsmith/MIS536-Public/blob/master/Notebooks/Class08a_decision_tree_defaults.ipynb\" target=\"_parent\"><img src=\"https://colab.research.google.com/assets/colab-badge.svg\" alt=\"Open In Colab\"/></a>"
      ]
    },
    {
      "cell_type": "markdown",
      "metadata": {
        "id": "LxGJbLsUhuc8"
      },
      "source": [
        "# Class08a - Prediction using Decision Tree (using Default Parameters)"
      ]
    },
    {
      "cell_type": "markdown",
      "metadata": {
        "id": "-tuXRZKEYrDa"
      },
      "source": [
        "## Introduction and Overview\n"
      ]
    },
    {
      "cell_type": "markdown",
      "metadata": {
        "id": "q08EVUytY3eh"
      },
      "source": [
        "\n",
        "\n",
        "In this project, we will be using a dataset containing census information from [UCI's Machine Learning Repository](https://archive.ics.uci.edu/ml/datasets/census+income).\n",
        "\n",
        "By using this census data with a decision tree, we will try to predict whether or not a person income using the following variables: age, sex, capital-gain, capital-loss, hours-per-week.\n",
        "Let's get started!\n"
      ]
    },
    {
      "cell_type": "markdown",
      "metadata": {
        "id": "d2A_u7rQhuc_"
      },
      "source": [
        "\n",
        "# Predicting Income with Decision Tree\n",
        "\n"
      ]
    },
    {
      "cell_type": "markdown",
      "metadata": {
        "id": "kmYLcm3aY8X5"
      },
      "source": [
        "## Step 1: Install and import necessary packages"
      ]
    },
    {
      "cell_type": "code",
      "metadata": {
        "id": "8zNdljvIhuc8"
      },
      "source": [
        "# import packages\n",
        "import pandas as pd\n",
        "from sklearn.model_selection import train_test_split\n",
        "from sklearn.tree import DecisionTreeClassifier\n",
        "from sklearn.metrics import confusion_matrix, accuracy_score, precision_score, recall_score\n",
        "import numpy as np"
      ],
      "execution_count": null,
      "outputs": []
    },
    {
      "cell_type": "markdown",
      "metadata": {
        "id": "TmP3fttHqieO"
      },
      "source": [
        "## Step 2: Load, clean and prepare data\n"
      ]
    },
    {
      "cell_type": "markdown",
      "metadata": {
        "id": "sGgrXNQPZT3J"
      },
      "source": [
        "### 2.1 Read data (income.csv)"
      ]
    },
    {
      "cell_type": "code",
      "metadata": {
        "id": "q3u5LsGyhudA"
      },
      "source": [
        "income_df = pd.read_csv(\"https://raw.githubusercontent.com/timcsmith/MIS536-Public/master/Data/income.csv\", engine='python', delimiter=\", \")"
      ],
      "execution_count": null,
      "outputs": []
    },
    {
      "cell_type": "markdown",
      "metadata": {
        "id": "2aOH_GFGZZFx"
      },
      "source": [
        "### 2.2 Explore the dataset"
      ]
    },
    {
      "cell_type": "code",
      "metadata": {
        "id": "OkUM_mnHhudC",
        "outputId": "69d77047-23f3-48ef-e90e-487a4209dba9",
        "colab": {
          "base_uri": "https://localhost:8080/",
          "height": 816
        }
      },
      "source": [
        "# Explore the dataset\n",
        "# read the first row of the dataset \n",
        "print(income_df.head())\n",
        "print(income_df.columns)\n",
        "print(income_df.describe())\n",
        "print(income_df.info())"
      ],
      "execution_count": null,
      "outputs": [
        {
          "output_type": "stream",
          "text": [
            "   age         workclass  fnlwgt  ... hours-per-week  native-country income\n",
            "0   39         State-gov   77516  ...             40   United-States  <=50K\n",
            "1   50  Self-emp-not-inc   83311  ...             13   United-States  <=50K\n",
            "2   38           Private  215646  ...             40   United-States  <=50K\n",
            "3   53           Private  234721  ...             40   United-States  <=50K\n",
            "4   28           Private  338409  ...             40            Cuba  <=50K\n",
            "\n",
            "[5 rows x 15 columns]\n",
            "Index(['age', 'workclass', 'fnlwgt', 'education', 'education-num',\n",
            "       'marital-status', 'occupation', 'relationship', 'race', 'sex',\n",
            "       'capital-gain', 'capital-loss', 'hours-per-week', 'native-country',\n",
            "       'income'],\n",
            "      dtype='object')\n",
            "                age        fnlwgt  ...  capital-loss  hours-per-week\n",
            "count  32561.000000  3.256100e+04  ...  32561.000000    32561.000000\n",
            "mean      38.581647  1.897784e+05  ...     87.303830       40.437456\n",
            "std       13.640433  1.055500e+05  ...    402.960219       12.347429\n",
            "min       17.000000  1.228500e+04  ...      0.000000        1.000000\n",
            "25%       28.000000  1.178270e+05  ...      0.000000       40.000000\n",
            "50%       37.000000  1.783560e+05  ...      0.000000       40.000000\n",
            "75%       48.000000  2.370510e+05  ...      0.000000       45.000000\n",
            "max       90.000000  1.484705e+06  ...   4356.000000       99.000000\n",
            "\n",
            "[8 rows x 6 columns]\n",
            "<class 'pandas.core.frame.DataFrame'>\n",
            "RangeIndex: 32561 entries, 0 to 32560\n",
            "Data columns (total 15 columns):\n",
            " #   Column          Non-Null Count  Dtype \n",
            "---  ------          --------------  ----- \n",
            " 0   age             32561 non-null  int64 \n",
            " 1   workclass       32561 non-null  object\n",
            " 2   fnlwgt          32561 non-null  int64 \n",
            " 3   education       32561 non-null  object\n",
            " 4   education-num   32561 non-null  int64 \n",
            " 5   marital-status  32561 non-null  object\n",
            " 6   occupation      32561 non-null  object\n",
            " 7   relationship    32561 non-null  object\n",
            " 8   race            32561 non-null  object\n",
            " 9   sex             32561 non-null  object\n",
            " 10  capital-gain    32561 non-null  int64 \n",
            " 11  capital-loss    32561 non-null  int64 \n",
            " 12  hours-per-week  32561 non-null  int64 \n",
            " 13  native-country  32561 non-null  object\n",
            " 14  income          32561 non-null  object\n",
            "dtypes: int64(6), object(9)\n",
            "memory usage: 3.7+ MB\n",
            "None\n"
          ],
          "name": "stdout"
        }
      ]
    },
    {
      "cell_type": "markdown",
      "metadata": {
        "id": "AiaaNFX2Zf-I"
      },
      "source": [
        "### 2.3 Clean/transform data (where necessary)"
      ]
    },
    {
      "cell_type": "code",
      "metadata": {
        "id": "3JuJlVGDkINJ",
        "outputId": "4c3d3518-b42d-43ac-aeb6-8d5653e766c3",
        "colab": {
          "base_uri": "https://localhost:8080/",
          "height": 102
        }
      },
      "source": [
        "# based on findings from data exploration, we need to clean up colum names, as there are some leading whitespace characters\n",
        "income_df.columns = [s.strip() for s in income_df.columns] \n",
        "income_df.columns"
      ],
      "execution_count": null,
      "outputs": [
        {
          "output_type": "execute_result",
          "data": {
            "text/plain": [
              "Index(['age', 'workclass', 'fnlwgt', 'education', 'education-num',\n",
              "       'marital-status', 'occupation', 'relationship', 'race', 'sex',\n",
              "       'capital-gain', 'capital-loss', 'hours-per-week', 'native-country',\n",
              "       'income'],\n",
              "      dtype='object')"
            ]
          },
          "metadata": {
            "tags": []
          },
          "execution_count": 4
        }
      ]
    },
    {
      "cell_type": "code",
      "metadata": {
        "id": "KyUKMZqohudE",
        "outputId": "ae03827f-ea4f-4082-c9e3-22c4b81063ff",
        "colab": {
          "base_uri": "https://localhost:8080/",
          "height": 221
        }
      },
      "source": [
        "# clean the datast: sex is not numeric.\n",
        "income_df.sex = income_df.sex.replace(\"Male\", 0, regex=True)\n",
        "income_df.sex = income_df.sex.replace(\"Female\", 1, regex=True)\n",
        "income_df.sex"
      ],
      "execution_count": null,
      "outputs": [
        {
          "output_type": "execute_result",
          "data": {
            "text/plain": [
              "0        0\n",
              "1        0\n",
              "2        0\n",
              "3        0\n",
              "4        1\n",
              "        ..\n",
              "32556    1\n",
              "32557    0\n",
              "32558    1\n",
              "32559    0\n",
              "32560    1\n",
              "Name: sex, Length: 32561, dtype: int64"
            ]
          },
          "metadata": {
            "tags": []
          },
          "execution_count": 5
        }
      ]
    },
    {
      "cell_type": "code",
      "metadata": {
        "id": "u7_FPefb34E3"
      },
      "source": [
        "# Transform our predictors into integers. This is necessary if we later want to test precision and recall. \n",
        "income_df.income.unique()\n",
        "income_df.income = income_df.income.replace(\"<=50K\", 0, regex=True)\n",
        "income_df.income = income_df.income.replace(\">50K\", 1, regex=True)\n"
      ],
      "execution_count": null,
      "outputs": []
    },
    {
      "cell_type": "markdown",
      "metadata": {
        "id": "ZKY30W1pZxCP"
      },
      "source": [
        "## Step 3 Split data intro training and validation sets"
      ]
    },
    {
      "cell_type": "code",
      "metadata": {
        "id": "d0fAfB0ThudG",
        "outputId": "72ef91a4-5584-4ee9-81c6-f965eda00837",
        "colab": {
          "base_uri": "https://localhost:8080/",
          "height": 459
        }
      },
      "source": [
        "# construct datasets for analysis\n",
        "target = 'income'\n",
        "predictors = ['age', 'sex', 'capital-gain', 'capital-loss', 'hours-per-week']\n",
        "X = income_df[predictors]\n",
        "y = income_df[target]\n",
        "print(X)\n",
        "print(y)"
      ],
      "execution_count": null,
      "outputs": [
        {
          "output_type": "stream",
          "text": [
            "       age  sex  capital-gain  capital-loss  hours-per-week\n",
            "0       39    0          2174             0              40\n",
            "1       50    0             0             0              13\n",
            "2       38    0             0             0              40\n",
            "3       53    0             0             0              40\n",
            "4       28    1             0             0              40\n",
            "...    ...  ...           ...           ...             ...\n",
            "32556   27    1             0             0              38\n",
            "32557   40    0             0             0              40\n",
            "32558   58    1             0             0              40\n",
            "32559   22    0             0             0              20\n",
            "32560   52    1         15024             0              40\n",
            "\n",
            "[32561 rows x 5 columns]\n",
            "0        0\n",
            "1        0\n",
            "2        0\n",
            "3        0\n",
            "4        0\n",
            "        ..\n",
            "32556    0\n",
            "32557    1\n",
            "32558    0\n",
            "32559    0\n",
            "32560    1\n",
            "Name: income, Length: 32561, dtype: int64\n"
          ],
          "name": "stdout"
        }
      ]
    },
    {
      "cell_type": "code",
      "metadata": {
        "id": "t0DkCAoChudI",
        "outputId": "ad50a246-70cf-4b62-dd51-eed7bba081f4",
        "colab": {
          "base_uri": "https://localhost:8080/",
          "height": 493
        }
      },
      "source": [
        "# create the training set and the test set \n",
        "train_X, valid_X, train_y, valid_y = train_test_split(X,y, test_size=0.3, random_state=1)\n",
        "print(train_X)\n",
        "print(valid_X)"
      ],
      "execution_count": null,
      "outputs": [
        {
          "output_type": "stream",
          "text": [
            "       age  sex  capital-gain  capital-loss  hours-per-week\n",
            "16525   44    0             0             0              60\n",
            "14551   22    1             0             0              30\n",
            "518     21    1             0             0              35\n",
            "22524   46    0             0             0              40\n",
            "11425   17    0             0             0              20\n",
            "...    ...  ...           ...           ...             ...\n",
            "32511   25    1             0             0              40\n",
            "5192    32    0         15024             0              45\n",
            "12172   27    0             0             0              40\n",
            "235     59    0             0             0              40\n",
            "29733   33    0             0          1902              45\n",
            "\n",
            "[22792 rows x 5 columns]\n",
            "       age  sex  capital-gain  capital-loss  hours-per-week\n",
            "9646    62    1             0             0              66\n",
            "709     18    0             0             0              25\n",
            "7385    25    0         27828             0              50\n",
            "16671   33    0             0             0              40\n",
            "21932   36    1             0             0              40\n",
            "...    ...  ...           ...           ...             ...\n",
            "29663   61    0         15024             0              40\n",
            "29310   22    1             0             0              40\n",
            "29661   37    1          5013             0              40\n",
            "19491   23    0             0             0              40\n",
            "2861    44    1             0             0              40\n",
            "\n",
            "[9769 rows x 5 columns]\n"
          ],
          "name": "stdout"
        }
      ]
    },
    {
      "cell_type": "markdown",
      "metadata": {
        "id": "pSk0zea3qnoz"
      },
      "source": [
        "## Step 4: Create and train model\n"
      ]
    },
    {
      "cell_type": "markdown",
      "metadata": {
        "id": "30gNRdX-qtNT"
      },
      "source": [
        "You can find details about the DecisionTreeClassifier [here](https://scikit-learn.org/stable/modules/generated/sklearn.tree.DecisionTreeClassifier.html)."
      ]
    },
    {
      "cell_type": "markdown",
      "metadata": {
        "id": "bbPfUmcEXf6K"
      },
      "source": [
        "### 4.1 Create a decision tree using the default parameters"
      ]
    },
    {
      "cell_type": "code",
      "metadata": {
        "id": "UZ60Vn1AhudK"
      },
      "source": [
        "dtree=DecisionTreeClassifier(random_state=1)"
      ],
      "execution_count": null,
      "outputs": []
    },
    {
      "cell_type": "markdown",
      "metadata": {
        "id": "ntgxBhvJXkjp"
      },
      "source": [
        "### 4.2 Fit the model to the training data"
      ]
    },
    {
      "cell_type": "code",
      "metadata": {
        "id": "xPL4rRlVhudM",
        "outputId": "890895f0-2c32-4739-d4a3-26268caf752a",
        "colab": {
          "base_uri": "https://localhost:8080/",
          "height": 119
        }
      },
      "source": [
        "dtree.fit(train_X, train_y)"
      ],
      "execution_count": null,
      "outputs": [
        {
          "output_type": "execute_result",
          "data": {
            "text/plain": [
              "DecisionTreeClassifier(ccp_alpha=0.0, class_weight=None, criterion='gini',\n",
              "                       max_depth=None, max_features=None, max_leaf_nodes=None,\n",
              "                       min_impurity_decrease=0.0, min_impurity_split=None,\n",
              "                       min_samples_leaf=1, min_samples_split=2,\n",
              "                       min_weight_fraction_leaf=0.0, presort='deprecated',\n",
              "                       random_state=1, splitter='best')"
            ]
          },
          "metadata": {
            "tags": []
          },
          "execution_count": 10
        }
      ]
    },
    {
      "cell_type": "markdown",
      "metadata": {
        "id": "AMvD4-9wXy_1"
      },
      "source": [
        "### 4.3 Review of the performance of the model on the validation/test data"
      ]
    },
    {
      "cell_type": "code",
      "metadata": {
        "id": "YAcO31dIX7JE",
        "outputId": "c896fd06-d51f-489a-f703-fa1230b05316",
        "colab": {
          "base_uri": "https://localhost:8080/",
          "height": 102
        }
      },
      "source": [
        "validation_predictions = dtree.predict(valid_X)\n",
        "\n",
        "print('Confusion Matrix: ', confusion_matrix(valid_y, validation_predictions))\n",
        "print('Accuracy score', accuracy_score(valid_y, validation_predictions))\n",
        "print('Precision score', precision_score(valid_y, validation_predictions))\n",
        "print('Recall score', recall_score(valid_y, validation_predictions))"
      ],
      "execution_count": null,
      "outputs": [
        {
          "output_type": "stream",
          "text": [
            "Confusion Matrix:  [[7128  422]\n",
            " [1289  930]]\n",
            "Accuracy score 0.8248541304125294\n",
            "Precision score 0.6878698224852071\n",
            "Recall score 0.4191077061739522\n"
          ],
          "name": "stdout"
        }
      ]
    },
    {
      "cell_type": "markdown",
      "metadata": {
        "id": "6HLaMDTwaN9H"
      },
      "source": [
        "## Step 5: Deploy model"
      ]
    },
    {
      "cell_type": "markdown",
      "metadata": {
        "id": "TOnuFI0gaVmd"
      },
      "source": [
        "In this notebook we develop a model and test its performance on the validation data. In this exercise (predicting income), there is no model deployment. \n",
        "\n",
        "What does \"deploying\" a model mean? Up to this point, we've trained a model to our training data and then estimated the performance of this model on new data by testing its performance on validation data.\n",
        "\n",
        "In this course, we finish after building the model. In practice, the model is used by an organization/company in some way. Using the model is often referred to as \"deploying\" the model.\n",
        "\n",
        "How a model is deployed can vary. It may simply be deployed as a notebook that reads the latest predictor data and uses the developed model to make predictions. The model can also be deployed inside enterprise decision support software that automatically makes predictions on incoming data."
      ]
    }
  ]
}