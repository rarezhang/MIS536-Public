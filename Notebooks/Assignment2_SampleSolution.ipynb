{
  "nbformat": 4,
  "nbformat_minor": 0,
  "metadata": {
    "kernelspec": {
      "name": "Python 3.8.6 64-bit",
      "display_name": "Python 3.8.6 64-bit",
      "metadata": {
        "interpreter": {
          "hash": "03dadcf6a3abc71841e1bed2e04821a02fffca50026b70bbe9a86d4746878e06"
        }
      }
    },
    "language_info": {
      "codemirror_mode": {
        "name": "ipython",
        "version": 3
      },
      "file_extension": ".py",
      "mimetype": "text/x-python",
      "name": "python",
      "nbconvert_exporter": "python",
      "pygments_lexer": "ipython3",
      "version": "3.8.6-final"
    },
    "colab": {
      "name": "Assignment02-SampleSolution-LIVE.ipynb",
      "provenance": [],
      "collapsed_sections": [
        "glT3BTPCzGNC",
        "jKZWz5SKzGNE",
        "mMsqIGLPzGNH",
        "D5XD_jcrzGNQ",
        "Q-uMuy2gzGNS",
        "yddz3CCHzGNU",
        "XCLQ5hf4zGNc"
      ],
      "include_colab_link": true
    }
  },
  "cells": [
    {
      "cell_type": "markdown",
      "metadata": {
        "id": "view-in-github",
        "colab_type": "text"
      },
      "source": [
        "<a href=\"https://colab.research.google.com/github/timcsmith/MIS536-Public/blob/master/Notebooks/Assignment02_SampleSolution_LIVE.ipynb\" target=\"_parent\"><img src=\"https://colab.research.google.com/assets/colab-badge.svg\" alt=\"Open In Colab\"/></a>"
      ]
    },
    {
      "cell_type": "markdown",
      "metadata": {
        "id": "gs999erazKxt"
      },
      "source": [
        "# Assignment02 - Sample Solution - MIS536 Fall 2020\n",
        "\n",
        "\n",
        "Sample solution to a question derived from:\n",
        "\n",
        "Data Mining for Business Analytics: Concepts, Techniques, and Applications in Python (First Edition) Galit Shmueli, Peter C. Bruce, Peter Gedeck, and Nitin R. Patel. 2019.\n",
        "\n",
        "\n",
        "(c) 2020 Dr. Tim Smith\n"
      ]
    },
    {
      "cell_type": "markdown",
      "metadata": {
        "id": "2D9ZfJ6i0CGD"
      },
      "source": [
        "## Assignment Question/Wording"
      ]
    },
    {
      "cell_type": "markdown",
      "metadata": {
        "id": "0G1406Tk0Ev2"
      },
      "source": [
        "For assignment 2 you will apply k-NN to the UniversalBank.csv data (found on our GitHub website). \n",
        "\n",
        "Universal Bank is a relatively young bank growing rapidly in terms of overall customer acquisition. The majority of these customers are liability customers (depositors) with varying sizes of relationship with the bank. The customer base of asset customers (borrowers) is quite small, and the bank is interested in expanding this base rapidly to bring in more loan business. In particular, it wants to explore ways of converting its liability customers to personal loan customers (while retaining them as depositors).\n",
        "\n",
        "A campaign that the bank ran last year for liability customers showed a healthy conversion rate of over 9% success. This has encouraged the retail marketing department to devise smarter campaigns with better target marketing. The goal is to use k-NN to predict whether a new customer will accept a loan offer. This will serve as the basis for the design of a new campaign.\n",
        "\n",
        "You will find the required data on our GitHub site (and load it using the same techniques we have used in previous classes). The file UniversalBank.csv file contains data on 5000 customers. The data include customer demographic information (age, income, etc.), the customer’s relationship with the bank (mortgage, securities account, etc.), and the customer response to the last personal loan campaign (Personal Loan). Among these 5000 customers, only 480 (=9.6%) accepted the personal loan that was offered to them in the earlier campaign.\n",
        "\n",
        "**Part A (15 points):**\n",
        "\n",
        "* Create a new notebook called MIS536_Assignment2.ipynb\n",
        "* Load data (UniversalBank.csv) directly from GitHub site\n",
        "* Explore and Clean data (might want to clean column headers, as we've done in the past.\n",
        "* Drop ID and Zip code columns (the should not be expected to be predictors)\n",
        "* Create Dummy variables for Education column\n",
        "* Partition the data into training (60%) and validation (40%) sets.\n",
        "* Consider the following customer:\n",
        "    * Age = 40, Experience = 10, Income = 84, Family = 2, CCAvg = 2, Education_1 = 0, Education_2 = 1, Education_3 = 0, Mortgage = 0, Securities Account = 0, CD * Account = 0, Online = 1, and Credit Card = 1.\n",
        "    * Store this customer's data in a new dataframe called newCustomer\n",
        "\n",
        "**Part B (10 points):**\n",
        "\n",
        "* Perform a k-NN classification with all predictors (except ID and ZIP, which you should have dropped in Step A) using k = 1.\n",
        "* Using k-NN, How would this customer be classified?\n",
        "\n",
        "**Part C (15 points):**\n",
        "\n",
        "* What is a choice of k that balances between overfitting and ignoring the predictor information?"
      ]
    },
    {
      "cell_type": "markdown",
      "metadata": {
        "id": "TmYhQCA00ULD"
      },
      "source": [
        "## Sample Solution"
      ]
    },
    {
      "cell_type": "markdown",
      "metadata": {
        "id": "c2u5WacRzSs3"
      },
      "source": [
        "In this notebook, you will find a sample solution to the Universal Bank to determine if a liability customer will accept ta loan office (become a personal loan customer). \n",
        "\n",
        "Before we begin, let's reflect on \"the big picture\":\n",
        "\n",
        "> We're tasked to create a k-NN classifier to predict if a customer will become a Personal Load customer. With this classifier, our customer (the Bank) will predict if new customers will likely be (or become) a Loan Customer.\n",
        "\n",
        ">To build our k-NN classifier, we're given 5000 records of customers. These records include a column that indicates if these customers are Personal Loan customers (or not). Each record also consists of another 13 other columns, for which we're asked to drop Zip and ID. Therefore, we have 11 columns that can be used as input to predict if a customer will become a Personal Loan customer).\n",
        "\n",
        ">Once we have built our classifier, we can process new customers to determine (predict) if this will be a Personal Loan customer or not. \n",
        "\n",
        "> From the last class, we know that a k-NN classifier can accept any number of inputs; therefore, having 11 predictors/inputs is not a problem. We also know that k-NN is sensitive to differences in scale between our variables. So we must be sure to get all our prediction variables (input) in the same scale. \n",
        "\n",
        "Now, let's dig into the details - but first, we must load the libraries we will be using:\n"
      ]
    },
    {
      "cell_type": "markdown",
      "metadata": {
        "id": "6yw3f-OXzyl7"
      },
      "source": [
        "Before we begin, let's load the packages that we will use...\n"
      ]
    },
    {
      "cell_type": "code",
      "metadata": {
        "id": "G7UR4wTEzGM-"
      },
      "source": [
        "# Import required packages \n",
        "import pandas as pd\n",
        "from sklearn import preprocessing \n",
        "from sklearn.model_selection import train_test_split\n",
        "from sklearn.metrics import accuracy_score\n",
        "from sklearn.neighbors import KNeighborsClassifier"
      ],
      "execution_count": 1,
      "outputs": []
    },
    {
      "cell_type": "markdown",
      "metadata": {
        "id": "glT3BTPCzGNC"
      },
      "source": [
        "### Part A"
      ]
    },
    {
      "cell_type": "markdown",
      "metadata": {
        "id": "jKZWz5SKzGNE"
      },
      "source": [
        "#### Load data from GitHub"
      ]
    },
    {
      "cell_type": "code",
      "metadata": {
        "scrolled": true,
        "id": "3rSIcUpszGNE",
        "outputId": "b3ed4600-c230-4015-d6bc-6687132a9b15",
        "colab": {
          "base_uri": "https://localhost:8080/",
          "height": 0
        }
      },
      "source": [
        "# Load the data direct from GitHub\n",
        "bank_df = pd.read_csv('https://github.com/timcsmith/MIS536-Public/raw/master/Data/UniversalBank.csv')\n",
        "\n",
        "# Let's do a quick exploration of the data... \n",
        "\n",
        "bank_df"
      ],
      "execution_count": 2,
      "outputs": [
        {
          "output_type": "execute_result",
          "data": {
            "text/html": [
              "<div>\n",
              "<style scoped>\n",
              "    .dataframe tbody tr th:only-of-type {\n",
              "        vertical-align: middle;\n",
              "    }\n",
              "\n",
              "    .dataframe tbody tr th {\n",
              "        vertical-align: top;\n",
              "    }\n",
              "\n",
              "    .dataframe thead th {\n",
              "        text-align: right;\n",
              "    }\n",
              "</style>\n",
              "<table border=\"1\" class=\"dataframe\">\n",
              "  <thead>\n",
              "    <tr style=\"text-align: right;\">\n",
              "      <th></th>\n",
              "      <th>ID</th>\n",
              "      <th>Age</th>\n",
              "      <th>Experience</th>\n",
              "      <th>Income</th>\n",
              "      <th>ZIP Code</th>\n",
              "      <th>Family</th>\n",
              "      <th>CCAvg</th>\n",
              "      <th>Education</th>\n",
              "      <th>Mortgage</th>\n",
              "      <th>Personal Loan</th>\n",
              "      <th>Securities Account</th>\n",
              "      <th>CD Account</th>\n",
              "      <th>Online</th>\n",
              "      <th>CreditCard</th>\n",
              "    </tr>\n",
              "  </thead>\n",
              "  <tbody>\n",
              "    <tr>\n",
              "      <th>0</th>\n",
              "      <td>1</td>\n",
              "      <td>25</td>\n",
              "      <td>1</td>\n",
              "      <td>49</td>\n",
              "      <td>91107</td>\n",
              "      <td>4</td>\n",
              "      <td>1.6</td>\n",
              "      <td>1</td>\n",
              "      <td>0</td>\n",
              "      <td>0</td>\n",
              "      <td>1</td>\n",
              "      <td>0</td>\n",
              "      <td>0</td>\n",
              "      <td>0</td>\n",
              "    </tr>\n",
              "    <tr>\n",
              "      <th>1</th>\n",
              "      <td>2</td>\n",
              "      <td>45</td>\n",
              "      <td>19</td>\n",
              "      <td>34</td>\n",
              "      <td>90089</td>\n",
              "      <td>3</td>\n",
              "      <td>1.5</td>\n",
              "      <td>1</td>\n",
              "      <td>0</td>\n",
              "      <td>0</td>\n",
              "      <td>1</td>\n",
              "      <td>0</td>\n",
              "      <td>0</td>\n",
              "      <td>0</td>\n",
              "    </tr>\n",
              "    <tr>\n",
              "      <th>2</th>\n",
              "      <td>3</td>\n",
              "      <td>39</td>\n",
              "      <td>15</td>\n",
              "      <td>11</td>\n",
              "      <td>94720</td>\n",
              "      <td>1</td>\n",
              "      <td>1.0</td>\n",
              "      <td>1</td>\n",
              "      <td>0</td>\n",
              "      <td>0</td>\n",
              "      <td>0</td>\n",
              "      <td>0</td>\n",
              "      <td>0</td>\n",
              "      <td>0</td>\n",
              "    </tr>\n",
              "    <tr>\n",
              "      <th>3</th>\n",
              "      <td>4</td>\n",
              "      <td>35</td>\n",
              "      <td>9</td>\n",
              "      <td>100</td>\n",
              "      <td>94112</td>\n",
              "      <td>1</td>\n",
              "      <td>2.7</td>\n",
              "      <td>2</td>\n",
              "      <td>0</td>\n",
              "      <td>0</td>\n",
              "      <td>0</td>\n",
              "      <td>0</td>\n",
              "      <td>0</td>\n",
              "      <td>0</td>\n",
              "    </tr>\n",
              "    <tr>\n",
              "      <th>4</th>\n",
              "      <td>5</td>\n",
              "      <td>35</td>\n",
              "      <td>8</td>\n",
              "      <td>45</td>\n",
              "      <td>91330</td>\n",
              "      <td>4</td>\n",
              "      <td>1.0</td>\n",
              "      <td>2</td>\n",
              "      <td>0</td>\n",
              "      <td>0</td>\n",
              "      <td>0</td>\n",
              "      <td>0</td>\n",
              "      <td>0</td>\n",
              "      <td>1</td>\n",
              "    </tr>\n",
              "    <tr>\n",
              "      <th>...</th>\n",
              "      <td>...</td>\n",
              "      <td>...</td>\n",
              "      <td>...</td>\n",
              "      <td>...</td>\n",
              "      <td>...</td>\n",
              "      <td>...</td>\n",
              "      <td>...</td>\n",
              "      <td>...</td>\n",
              "      <td>...</td>\n",
              "      <td>...</td>\n",
              "      <td>...</td>\n",
              "      <td>...</td>\n",
              "      <td>...</td>\n",
              "      <td>...</td>\n",
              "    </tr>\n",
              "    <tr>\n",
              "      <th>4995</th>\n",
              "      <td>4996</td>\n",
              "      <td>29</td>\n",
              "      <td>3</td>\n",
              "      <td>40</td>\n",
              "      <td>92697</td>\n",
              "      <td>1</td>\n",
              "      <td>1.9</td>\n",
              "      <td>3</td>\n",
              "      <td>0</td>\n",
              "      <td>0</td>\n",
              "      <td>0</td>\n",
              "      <td>0</td>\n",
              "      <td>1</td>\n",
              "      <td>0</td>\n",
              "    </tr>\n",
              "    <tr>\n",
              "      <th>4996</th>\n",
              "      <td>4997</td>\n",
              "      <td>30</td>\n",
              "      <td>4</td>\n",
              "      <td>15</td>\n",
              "      <td>92037</td>\n",
              "      <td>4</td>\n",
              "      <td>0.4</td>\n",
              "      <td>1</td>\n",
              "      <td>85</td>\n",
              "      <td>0</td>\n",
              "      <td>0</td>\n",
              "      <td>0</td>\n",
              "      <td>1</td>\n",
              "      <td>0</td>\n",
              "    </tr>\n",
              "    <tr>\n",
              "      <th>4997</th>\n",
              "      <td>4998</td>\n",
              "      <td>63</td>\n",
              "      <td>39</td>\n",
              "      <td>24</td>\n",
              "      <td>93023</td>\n",
              "      <td>2</td>\n",
              "      <td>0.3</td>\n",
              "      <td>3</td>\n",
              "      <td>0</td>\n",
              "      <td>0</td>\n",
              "      <td>0</td>\n",
              "      <td>0</td>\n",
              "      <td>0</td>\n",
              "      <td>0</td>\n",
              "    </tr>\n",
              "    <tr>\n",
              "      <th>4998</th>\n",
              "      <td>4999</td>\n",
              "      <td>65</td>\n",
              "      <td>40</td>\n",
              "      <td>49</td>\n",
              "      <td>90034</td>\n",
              "      <td>3</td>\n",
              "      <td>0.5</td>\n",
              "      <td>2</td>\n",
              "      <td>0</td>\n",
              "      <td>0</td>\n",
              "      <td>0</td>\n",
              "      <td>0</td>\n",
              "      <td>1</td>\n",
              "      <td>0</td>\n",
              "    </tr>\n",
              "    <tr>\n",
              "      <th>4999</th>\n",
              "      <td>5000</td>\n",
              "      <td>28</td>\n",
              "      <td>4</td>\n",
              "      <td>83</td>\n",
              "      <td>92612</td>\n",
              "      <td>3</td>\n",
              "      <td>0.8</td>\n",
              "      <td>1</td>\n",
              "      <td>0</td>\n",
              "      <td>0</td>\n",
              "      <td>0</td>\n",
              "      <td>0</td>\n",
              "      <td>1</td>\n",
              "      <td>1</td>\n",
              "    </tr>\n",
              "  </tbody>\n",
              "</table>\n",
              "<p>5000 rows × 14 columns</p>\n",
              "</div>"
            ],
            "text/plain": [
              "        ID  Age  Experience  ...  CD Account  Online  CreditCard\n",
              "0        1   25           1  ...           0       0           0\n",
              "1        2   45          19  ...           0       0           0\n",
              "2        3   39          15  ...           0       0           0\n",
              "3        4   35           9  ...           0       0           0\n",
              "4        5   35           8  ...           0       0           1\n",
              "...    ...  ...         ...  ...         ...     ...         ...\n",
              "4995  4996   29           3  ...           0       1           0\n",
              "4996  4997   30           4  ...           0       1           0\n",
              "4997  4998   63          39  ...           0       0           0\n",
              "4998  4999   65          40  ...           0       1           0\n",
              "4999  5000   28           4  ...           0       1           1\n",
              "\n",
              "[5000 rows x 14 columns]"
            ]
          },
          "metadata": {
            "tags": []
          },
          "execution_count": 2
        }
      ]
    },
    {
      "cell_type": "markdown",
      "metadata": {
        "id": "mMsqIGLPzGNH"
      },
      "source": [
        "#### Quickly explore the data and fix any obvious problems\n"
      ]
    },
    {
      "cell_type": "markdown",
      "metadata": {
        "id": "Ht_o_BWfR_oQ"
      },
      "source": [
        "Here, I explore the number of columns, see what the colum names look like (and remove whitespace and rename when it will make it easier to work with, and check occurances of NaN (missing values)."
      ]
    },
    {
      "cell_type": "code",
      "metadata": {
        "id": "I5DmBao4zGNI",
        "outputId": "7eaf74b9-b60b-44b5-cfa1-fcdd79ff64da",
        "colab": {
          "base_uri": "https://localhost:8080/",
          "height": 0
        }
      },
      "source": [
        "# do the column names look good?\n",
        "bank_df.columns"
      ],
      "execution_count": 3,
      "outputs": [
        {
          "output_type": "execute_result",
          "data": {
            "text/plain": [
              "Index(['ID', 'Age', 'Experience', 'Income', 'ZIP Code', 'Family', 'CCAvg',\n",
              "       'Education', 'Mortgage', 'Personal Loan', 'Securities Account',\n",
              "       'CD Account', 'Online', 'CreditCard'],\n",
              "      dtype='object')"
            ]
          },
          "metadata": {
            "tags": []
          },
          "execution_count": 3
        }
      ]
    },
    {
      "cell_type": "code",
      "metadata": {
        "id": "2iXQKWBHzGNK"
      },
      "source": [
        "# let's replace any spaces in the column names with underscore\n",
        "bank_df.columns = [s.strip().replace(' ','_') for s in bank_df.columns] # list comprehension, all columns"
      ],
      "execution_count": 4,
      "outputs": []
    },
    {
      "cell_type": "code",
      "metadata": {
        "id": "h7wkzyX4zGNL",
        "outputId": "f1cf30ae-d617-41e8-9953-667890a599be",
        "colab": {
          "base_uri": "https://localhost:8080/",
          "height": 0
        }
      },
      "source": [
        "# let's check to see if there is a problem with missing values\n",
        "bank_df.isnull().sum()"
      ],
      "execution_count": 5,
      "outputs": [
        {
          "output_type": "execute_result",
          "data": {
            "text/plain": [
              "ID                    0\n",
              "Age                   0\n",
              "Experience            0\n",
              "Income                0\n",
              "ZIP_Code              0\n",
              "Family                0\n",
              "CCAvg                 0\n",
              "Education             0\n",
              "Mortgage              0\n",
              "Personal_Loan         0\n",
              "Securities_Account    0\n",
              "CD_Account            0\n",
              "Online                0\n",
              "CreditCard            0\n",
              "dtype: int64"
            ]
          },
          "metadata": {
            "tags": []
          },
          "execution_count": 5
        }
      ]
    },
    {
      "cell_type": "markdown",
      "metadata": {
        "id": "sgwCVqTozGNP"
      },
      "source": [
        "There are no issues with missing values in this data. \n",
        "\n",
        "> NOTE: If there were any missing values, we'd need to decide if we wanted to drop the record, or impute a value for the missing value. (see <a href=\"https://github.com/timcsmith/MIS536-Public/blob/master/Notebooks/Class02_3_Cleaning_Data.ipynb\" target=\"_blank\">Class02 Notebook</a> on Cleaning data, note the sections  \"Replacing missing data with median\", and \"Replacing bad data with median)"
      ]
    },
    {
      "cell_type": "markdown",
      "metadata": {
        "id": "mx4wrswn0jBN"
      },
      "source": [
        "We can also look at the proportion of the data for each of our target variables -- we find that this is somewhere around 9.6%, but since we have a rather large sample (5000), we will have many records with both clssification, so this should be fine.\n",
        "\n",
        "\n",
        "\n"
      ]
    },
    {
      "cell_type": "code",
      "metadata": {
        "id": "LXevilWmKlDV",
        "outputId": "7d617683-a2bf-46e1-9b13-be28ffb6227a",
        "colab": {
          "base_uri": "https://localhost:8080/",
          "height": 0
        }
      },
      "source": [
        "bank_df['Personal_Loan'].value_counts(normalize=True)"
      ],
      "execution_count": 6,
      "outputs": [
        {
          "output_type": "execute_result",
          "data": {
            "text/plain": [
              "0    0.904\n",
              "1    0.096\n",
              "Name: Personal_Loan, dtype: float64"
            ]
          },
          "metadata": {
            "tags": []
          },
          "execution_count": 6
        }
      ]
    },
    {
      "cell_type": "markdown",
      "metadata": {
        "id": "D5XD_jcrzGNQ"
      },
      "source": [
        "#### Drop the ID and zip code columns"
      ]
    },
    {
      "cell_type": "code",
      "metadata": {
        "id": "XU11qQWPzGNQ"
      },
      "source": [
        "bank_df = bank_df.drop(columns=['ID', 'ZIP_Code'])"
      ],
      "execution_count": 7,
      "outputs": []
    },
    {
      "cell_type": "markdown",
      "metadata": {
        "id": "Q-uMuy2gzGNS"
      },
      "source": [
        "#### Create dummy variables for Education "
      ]
    },
    {
      "cell_type": "code",
      "metadata": {
        "id": "DLcSeHbVzGNS",
        "outputId": "f8daa0eb-a149-4459-ecec-2e34ba37464c",
        "colab": {
          "base_uri": "https://localhost:8080/",
          "height": 0
        }
      },
      "source": [
        "bank_df['Education'] = bank_df['Education'].astype('category')\n",
        "bank_df = pd.get_dummies(bank_df, prefix_sep='_', drop_first=False)\n",
        "bank_df.head()"
      ],
      "execution_count": 8,
      "outputs": [
        {
          "output_type": "execute_result",
          "data": {
            "text/html": [
              "<div>\n",
              "<style scoped>\n",
              "    .dataframe tbody tr th:only-of-type {\n",
              "        vertical-align: middle;\n",
              "    }\n",
              "\n",
              "    .dataframe tbody tr th {\n",
              "        vertical-align: top;\n",
              "    }\n",
              "\n",
              "    .dataframe thead th {\n",
              "        text-align: right;\n",
              "    }\n",
              "</style>\n",
              "<table border=\"1\" class=\"dataframe\">\n",
              "  <thead>\n",
              "    <tr style=\"text-align: right;\">\n",
              "      <th></th>\n",
              "      <th>Age</th>\n",
              "      <th>Experience</th>\n",
              "      <th>Income</th>\n",
              "      <th>Family</th>\n",
              "      <th>CCAvg</th>\n",
              "      <th>Mortgage</th>\n",
              "      <th>Personal_Loan</th>\n",
              "      <th>Securities_Account</th>\n",
              "      <th>CD_Account</th>\n",
              "      <th>Online</th>\n",
              "      <th>CreditCard</th>\n",
              "      <th>Education_1</th>\n",
              "      <th>Education_2</th>\n",
              "      <th>Education_3</th>\n",
              "    </tr>\n",
              "  </thead>\n",
              "  <tbody>\n",
              "    <tr>\n",
              "      <th>0</th>\n",
              "      <td>25</td>\n",
              "      <td>1</td>\n",
              "      <td>49</td>\n",
              "      <td>4</td>\n",
              "      <td>1.6</td>\n",
              "      <td>0</td>\n",
              "      <td>0</td>\n",
              "      <td>1</td>\n",
              "      <td>0</td>\n",
              "      <td>0</td>\n",
              "      <td>0</td>\n",
              "      <td>1</td>\n",
              "      <td>0</td>\n",
              "      <td>0</td>\n",
              "    </tr>\n",
              "    <tr>\n",
              "      <th>1</th>\n",
              "      <td>45</td>\n",
              "      <td>19</td>\n",
              "      <td>34</td>\n",
              "      <td>3</td>\n",
              "      <td>1.5</td>\n",
              "      <td>0</td>\n",
              "      <td>0</td>\n",
              "      <td>1</td>\n",
              "      <td>0</td>\n",
              "      <td>0</td>\n",
              "      <td>0</td>\n",
              "      <td>1</td>\n",
              "      <td>0</td>\n",
              "      <td>0</td>\n",
              "    </tr>\n",
              "    <tr>\n",
              "      <th>2</th>\n",
              "      <td>39</td>\n",
              "      <td>15</td>\n",
              "      <td>11</td>\n",
              "      <td>1</td>\n",
              "      <td>1.0</td>\n",
              "      <td>0</td>\n",
              "      <td>0</td>\n",
              "      <td>0</td>\n",
              "      <td>0</td>\n",
              "      <td>0</td>\n",
              "      <td>0</td>\n",
              "      <td>1</td>\n",
              "      <td>0</td>\n",
              "      <td>0</td>\n",
              "    </tr>\n",
              "    <tr>\n",
              "      <th>3</th>\n",
              "      <td>35</td>\n",
              "      <td>9</td>\n",
              "      <td>100</td>\n",
              "      <td>1</td>\n",
              "      <td>2.7</td>\n",
              "      <td>0</td>\n",
              "      <td>0</td>\n",
              "      <td>0</td>\n",
              "      <td>0</td>\n",
              "      <td>0</td>\n",
              "      <td>0</td>\n",
              "      <td>0</td>\n",
              "      <td>1</td>\n",
              "      <td>0</td>\n",
              "    </tr>\n",
              "    <tr>\n",
              "      <th>4</th>\n",
              "      <td>35</td>\n",
              "      <td>8</td>\n",
              "      <td>45</td>\n",
              "      <td>4</td>\n",
              "      <td>1.0</td>\n",
              "      <td>0</td>\n",
              "      <td>0</td>\n",
              "      <td>0</td>\n",
              "      <td>0</td>\n",
              "      <td>0</td>\n",
              "      <td>1</td>\n",
              "      <td>0</td>\n",
              "      <td>1</td>\n",
              "      <td>0</td>\n",
              "    </tr>\n",
              "  </tbody>\n",
              "</table>\n",
              "</div>"
            ],
            "text/plain": [
              "   Age  Experience  Income  ...  Education_1  Education_2  Education_3\n",
              "0   25           1      49  ...            1            0            0\n",
              "1   45          19      34  ...            1            0            0\n",
              "2   39          15      11  ...            1            0            0\n",
              "3   35           9     100  ...            0            1            0\n",
              "4   35           8      45  ...            0            1            0\n",
              "\n",
              "[5 rows x 14 columns]"
            ]
          },
          "metadata": {
            "tags": []
          },
          "execution_count": 8
        }
      ]
    },
    {
      "cell_type": "markdown",
      "metadata": {
        "id": "yddz3CCHzGNU"
      },
      "source": [
        "#### split dataset into training (60%) and validation (40%) sets"
      ]
    },
    {
      "cell_type": "code",
      "metadata": {
        "tags": [],
        "id": "914vJDArzGNU",
        "outputId": "ea60e102-8246-48f8-9f23-a88346893d30",
        "colab": {
          "base_uri": "https://localhost:8080/",
          "height": 0
        }
      },
      "source": [
        "train_df, validation_df = train_test_split(bank_df, test_size=0.4, random_state=1)\n",
        "print('Training set:', train_df.shape, 'Validation set:', validation_df.shape)"
      ],
      "execution_count": 9,
      "outputs": [
        {
          "output_type": "stream",
          "text": [
            "Training set: (3000, 14) Validation set: (2000, 14)\n"
          ],
          "name": "stdout"
        }
      ]
    },
    {
      "cell_type": "markdown",
      "metadata": {
        "id": "VzbJwGGKzGNY"
      },
      "source": [
        "#### Create a dataframe and store a new customer"
      ]
    },
    {
      "cell_type": "code",
      "metadata": {
        "id": "_pDMaFptzGNY",
        "outputId": "5adb3af7-0181-43cc-cfb3-b5b42348e8f0",
        "colab": {
          "base_uri": "https://localhost:8080/",
          "height": 0
        }
      },
      "source": [
        "newCustomer = pd.DataFrame([{'Age': 40, 'Experience': 10, 'Income': 84, 'Family': 2, 'CCAvg': 2, 'Mortgage': 0,\n",
        "                             'Securities_Account': 0, 'CD_Account': 0, 'Online': 1, 'CreditCard': 1, 'Education_1': 0, \n",
        "                             'Education_2': 1, 'Education_3': 0}])\n",
        "newCustomer"
      ],
      "execution_count": 10,
      "outputs": [
        {
          "output_type": "execute_result",
          "data": {
            "text/html": [
              "<div>\n",
              "<style scoped>\n",
              "    .dataframe tbody tr th:only-of-type {\n",
              "        vertical-align: middle;\n",
              "    }\n",
              "\n",
              "    .dataframe tbody tr th {\n",
              "        vertical-align: top;\n",
              "    }\n",
              "\n",
              "    .dataframe thead th {\n",
              "        text-align: right;\n",
              "    }\n",
              "</style>\n",
              "<table border=\"1\" class=\"dataframe\">\n",
              "  <thead>\n",
              "    <tr style=\"text-align: right;\">\n",
              "      <th></th>\n",
              "      <th>Age</th>\n",
              "      <th>Experience</th>\n",
              "      <th>Income</th>\n",
              "      <th>Family</th>\n",
              "      <th>CCAvg</th>\n",
              "      <th>Mortgage</th>\n",
              "      <th>Securities_Account</th>\n",
              "      <th>CD_Account</th>\n",
              "      <th>Online</th>\n",
              "      <th>CreditCard</th>\n",
              "      <th>Education_1</th>\n",
              "      <th>Education_2</th>\n",
              "      <th>Education_3</th>\n",
              "    </tr>\n",
              "  </thead>\n",
              "  <tbody>\n",
              "    <tr>\n",
              "      <th>0</th>\n",
              "      <td>40</td>\n",
              "      <td>10</td>\n",
              "      <td>84</td>\n",
              "      <td>2</td>\n",
              "      <td>2</td>\n",
              "      <td>0</td>\n",
              "      <td>0</td>\n",
              "      <td>0</td>\n",
              "      <td>1</td>\n",
              "      <td>1</td>\n",
              "      <td>0</td>\n",
              "      <td>1</td>\n",
              "      <td>0</td>\n",
              "    </tr>\n",
              "  </tbody>\n",
              "</table>\n",
              "</div>"
            ],
            "text/plain": [
              "   Age  Experience  Income  ...  Education_1  Education_2  Education_3\n",
              "0   40          10      84  ...            0            1            0\n",
              "\n",
              "[1 rows x 13 columns]"
            ]
          },
          "metadata": {
            "tags": []
          },
          "execution_count": 10
        }
      ]
    },
    {
      "cell_type": "markdown",
      "metadata": {
        "id": "XCLQ5hf4zGNc"
      },
      "source": [
        "### Part B"
      ]
    },
    {
      "cell_type": "code",
      "metadata": {
        "id": "UuhgKSaD5lTp"
      },
      "source": [
        ""
      ],
      "execution_count": 10,
      "outputs": []
    },
    {
      "cell_type": "markdown",
      "metadata": {
        "id": "C3rezMidzGNc"
      },
      "source": [
        "#### Perform a k-NN classification with all predictors (except ID and ZIP, which you should have dropped in Step A) using k = 1.\n"
      ]
    },
    {
      "cell_type": "markdown",
      "metadata": {
        "id": "hmDOP1nlzGNd"
      },
      "source": [
        "As discussed in class, k-NN can be especially sensitive to variables with different scales. Therefore, we first need to use one of the methods covered in class to transform our variables to a common scale. For this analysis, I've chosen standardization (this is the same method that was used in the sample code)"
      ]
    },
    {
      "cell_type": "markdown",
      "metadata": {
        "id": "guR9Sx5ODlr2"
      },
      "source": [
        "##### Transform our input (predictor variables)."
      ]
    },
    {
      "cell_type": "code",
      "metadata": {
        "tags": [],
        "id": "L20aGslgzGNh"
      },
      "source": [
        "# to reduce repetition in later code, let's create variables to represent the columns\n",
        "# that are our predictors, and outcome\n",
        "target = 'Personal_Loan'\n",
        "predictors = list(bank_df.columns)\n",
        "predictors.remove(target)\n",
        "\n",
        "# create a standard scaler and fit it to the training set of predictors\n",
        "scaler = preprocessing.StandardScaler()\n",
        "scaler.fit(train_df[predictors])\n",
        "\n",
        "# Transform the predictors of training, validation and newCustomer\n",
        "train_predictors = scaler.transform(train_df[predictors])\n",
        "train_target = train_df[target]\n",
        "validation_predictors = scaler.transform(validation_df[predictors])\n",
        "validation_target = validation_df[target]\n",
        "\n",
        "# Transform the the newCutomerNorm data using our scaler (note that all the data\n",
        "# are predictor columns -- we don't know what the outcome for this customer is. \n",
        "# We'll use our classifier to predict is this customer is a likely Loan Customer)\n",
        "newCustomerNorm = pd.DataFrame(scaler.transform(newCustomer), columns=predictors)"
      ],
      "execution_count": 11,
      "outputs": []
    },
    {
      "cell_type": "markdown",
      "metadata": {
        "id": "_2nvOt2-Dtx8"
      },
      "source": [
        "Train a 1-NN classifier using our Standardized training set predictor variables"
      ]
    },
    {
      "cell_type": "code",
      "metadata": {
        "id": "33RG0ZHszGNj",
        "outputId": "ad86ba36-a892-4023-bf94-ef15ce5ad309",
        "colab": {
          "base_uri": "https://localhost:8080/",
          "height": 0
        }
      },
      "source": [
        "# k-NN using k = 1\n",
        "knn = KNeighborsClassifier(n_neighbors=1)\n",
        "knn.fit(train_predictors, train_target)"
      ],
      "execution_count": 12,
      "outputs": [
        {
          "output_type": "execute_result",
          "data": {
            "text/plain": [
              "KNeighborsClassifier(algorithm='auto', leaf_size=30, metric='minkowski',\n",
              "                     metric_params=None, n_jobs=None, n_neighbors=1, p=2,\n",
              "                     weights='uniform')"
            ]
          },
          "metadata": {
            "tags": []
          },
          "execution_count": 12
        }
      ]
    },
    {
      "cell_type": "markdown",
      "metadata": {
        "id": "_Me6oCq4ECsd"
      },
      "source": [
        "#### Predict if the new customer will be a Personal Loan customer using our new 1-NN classifier."
      ]
    },
    {
      "cell_type": "code",
      "metadata": {
        "id": "jk3N44m5zGNl",
        "outputId": "52851896-8caf-4b06-82f0-cdeb01972d71",
        "colab": {
          "base_uri": "https://localhost:8080/",
          "height": 0
        }
      },
      "source": [
        "# predicted class\n",
        "knn.predict(newCustomerNorm)"
      ],
      "execution_count": 13,
      "outputs": [
        {
          "output_type": "execute_result",
          "data": {
            "text/plain": [
              "array([0])"
            ]
          },
          "metadata": {
            "tags": []
          },
          "execution_count": 13
        }
      ]
    },
    {
      "cell_type": "markdown",
      "metadata": {
        "id": "OsK3sUD5zGNo"
      },
      "source": [
        "New customer is predicted to not accept a loan offer."
      ]
    },
    {
      "cell_type": "markdown",
      "metadata": {
        "id": "CYRCqt6fzGNo"
      },
      "source": [
        "### Part C"
      ]
    },
    {
      "cell_type": "markdown",
      "metadata": {
        "id": "hyLkeDr_zGNp"
      },
      "source": [
        "#### What is a choice of k that balances between overfitting and ignoring the predictor information?"
      ]
    },
    {
      "cell_type": "code",
      "metadata": {
        "id": "ZX2KrW18zGNp",
        "outputId": "81b03d81-5eb9-4aae-ae23-97f594d04cf9",
        "colab": {
          "base_uri": "https://localhost:8080/",
          "height": 1000
        }
      },
      "source": [
        "# Train a classifier for different values of k\n",
        "results = []\n",
        "for k in range(1, 100, 2):\n",
        "    knn = KNeighborsClassifier(n_neighbors=k)\n",
        "    knn.fit(train_predictors, train_target)\n",
        "    results.append({\n",
        "        'k': k,\n",
        "        'accuracy': accuracy_score(validation_target, knn.predict(validation_predictors))\n",
        "    })\n",
        "\n",
        "# Convert results to a pandas data frame\n",
        "results = pd.DataFrame(results)\n",
        "results"
      ],
      "execution_count": 14,
      "outputs": [
        {
          "output_type": "execute_result",
          "data": {
            "text/html": [
              "<div>\n",
              "<style scoped>\n",
              "    .dataframe tbody tr th:only-of-type {\n",
              "        vertical-align: middle;\n",
              "    }\n",
              "\n",
              "    .dataframe tbody tr th {\n",
              "        vertical-align: top;\n",
              "    }\n",
              "\n",
              "    .dataframe thead th {\n",
              "        text-align: right;\n",
              "    }\n",
              "</style>\n",
              "<table border=\"1\" class=\"dataframe\">\n",
              "  <thead>\n",
              "    <tr style=\"text-align: right;\">\n",
              "      <th></th>\n",
              "      <th>k</th>\n",
              "      <th>accuracy</th>\n",
              "    </tr>\n",
              "  </thead>\n",
              "  <tbody>\n",
              "    <tr>\n",
              "      <th>0</th>\n",
              "      <td>1</td>\n",
              "      <td>0.9545</td>\n",
              "    </tr>\n",
              "    <tr>\n",
              "      <th>1</th>\n",
              "      <td>3</td>\n",
              "      <td>0.9535</td>\n",
              "    </tr>\n",
              "    <tr>\n",
              "      <th>2</th>\n",
              "      <td>5</td>\n",
              "      <td>0.9565</td>\n",
              "    </tr>\n",
              "    <tr>\n",
              "      <th>3</th>\n",
              "      <td>7</td>\n",
              "      <td>0.9520</td>\n",
              "    </tr>\n",
              "    <tr>\n",
              "      <th>4</th>\n",
              "      <td>9</td>\n",
              "      <td>0.9475</td>\n",
              "    </tr>\n",
              "    <tr>\n",
              "      <th>5</th>\n",
              "      <td>11</td>\n",
              "      <td>0.9465</td>\n",
              "    </tr>\n",
              "    <tr>\n",
              "      <th>6</th>\n",
              "      <td>13</td>\n",
              "      <td>0.9450</td>\n",
              "    </tr>\n",
              "    <tr>\n",
              "      <th>7</th>\n",
              "      <td>15</td>\n",
              "      <td>0.9440</td>\n",
              "    </tr>\n",
              "    <tr>\n",
              "      <th>8</th>\n",
              "      <td>17</td>\n",
              "      <td>0.9415</td>\n",
              "    </tr>\n",
              "    <tr>\n",
              "      <th>9</th>\n",
              "      <td>19</td>\n",
              "      <td>0.9405</td>\n",
              "    </tr>\n",
              "    <tr>\n",
              "      <th>10</th>\n",
              "      <td>21</td>\n",
              "      <td>0.9415</td>\n",
              "    </tr>\n",
              "    <tr>\n",
              "      <th>11</th>\n",
              "      <td>23</td>\n",
              "      <td>0.9375</td>\n",
              "    </tr>\n",
              "    <tr>\n",
              "      <th>12</th>\n",
              "      <td>25</td>\n",
              "      <td>0.9355</td>\n",
              "    </tr>\n",
              "    <tr>\n",
              "      <th>13</th>\n",
              "      <td>27</td>\n",
              "      <td>0.9350</td>\n",
              "    </tr>\n",
              "    <tr>\n",
              "      <th>14</th>\n",
              "      <td>29</td>\n",
              "      <td>0.9350</td>\n",
              "    </tr>\n",
              "    <tr>\n",
              "      <th>15</th>\n",
              "      <td>31</td>\n",
              "      <td>0.9355</td>\n",
              "    </tr>\n",
              "    <tr>\n",
              "      <th>16</th>\n",
              "      <td>33</td>\n",
              "      <td>0.9350</td>\n",
              "    </tr>\n",
              "    <tr>\n",
              "      <th>17</th>\n",
              "      <td>35</td>\n",
              "      <td>0.9350</td>\n",
              "    </tr>\n",
              "    <tr>\n",
              "      <th>18</th>\n",
              "      <td>37</td>\n",
              "      <td>0.9335</td>\n",
              "    </tr>\n",
              "    <tr>\n",
              "      <th>19</th>\n",
              "      <td>39</td>\n",
              "      <td>0.9335</td>\n",
              "    </tr>\n",
              "    <tr>\n",
              "      <th>20</th>\n",
              "      <td>41</td>\n",
              "      <td>0.9330</td>\n",
              "    </tr>\n",
              "    <tr>\n",
              "      <th>21</th>\n",
              "      <td>43</td>\n",
              "      <td>0.9330</td>\n",
              "    </tr>\n",
              "    <tr>\n",
              "      <th>22</th>\n",
              "      <td>45</td>\n",
              "      <td>0.9330</td>\n",
              "    </tr>\n",
              "    <tr>\n",
              "      <th>23</th>\n",
              "      <td>47</td>\n",
              "      <td>0.9325</td>\n",
              "    </tr>\n",
              "    <tr>\n",
              "      <th>24</th>\n",
              "      <td>49</td>\n",
              "      <td>0.9315</td>\n",
              "    </tr>\n",
              "    <tr>\n",
              "      <th>25</th>\n",
              "      <td>51</td>\n",
              "      <td>0.9310</td>\n",
              "    </tr>\n",
              "    <tr>\n",
              "      <th>26</th>\n",
              "      <td>53</td>\n",
              "      <td>0.9315</td>\n",
              "    </tr>\n",
              "    <tr>\n",
              "      <th>27</th>\n",
              "      <td>55</td>\n",
              "      <td>0.9315</td>\n",
              "    </tr>\n",
              "    <tr>\n",
              "      <th>28</th>\n",
              "      <td>57</td>\n",
              "      <td>0.9300</td>\n",
              "    </tr>\n",
              "    <tr>\n",
              "      <th>29</th>\n",
              "      <td>59</td>\n",
              "      <td>0.9295</td>\n",
              "    </tr>\n",
              "    <tr>\n",
              "      <th>30</th>\n",
              "      <td>61</td>\n",
              "      <td>0.9280</td>\n",
              "    </tr>\n",
              "    <tr>\n",
              "      <th>31</th>\n",
              "      <td>63</td>\n",
              "      <td>0.9285</td>\n",
              "    </tr>\n",
              "    <tr>\n",
              "      <th>32</th>\n",
              "      <td>65</td>\n",
              "      <td>0.9270</td>\n",
              "    </tr>\n",
              "    <tr>\n",
              "      <th>33</th>\n",
              "      <td>67</td>\n",
              "      <td>0.9260</td>\n",
              "    </tr>\n",
              "    <tr>\n",
              "      <th>34</th>\n",
              "      <td>69</td>\n",
              "      <td>0.9245</td>\n",
              "    </tr>\n",
              "    <tr>\n",
              "      <th>35</th>\n",
              "      <td>71</td>\n",
              "      <td>0.9250</td>\n",
              "    </tr>\n",
              "    <tr>\n",
              "      <th>36</th>\n",
              "      <td>73</td>\n",
              "      <td>0.9235</td>\n",
              "    </tr>\n",
              "    <tr>\n",
              "      <th>37</th>\n",
              "      <td>75</td>\n",
              "      <td>0.9235</td>\n",
              "    </tr>\n",
              "    <tr>\n",
              "      <th>38</th>\n",
              "      <td>77</td>\n",
              "      <td>0.9230</td>\n",
              "    </tr>\n",
              "    <tr>\n",
              "      <th>39</th>\n",
              "      <td>79</td>\n",
              "      <td>0.9225</td>\n",
              "    </tr>\n",
              "    <tr>\n",
              "      <th>40</th>\n",
              "      <td>81</td>\n",
              "      <td>0.9235</td>\n",
              "    </tr>\n",
              "    <tr>\n",
              "      <th>41</th>\n",
              "      <td>83</td>\n",
              "      <td>0.9215</td>\n",
              "    </tr>\n",
              "    <tr>\n",
              "      <th>42</th>\n",
              "      <td>85</td>\n",
              "      <td>0.9210</td>\n",
              "    </tr>\n",
              "    <tr>\n",
              "      <th>43</th>\n",
              "      <td>87</td>\n",
              "      <td>0.9195</td>\n",
              "    </tr>\n",
              "    <tr>\n",
              "      <th>44</th>\n",
              "      <td>89</td>\n",
              "      <td>0.9190</td>\n",
              "    </tr>\n",
              "    <tr>\n",
              "      <th>45</th>\n",
              "      <td>91</td>\n",
              "      <td>0.9185</td>\n",
              "    </tr>\n",
              "    <tr>\n",
              "      <th>46</th>\n",
              "      <td>93</td>\n",
              "      <td>0.9195</td>\n",
              "    </tr>\n",
              "    <tr>\n",
              "      <th>47</th>\n",
              "      <td>95</td>\n",
              "      <td>0.9175</td>\n",
              "    </tr>\n",
              "    <tr>\n",
              "      <th>48</th>\n",
              "      <td>97</td>\n",
              "      <td>0.9180</td>\n",
              "    </tr>\n",
              "    <tr>\n",
              "      <th>49</th>\n",
              "      <td>99</td>\n",
              "      <td>0.9170</td>\n",
              "    </tr>\n",
              "  </tbody>\n",
              "</table>\n",
              "</div>"
            ],
            "text/plain": [
              "     k  accuracy\n",
              "0    1    0.9545\n",
              "1    3    0.9535\n",
              "2    5    0.9565\n",
              "3    7    0.9520\n",
              "4    9    0.9475\n",
              "5   11    0.9465\n",
              "6   13    0.9450\n",
              "7   15    0.9440\n",
              "8   17    0.9415\n",
              "9   19    0.9405\n",
              "10  21    0.9415\n",
              "11  23    0.9375\n",
              "12  25    0.9355\n",
              "13  27    0.9350\n",
              "14  29    0.9350\n",
              "15  31    0.9355\n",
              "16  33    0.9350\n",
              "17  35    0.9350\n",
              "18  37    0.9335\n",
              "19  39    0.9335\n",
              "20  41    0.9330\n",
              "21  43    0.9330\n",
              "22  45    0.9330\n",
              "23  47    0.9325\n",
              "24  49    0.9315\n",
              "25  51    0.9310\n",
              "26  53    0.9315\n",
              "27  55    0.9315\n",
              "28  57    0.9300\n",
              "29  59    0.9295\n",
              "30  61    0.9280\n",
              "31  63    0.9285\n",
              "32  65    0.9270\n",
              "33  67    0.9260\n",
              "34  69    0.9245\n",
              "35  71    0.9250\n",
              "36  73    0.9235\n",
              "37  75    0.9235\n",
              "38  77    0.9230\n",
              "39  79    0.9225\n",
              "40  81    0.9235\n",
              "41  83    0.9215\n",
              "42  85    0.9210\n",
              "43  87    0.9195\n",
              "44  89    0.9190\n",
              "45  91    0.9185\n",
              "46  93    0.9195\n",
              "47  95    0.9175\n",
              "48  97    0.9180\n",
              "49  99    0.9170"
            ]
          },
          "metadata": {
            "tags": []
          },
          "execution_count": 14
        }
      ]
    },
    {
      "cell_type": "markdown",
      "metadata": {
        "id": "8HOWk9K8zGNq"
      },
      "source": [
        "Though it's not necessary, I have plotted these results to more easily see which value of k we might choose. "
      ]
    },
    {
      "cell_type": "code",
      "metadata": {
        "id": "ekAWEQErzGNr",
        "outputId": "ec99b92b-46d3-4a7f-ab84-218b9f0a477e",
        "colab": {
          "base_uri": "https://localhost:8080/",
          "height": 279
        }
      },
      "source": [
        "# plot accuracy vs. k\n",
        "_ = results.plot.scatter(x='k', y='accuracy', xlim=[0, 60])"
      ],
      "execution_count": 17,
      "outputs": [
        {
          "output_type": "display_data",
          "data": {
            "image/png": "[encoded data removed]",
            "text/plain": [
              "<Figure size 432x288 with 1 Axes>"
            ]
          },
          "metadata": {
            "tags": [],
            "needs_background": "light"
          }
        }
      ]
    },
    {
      "cell_type": "markdown",
      "metadata": {
        "id": "djb__i6rzGNs"
      },
      "source": [
        "We choose the best k, which minimizes the misclassification rate in the validation set. Our best k is `k=5`"
      ]
    },
    {
      "cell_type": "markdown",
      "metadata": {
        "id": "Stqr6CLMGCtd"
      },
      "source": [
        "#### Extra: See what our prediction would be with k=5"
      ]
    },
    {
      "cell_type": "code",
      "metadata": {
        "id": "ah1mhNGrF0he",
        "outputId": "593d8eb2-acd9-4895-edc0-113ccb2a4aaa",
        "colab": {
          "base_uri": "https://localhost:8080/",
          "height": 34
        }
      },
      "source": [
        "knn = KNeighborsClassifier(n_neighbors=5)\n",
        "knn.fit(train_predictors, train_target)\n",
        "knn.predict(newCustomerNorm)"
      ],
      "execution_count": 16,
      "outputs": [
        {
          "output_type": "execute_result",
          "data": {
            "text/plain": [
              "array([0])"
            ]
          },
          "metadata": {
            "tags": []
          },
          "execution_count": 16
        }
      ]
    },
    {
      "cell_type": "markdown",
      "metadata": {
        "id": "IlcaObkAF0IV"
      },
      "source": [
        "We see that this classifier also prediccted that this customer will not be a Loan Customer. As a general rule, choose the lowest k value that produces the lowest misclassification rate. When the miscalculation rate is almost equal between two or more k-values, choose the lower value."
      ]
    }
  ]
}