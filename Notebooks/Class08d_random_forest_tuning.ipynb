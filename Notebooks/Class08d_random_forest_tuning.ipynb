{
  "nbformat": 4,
  "nbformat_minor": 0,
  "metadata": {
    "kernelspec": {
      "display_name": "Python 3",
      "language": "python",
      "name": "python3"
    },
    "language_info": {
      "codemirror_mode": {
        "name": "ipython",
        "version": 3
      },
      "file_extension": ".py",
      "mimetype": "text/x-python",
      "name": "python",
      "nbconvert_exporter": "python",
      "pygments_lexer": "ipython3",
      "version": "3.8.3"
    },
    "colab": {
      "name": "Class08d-random_forest_tuning.ipynb",
      "provenance": [],
      "collapsed_sections": [],
      "machine_shape": "hm",
      "include_colab_link": true
    },
    "accelerator": "TPU"
  },
  "cells": [
    {
      "cell_type": "markdown",
      "metadata": {
        "id": "view-in-github",
        "colab_type": "text"
      },
      "source": [
        "<a href=\"https://colab.research.google.com/github/timcsmith/MIS536-Public/blob/master/Notebooks/Class08d_random_forest_tuning.ipynb\" target=\"_parent\"><img src=\"https://colab.research.google.com/assets/colab-badge.svg\" alt=\"Open In Colab\"/></a>"
      ]
    },
    {
      "cell_type": "markdown",
      "metadata": {
        "id": "LxGJbLsUhuc8"
      },
      "source": [
        "# Class08d - Prediction using Random Forests (with Hyperparameter Tuning)"
      ]
    },
    {
      "cell_type": "markdown",
      "metadata": {
        "id": "-tuXRZKEYrDa"
      },
      "source": [
        "## Introduction and Overview\n"
      ]
    },
    {
      "cell_type": "markdown",
      "metadata": {
        "id": "q08EVUytY3eh"
      },
      "source": [
        "\n",
        "In this project, we reuse the [UCI's Machine Learning Repository](https://archive.ics.uci.edu/ml/datasets/census+income) census data.\n",
        "\n",
        "The first section of this exercise is a duplicate of the previous Class08-random-forest-default.ipynb. The second section demonstrates how we can use hyper parameter tuning techniques to identify the best performing parameters for the given model (in this case, Random Forests).\n"
      ]
    },
    {
      "cell_type": "markdown",
      "metadata": {
        "id": "d2A_u7rQhuc_"
      },
      "source": [
        "\n",
        "# Section 1: Prediction with Random Forests (using default parameters)\n",
        "\n"
      ]
    },
    {
      "cell_type": "markdown",
      "metadata": {
        "id": "kmYLcm3aY8X5"
      },
      "source": [
        "## Step 1: Install and import necessary packages"
      ]
    },
    {
      "cell_type": "markdown",
      "metadata": {
        "id": "qaYulo3PeZvs"
      },
      "source": [
        ""
      ]
    },
    {
      "cell_type": "code",
      "metadata": {
        "id": "8zNdljvIhuc8"
      },
      "source": [
        "# import packages\n",
        "import pandas as pd\n",
        "from sklearn.model_selection import train_test_split\n",
        "from sklearn.ensemble import RandomForestClassifier\n",
        "from sklearn.metrics import confusion_matrix, accuracy_score, precision_score, recall_score\n",
        "from sklearn.model_selection import GridSearchCV, RandomizedSearchCV\n",
        "import numpy as np"
      ],
      "execution_count": null,
      "outputs": []
    },
    {
      "cell_type": "markdown",
      "metadata": {
        "id": "TmP3fttHqieO"
      },
      "source": [
        "## Step 2: Load, clean and prepare data\n"
      ]
    },
    {
      "cell_type": "markdown",
      "metadata": {
        "id": "sGgrXNQPZT3J"
      },
      "source": [
        "### 2.1 Read data (income.csv)"
      ]
    },
    {
      "cell_type": "code",
      "metadata": {
        "id": "q3u5LsGyhudA"
      },
      "source": [
        "income_df = pd.read_csv(\"https://raw.githubusercontent.com/timcsmith/MIS536-Public/master/Data/income.csv\", engine='python', delimiter=\", \")"
      ],
      "execution_count": null,
      "outputs": []
    },
    {
      "cell_type": "markdown",
      "metadata": {
        "id": "2aOH_GFGZZFx"
      },
      "source": [
        "### 2.2 Explore the dataset"
      ]
    },
    {
      "cell_type": "code",
      "metadata": {
        "id": "OkUM_mnHhudC",
        "outputId": "59cbf967-3e59-40bf-b345-e26c8eecec74",
        "colab": {
          "base_uri": "https://localhost:8080/",
          "height": 816
        }
      },
      "source": [
        "# Explore the dataset\n",
        "# read the first row of the dataset \n",
        "print(income_df.head())\n",
        "print(income_df.columns)\n",
        "print(income_df.describe())\n",
        "print(income_df.info())"
      ],
      "execution_count": null,
      "outputs": [
        {
          "output_type": "stream",
          "text": [
            "   age         workclass  fnlwgt  ... hours-per-week  native-country income\n",
            "0   39         State-gov   77516  ...             40   United-States  <=50K\n",
            "1   50  Self-emp-not-inc   83311  ...             13   United-States  <=50K\n",
            "2   38           Private  215646  ...             40   United-States  <=50K\n",
            "3   53           Private  234721  ...             40   United-States  <=50K\n",
            "4   28           Private  338409  ...             40            Cuba  <=50K\n",
            "\n",
            "[5 rows x 15 columns]\n",
            "Index(['age', 'workclass', 'fnlwgt', 'education', 'education-num',\n",
            "       'marital-status', 'occupation', 'relationship', 'race', 'sex',\n",
            "       'capital-gain', 'capital-loss', 'hours-per-week', 'native-country',\n",
            "       'income'],\n",
            "      dtype='object')\n",
            "                age        fnlwgt  ...  capital-loss  hours-per-week\n",
            "count  32561.000000  3.256100e+04  ...  32561.000000    32561.000000\n",
            "mean      38.581647  1.897784e+05  ...     87.303830       40.437456\n",
            "std       13.640433  1.055500e+05  ...    402.960219       12.347429\n",
            "min       17.000000  1.228500e+04  ...      0.000000        1.000000\n",
            "25%       28.000000  1.178270e+05  ...      0.000000       40.000000\n",
            "50%       37.000000  1.783560e+05  ...      0.000000       40.000000\n",
            "75%       48.000000  2.370510e+05  ...      0.000000       45.000000\n",
            "max       90.000000  1.484705e+06  ...   4356.000000       99.000000\n",
            "\n",
            "[8 rows x 6 columns]\n",
            "<class 'pandas.core.frame.DataFrame'>\n",
            "RangeIndex: 32561 entries, 0 to 32560\n",
            "Data columns (total 15 columns):\n",
            " #   Column          Non-Null Count  Dtype \n",
            "---  ------          --------------  ----- \n",
            " 0   age             32561 non-null  int64 \n",
            " 1   workclass       32561 non-null  object\n",
            " 2   fnlwgt          32561 non-null  int64 \n",
            " 3   education       32561 non-null  object\n",
            " 4   education-num   32561 non-null  int64 \n",
            " 5   marital-status  32561 non-null  object\n",
            " 6   occupation      32561 non-null  object\n",
            " 7   relationship    32561 non-null  object\n",
            " 8   race            32561 non-null  object\n",
            " 9   sex             32561 non-null  object\n",
            " 10  capital-gain    32561 non-null  int64 \n",
            " 11  capital-loss    32561 non-null  int64 \n",
            " 12  hours-per-week  32561 non-null  int64 \n",
            " 13  native-country  32561 non-null  object\n",
            " 14  income          32561 non-null  object\n",
            "dtypes: int64(6), object(9)\n",
            "memory usage: 3.7+ MB\n",
            "None\n"
          ],
          "name": "stdout"
        }
      ]
    },
    {
      "cell_type": "markdown",
      "metadata": {
        "id": "AiaaNFX2Zf-I"
      },
      "source": [
        "### 2.3 Clean/transform data (where necessary)"
      ]
    },
    {
      "cell_type": "code",
      "metadata": {
        "id": "3JuJlVGDkINJ",
        "outputId": "f12777ae-10e5-458b-df44-0eba9be258ca",
        "colab": {
          "base_uri": "https://localhost:8080/",
          "height": 102
        }
      },
      "source": [
        "# based on findings from data exploration, we need to clean up colum names, as there are some leading whitespace characters\n",
        "income_df.columns = [s.strip() for s in income_df.columns] \n",
        "income_df.columns"
      ],
      "execution_count": null,
      "outputs": [
        {
          "output_type": "execute_result",
          "data": {
            "text/plain": [
              "Index(['age', 'workclass', 'fnlwgt', 'education', 'education-num',\n",
              "       'marital-status', 'occupation', 'relationship', 'race', 'sex',\n",
              "       'capital-gain', 'capital-loss', 'hours-per-week', 'native-country',\n",
              "       'income'],\n",
              "      dtype='object')"
            ]
          },
          "metadata": {
            "tags": []
          },
          "execution_count": 21
        }
      ]
    },
    {
      "cell_type": "code",
      "metadata": {
        "id": "KyUKMZqohudE",
        "outputId": "0029f475-dded-4488-e280-33d32d7f3f42",
        "colab": {
          "base_uri": "https://localhost:8080/",
          "height": 221
        }
      },
      "source": [
        "# clean the datast: sex is not numeric.\n",
        "income_df.sex = income_df.sex.replace(\"Male\", 0, regex=True)\n",
        "income_df.sex = income_df.sex.replace(\"Female\", 1, regex=True)\n",
        "income_df.sex"
      ],
      "execution_count": null,
      "outputs": [
        {
          "output_type": "execute_result",
          "data": {
            "text/plain": [
              "0        0\n",
              "1        0\n",
              "2        0\n",
              "3        0\n",
              "4        1\n",
              "        ..\n",
              "32556    1\n",
              "32557    0\n",
              "32558    1\n",
              "32559    0\n",
              "32560    1\n",
              "Name: sex, Length: 32561, dtype: int64"
            ]
          },
          "metadata": {
            "tags": []
          },
          "execution_count": 22
        }
      ]
    },
    {
      "cell_type": "code",
      "metadata": {
        "id": "u7_FPefb34E3"
      },
      "source": [
        "# Transform our predictors into integers. This is necessary if we later want to test precision and recall. \n",
        "income_df.income.unique()\n",
        "income_df.income = income_df.income.replace(\"<=50K\", 0, regex=True)\n",
        "income_df.income = income_df.income.replace(\">50K\", 1, regex=True)\n"
      ],
      "execution_count": null,
      "outputs": []
    },
    {
      "cell_type": "markdown",
      "metadata": {
        "id": "ZKY30W1pZxCP"
      },
      "source": [
        "## Step 3 Split data intro training and validation sets"
      ]
    },
    {
      "cell_type": "code",
      "metadata": {
        "id": "d0fAfB0ThudG",
        "outputId": "e061e59f-7af9-4db7-b7a5-affce2d13f8e",
        "colab": {
          "base_uri": "https://localhost:8080/",
          "height": 459
        }
      },
      "source": [
        "# construct datasets for analysis\n",
        "target = 'income'\n",
        "predictors = ['age', 'sex', 'capital-gain', 'capital-loss', 'hours-per-week']\n",
        "X = income_df[predictors]\n",
        "y = income_df[target]\n",
        "print(X)\n",
        "print(y)"
      ],
      "execution_count": null,
      "outputs": [
        {
          "output_type": "stream",
          "text": [
            "       age  sex  capital-gain  capital-loss  hours-per-week\n",
            "0       39    0          2174             0              40\n",
            "1       50    0             0             0              13\n",
            "2       38    0             0             0              40\n",
            "3       53    0             0             0              40\n",
            "4       28    1             0             0              40\n",
            "...    ...  ...           ...           ...             ...\n",
            "32556   27    1             0             0              38\n",
            "32557   40    0             0             0              40\n",
            "32558   58    1             0             0              40\n",
            "32559   22    0             0             0              20\n",
            "32560   52    1         15024             0              40\n",
            "\n",
            "[32561 rows x 5 columns]\n",
            "0        0\n",
            "1        0\n",
            "2        0\n",
            "3        0\n",
            "4        0\n",
            "        ..\n",
            "32556    0\n",
            "32557    1\n",
            "32558    0\n",
            "32559    0\n",
            "32560    1\n",
            "Name: income, Length: 32561, dtype: int64\n"
          ],
          "name": "stdout"
        }
      ]
    },
    {
      "cell_type": "code",
      "metadata": {
        "id": "t0DkCAoChudI",
        "outputId": "9e55d319-38b9-428a-9e49-366ef73bc740",
        "colab": {
          "base_uri": "https://localhost:8080/",
          "height": 493
        }
      },
      "source": [
        "# create the training set and the test set \n",
        "train_X, valid_X, train_y, valid_y = train_test_split(X,y, test_size=0.3, random_state=1)\n",
        "print(train_X)\n",
        "print(valid_X)"
      ],
      "execution_count": null,
      "outputs": [
        {
          "output_type": "stream",
          "text": [
            "       age  sex  capital-gain  capital-loss  hours-per-week\n",
            "16525   44    0             0             0              60\n",
            "14551   22    1             0             0              30\n",
            "518     21    1             0             0              35\n",
            "22524   46    0             0             0              40\n",
            "11425   17    0             0             0              20\n",
            "...    ...  ...           ...           ...             ...\n",
            "32511   25    1             0             0              40\n",
            "5192    32    0         15024             0              45\n",
            "12172   27    0             0             0              40\n",
            "235     59    0             0             0              40\n",
            "29733   33    0             0          1902              45\n",
            "\n",
            "[22792 rows x 5 columns]\n",
            "       age  sex  capital-gain  capital-loss  hours-per-week\n",
            "9646    62    1             0             0              66\n",
            "709     18    0             0             0              25\n",
            "7385    25    0         27828             0              50\n",
            "16671   33    0             0             0              40\n",
            "21932   36    1             0             0              40\n",
            "...    ...  ...           ...           ...             ...\n",
            "29663   61    0         15024             0              40\n",
            "29310   22    1             0             0              40\n",
            "29661   37    1          5013             0              40\n",
            "19491   23    0             0             0              40\n",
            "2861    44    1             0             0              40\n",
            "\n",
            "[9769 rows x 5 columns]\n"
          ],
          "name": "stdout"
        }
      ]
    },
    {
      "cell_type": "markdown",
      "metadata": {
        "id": "pSk0zea3qnoz"
      },
      "source": [
        "## Step 4: Create and train model\n"
      ]
    },
    {
      "cell_type": "markdown",
      "metadata": {
        "id": "30gNRdX-qtNT"
      },
      "source": [
        "You can find details about the RandomForestClassifier [here](https://scikit-learn.org/stable/modules/generated/sklearn.ensemble.RandomForestClassifier.html?highlight=randomforestclassifier#sklearn.ensemble.RandomForestClassifier)."
      ]
    },
    {
      "cell_type": "markdown",
      "metadata": {
        "id": "bbPfUmcEXf6K"
      },
      "source": [
        "### 4.1 Create a random forest using all of the default parameters"
      ]
    },
    {
      "cell_type": "code",
      "metadata": {
        "id": "UZ60Vn1AhudK"
      },
      "source": [
        "forest=RandomForestClassifier(random_state=1)"
      ],
      "execution_count": null,
      "outputs": []
    },
    {
      "cell_type": "markdown",
      "metadata": {
        "id": "ntgxBhvJXkjp"
      },
      "source": [
        "### 4.2 Fit the model to the training data"
      ]
    },
    {
      "cell_type": "code",
      "metadata": {
        "id": "xPL4rRlVhudM",
        "outputId": "5c3adeb6-2430-48c8-c87f-7f6a299a387a",
        "colab": {
          "base_uri": "https://localhost:8080/",
          "height": 153
        }
      },
      "source": [
        "forest.fit(train_X, train_y)"
      ],
      "execution_count": null,
      "outputs": [
        {
          "output_type": "execute_result",
          "data": {
            "text/plain": [
              "RandomForestClassifier(bootstrap=True, ccp_alpha=0.0, class_weight=None,\n",
              "                       criterion='gini', max_depth=None, max_features='auto',\n",
              "                       max_leaf_nodes=None, max_samples=None,\n",
              "                       min_impurity_decrease=0.0, min_impurity_split=None,\n",
              "                       min_samples_leaf=1, min_samples_split=2,\n",
              "                       min_weight_fraction_leaf=0.0, n_estimators=100,\n",
              "                       n_jobs=None, oob_score=False, random_state=1, verbose=0,\n",
              "                       warm_start=False)"
            ]
          },
          "metadata": {
            "tags": []
          },
          "execution_count": 27
        }
      ]
    },
    {
      "cell_type": "markdown",
      "metadata": {
        "id": "AMvD4-9wXy_1"
      },
      "source": [
        "### 4.3 Review of the performance of the model on the validation/test data"
      ]
    },
    {
      "cell_type": "code",
      "metadata": {
        "id": "YAcO31dIX7JE",
        "outputId": "ecd6bf10-0532-4671-ba5d-5a74c0a424ca",
        "colab": {
          "base_uri": "https://localhost:8080/",
          "height": 102
        }
      },
      "source": [
        "validation_predictions = forest.predict(valid_X)\n",
        "\n",
        "print(confusion_matrix(valid_y, validation_predictions))\n",
        "print(accuracy_score(valid_y, validation_predictions))\n",
        "print(precision_score(valid_y, validation_predictions))\n",
        "print(recall_score(valid_y, validation_predictions))"
      ],
      "execution_count": null,
      "outputs": [
        {
          "output_type": "stream",
          "text": [
            "[[7118  432]\n",
            " [1263  956]]\n",
            "0.8264919643771113\n",
            "0.6887608069164265\n",
            "0.43082469580892296\n"
          ],
          "name": "stdout"
        }
      ]
    },
    {
      "cell_type": "markdown",
      "metadata": {
        "id": "6HLaMDTwaN9H"
      },
      "source": [
        "## Step 5: Deploy model"
      ]
    },
    {
      "cell_type": "markdown",
      "metadata": {
        "id": "TOnuFI0gaVmd"
      },
      "source": [
        "In this exercise (predicting income), there is no model deployment. Here we develop a model and test is performance on the validation data. \n",
        "\n",
        "What does \"deploying\" a model mean? Up to this point, we've trained a model to our training data, and then estimated the performance of this model on new data by testing it's performance on validation data. \n",
        "\n",
        "In this course, we often stop after building the model. In practice, the model is being built to be \"used\" in some fashion. Using the model is often referred to as \"deploying\" the model. \n",
        "\n",
        "How a model is deployed can vary. It may simply be deployed as a notebook that reads latest predictor data and uses the develped model to make predictions. Or, the model can be deployed inside enterprise decision support software that automatically makes predictions on incoming data. \n"
      ]
    },
    {
      "cell_type": "markdown",
      "metadata": {
        "id": "EouSfy5vIYm8"
      },
      "source": [
        "# Section 2: Prediction with Random Forests (using hyperparmater tuning)\n"
      ]
    },
    {
      "cell_type": "markdown",
      "metadata": {
        "id": "VA3Yw37NeyaU"
      },
      "source": [
        "This section demonstrates how to refine the performance of our random forest model using hyperparameter tuning techniques. \n",
        "\n",
        "This section doesn't duplicate the data loading, cleaning, and splitting of the first section. This section shows how to create and test a random forest classifier using RandomSearchCV and GridSearchCV techniques. \n",
        "\n",
        "Both RandomeSearchCV and GridSearchCV test different model parameters. These help to determine the parameters that produce the best performing model."
      ]
    },
    {
      "cell_type": "markdown",
      "metadata": {
        "id": "AqWYH75ZgZRA"
      },
      "source": [
        "## Step 1: Determine the parameters that can be \"tuned\"\n",
        "\n",
        "You can review the parameters of the model which you're trying to \"tune\". In this case, we're using a RandomForestClassifier. Begin by reviewing the parameters for this model found [here](https://scikit-learn.org/stable/modules/generated/sklearn.ensemble.RandomForestClassifier.html?highlight=randomforestclassifier#sklearn.ensemble.RandomForestClassifier)"
      ]
    },
    {
      "cell_type": "markdown",
      "metadata": {
        "id": "hUIGBpt9gytG"
      },
      "source": [
        "When reviewing these parameters (and understanding something about RandomForests), we can identify the following parameters that could affect model fit. \n",
        "\n",
        "* n_estimators\n",
        "* criterion\n",
        "* max_depth\n",
        "* min_samples_split\n",
        "* min_samples_leaf\n",
        "* max_features\n",
        "* max_leaf_nodes\n",
        "* min_impurity_decrease\n",
        "* bootstrap\n"
      ]
    },
    {
      "cell_type": "markdown",
      "metadata": {
        "id": "I1w-3ddohW8S"
      },
      "source": [
        "### Step 2: Create an initial 'wide' range of possible hyperparameter values\n"
      ]
    },
    {
      "cell_type": "markdown",
      "metadata": {
        "id": "mAal78lyhhEx"
      },
      "source": [
        "Here we create a wide range of possible parameter values for each of the hyperparameters for this model. \n"
      ]
    },
    {
      "cell_type": "code",
      "metadata": {
        "id": "_7C9BvWWIbfg"
      },
      "source": [
        "# Like with k-nn and decision trees, there are a number of hyperparamaters that can be explored \n",
        "\n",
        "# Number of trees in random forest; default is 100\n",
        "n_estimators = [int(x) for x in np.linspace(start = 100, stop = 1000, num = 10)]\n",
        "\n",
        "# Criterion used to guide data splits\n",
        "criterion = ['gini', 'entropy']\n",
        "\n",
        "# Maximum number of levels in tree. If None, then nodes are expanded until all leaves are pure or until all \n",
        "# leaves contain less than min_samples_split samples.\n",
        "# default = None\n",
        "max_depth = [int(x) for x in np.linspace(10, 110, num = 11)]\n",
        "max_depth.append(None)\n",
        "\n",
        "# Minimum number of samples required to split a node\n",
        "# default is 2\n",
        "min_samples_split = [2, 5, 10]\n",
        "\n",
        "# Minimum number of samples required at each leaf node\n",
        "# default = 1 \n",
        "min_samples_leaf = [1, 2, 4]\n",
        "\n",
        "# Number of features to consider at every split\n",
        "# default is auto (which is equivalent to sqrt)\n",
        "max_features = ['auto']\n",
        "\n",
        "# max_leaf_nodes  - Grow trees with max_leaf_nodes in best-first fashion.\n",
        "# If None then unlimited number of leaf nodes.\n",
        "# default=None \n",
        "max_leaf_nodes = [None]\n",
        "\n",
        "# min_impurity_decrease - A node will be split if this split induces a decrease of the impurity greater than or equal to this value.\n",
        "# default=0.0\n",
        "min_impurity_decrease = [0.001, 0.005, 0.01, 0.05]\n",
        "\n",
        "# Method of selecting samples for training each tree\n",
        "# default = True,  If False, the whole dataset is used to build each tree.\n",
        "bootstrap = [True]\n",
        "\n",
        "# Create the random grid\n",
        "param_grid_random = {'n_estimators': n_estimators,\n",
        "                      'criterion': criterion,\n",
        "                      'max_depth': max_depth,\n",
        "                      'min_samples_split': min_samples_split,\n",
        "                      'min_samples_leaf' : min_samples_leaf,\n",
        "                      'max_features': max_features,\n",
        "                      'max_leaf_nodes' : max_leaf_nodes,\n",
        "                      'min_impurity_decrease' : min_impurity_decrease,\n",
        "                      'bootstrap': bootstrap,\n",
        "                     }\n",
        "\n"
      ],
      "execution_count": null,
      "outputs": []
    },
    {
      "cell_type": "markdown",
      "metadata": {
        "id": "hOlUlWyTjFt3"
      },
      "source": [
        "### Step 3: Use Randomize Search to narrow the possible range of parameter values\n"
      ]
    },
    {
      "cell_type": "code",
      "metadata": {
        "id": "D9-MlOV1MHyr",
        "outputId": "122cc5ae-91e8-4165-cada-90ebb83021c0",
        "colab": {
          "base_uri": "https://localhost:8080/",
          "height": 156
        }
      },
      "source": [
        "# Use the param_grid_random for an initial \"rough\" search using Randomized search\n",
        "rf = RandomForestClassifier()\n",
        "# Random search of parameters, using 3 fold cross validation, \n",
        "# search across 100 different combinations, and use all available cores\n",
        "randomSearch = RandomizedSearchCV(estimator = rf, param_distributions = param_grid_random, n_iter = 300, cv = 3, verbose=2, random_state=42, n_jobs = -1)\n",
        "# Fit the random search model\n",
        "randomSearch.fit(train_X, train_y)\n",
        "bestRandomModel = randomSearch.best_estimator_\n",
        "print('Best parameters found: ', randomSearch.best_params_)\n"
      ],
      "execution_count": null,
      "outputs": [
        {
          "output_type": "stream",
          "text": [
            "Fitting 3 folds for each of 300 candidates, totalling 900 fits\n"
          ],
          "name": "stdout"
        },
        {
          "output_type": "stream",
          "text": [
            "[Parallel(n_jobs=-1)]: Using backend LokyBackend with 40 concurrent workers.\n",
            "[Parallel(n_jobs=-1)]: Done  82 tasks      | elapsed:   12.9s\n",
            "[Parallel(n_jobs=-1)]: Done 285 tasks      | elapsed:   36.4s\n",
            "[Parallel(n_jobs=-1)]: Done 568 tasks      | elapsed:  1.1min\n",
            "[Parallel(n_jobs=-1)]: Done 900 out of 900 | elapsed:  1.7min finished\n"
          ],
          "name": "stderr"
        },
        {
          "output_type": "stream",
          "text": [
            "Best parameters found:  {'n_estimators': 900, 'min_samples_split': 10, 'min_samples_leaf': 2, 'min_impurity_decrease': 0.001, 'max_leaf_nodes': None, 'max_features': 'auto', 'max_depth': 70, 'criterion': 'entropy', 'bootstrap': True}\n"
          ],
          "name": "stdout"
        }
      ]
    },
    {
      "cell_type": "markdown",
      "metadata": {
        "id": "EGkze5JWjkAL"
      },
      "source": [
        "### Step 4: Test the performance of the selected parameters"
      ]
    },
    {
      "cell_type": "code",
      "metadata": {
        "id": "baZShx5VXIr9",
        "outputId": "20080869-e08a-4f9b-c7cc-022cdcac1a38",
        "colab": {
          "base_uri": "https://localhost:8080/",
          "height": 68
        }
      },
      "source": [
        "validation_predictions = bestRandomModel.predict(valid_X)\n",
        "print('Accuracy Score: ', accuracy_score(valid_y, validation_predictions))\n",
        "print('Precision Score: ', precision_score(valid_y, validation_predictions))\n",
        "print('Recall Score: ', recall_score(valid_y, validation_predictions))\n"
      ],
      "execution_count": null,
      "outputs": [
        {
          "output_type": "stream",
          "text": [
            "Accuracy Score:  0.8293581738151294\n",
            "Precision Score:  0.9220183486238532\n",
            "Recall Score:  0.27174402884182064\n"
          ],
          "name": "stdout"
        }
      ]
    },
    {
      "cell_type": "markdown",
      "metadata": {
        "id": "CAqjsBT5jzw9"
      },
      "source": [
        "### Step 5: Use knowledge gained from Step 3 and 4 to create new 'narrow' range of possible hyperparameter values"
      ]
    },
    {
      "cell_type": "code",
      "metadata": {
        "id": "UnKODm5APuXc"
      },
      "source": [
        "# let's take the best parameters from the the random search, and use this as a base for gridsearch\n",
        "param_grid = {'n_estimators': [800, 850, 900, 950, 1000],\n",
        "              'min_samples_split': [5, 8, 10, 12, 15],  \n",
        "              'min_samples_leaf': [1, 2, 3],\n",
        "              'min_impurity_decrease': [0.000, 0.0005, 0.001, 0.0015, 0.002],\n",
        "              'max_leaf_nodes': [None], \n",
        "              'max_features': ['auto'], \n",
        "              'max_depth': [60, 65, 70, 75, 80],\n",
        "              'criterion': ['entropy'],\n",
        "              'bootstrap': [True]}\n"
      ],
      "execution_count": null,
      "outputs": []
    },
    {
      "cell_type": "markdown",
      "metadata": {
        "id": "ON2ugTU4kRFV"
      },
      "source": [
        "### Step 6: Use Grid (exhaustive) to refine model "
      ]
    },
    {
      "cell_type": "code",
      "metadata": {
        "id": "qtLzreQIQtXH",
        "outputId": "5506ec60-d216-4207-c87c-909aa7c1ecdf",
        "colab": {
          "base_uri": "https://localhost:8080/",
          "height": 275
        }
      },
      "source": [
        "# refine our search using param_grid\n",
        "rf = RandomForestClassifier()\n",
        "# Random search of parameters, using 3 fold cross validation, \n",
        "# search across 100 different combinations, and use all available cores\n",
        "gridSearch = GridSearchCV(estimator = rf, param_grid=param_grid, cv = 3, verbose=2,  n_jobs = -1)\n",
        "# Fit the random search model\n",
        "gridSearch.fit(train_X, train_y)\n",
        "bestGridModel = gridSearch.best_estimator_\n",
        "print('Best parameters found: ', gridSearch.best_params_)"
      ],
      "execution_count": null,
      "outputs": [
        {
          "output_type": "stream",
          "text": [
            "Fitting 3 folds for each of 1875 candidates, totalling 5625 fits\n"
          ],
          "name": "stdout"
        },
        {
          "output_type": "stream",
          "text": [
            "[Parallel(n_jobs=-1)]: Using backend LokyBackend with 40 concurrent workers.\n",
            "[Parallel(n_jobs=-1)]: Done  82 tasks      | elapsed:   47.5s\n",
            "[Parallel(n_jobs=-1)]: Done 285 tasks      | elapsed:  1.8min\n",
            "[Parallel(n_jobs=-1)]: Done 568 tasks      | elapsed:  2.9min\n",
            "[Parallel(n_jobs=-1)]: Done 933 tasks      | elapsed:  4.3min\n",
            "[Parallel(n_jobs=-1)]: Done 1378 tasks      | elapsed:  6.5min\n",
            "[Parallel(n_jobs=-1)]: Done 1905 tasks      | elapsed:  8.5min\n",
            "[Parallel(n_jobs=-1)]: Done 2512 tasks      | elapsed: 11.4min\n",
            "[Parallel(n_jobs=-1)]: Done 3201 tasks      | elapsed: 14.0min\n",
            "[Parallel(n_jobs=-1)]: Done 3970 tasks      | elapsed: 17.5min\n",
            "[Parallel(n_jobs=-1)]: Done 4821 tasks      | elapsed: 21.3min\n",
            "[Parallel(n_jobs=-1)]: Done 5625 out of 5625 | elapsed: 24.2min finished\n"
          ],
          "name": "stderr"
        },
        {
          "output_type": "stream",
          "text": [
            "Best parameters found:  {'bootstrap': True, 'criterion': 'entropy', 'max_depth': 60, 'max_features': 'auto', 'max_leaf_nodes': None, 'min_impurity_decrease': 0.0, 'min_samples_leaf': 3, 'min_samples_split': 15, 'n_estimators': 950}\n"
          ],
          "name": "stdout"
        }
      ]
    },
    {
      "cell_type": "markdown",
      "metadata": {
        "id": "KAv6LTYVkhA_"
      },
      "source": [
        "### Step 7: Test the performance of the model using identified parameters"
      ]
    },
    {
      "cell_type": "code",
      "metadata": {
        "id": "P0fWR0cvNiec",
        "outputId": "331de87e-9157-4295-d763-7e5f7fa9f9a1",
        "colab": {
          "base_uri": "https://localhost:8080/",
          "height": 68
        }
      },
      "source": [
        "validation_predictions = bestGridModel.predict(valid_X)\n",
        "print(accuracy_score(valid_y, validation_predictions))\n",
        "print(precision_score(valid_y, validation_predictions))\n",
        "print(recall_score(valid_y, validation_predictions))\n"
      ],
      "execution_count": null,
      "outputs": [
        {
          "output_type": "stream",
          "text": [
            "0.8306889139113522\n",
            "0.7269076305220884\n",
            "0.4078413699864804\n"
          ],
          "name": "stdout"
        }
      ]
    },
    {
      "cell_type": "markdown",
      "metadata": {
        "id": "toa5Xyg2lzDZ"
      },
      "source": [
        "### Step 8: If necessary, repeat steps 5 through 7 with more granular and targeted parameter search"
      ]
    },
    {
      "cell_type": "markdown",
      "metadata": {
        "id": "g9BhtBG0lA9V"
      },
      "source": [
        "Continuing to tune your model is optional, but if there is evidence that there is room for continued improvement in the model, use the information from Step 6 to create a more refined set of parameter ranges and rerun the GridSearchCV. \n",
        "\n",
        "In this case, we increased accuracy from 0.8294 to 0.8307. The importance of this increase is context-dependent. In some contexts, every little increase is worth the effort -- in other contexts, such increases would have minimal to no benefit. In this case, we'll assume that any incremental increase in performance from repeated searching is not enough to justify continuing. \n",
        "\n",
        "NOTE: The decision to continue further is dependent on the expected incremental increase in performance, the importance of any small incremental increase (to the business), and the resources you have (time and computing power). Recognize that you generally have a \"diminishing\" returns situation, where it takes an increasingly large amount of computation (training) to gain an increasingly smaller increase in performance. "
      ]
    }
  ]
}