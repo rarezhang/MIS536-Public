{
  "nbformat": 4,
  "nbformat_minor": 0,
  "metadata": {
    "colab": {
      "name": "Assignment05-dtree.ipynb",
      "provenance": [],
      "collapsed_sections": [
        "TJuksEG5lfkZ",
        "iJjOSEj2lao0",
        "yjKDQ8_moQv6",
        "Rzx9df46wA0n"
      ],
      "authorship_tag": "ABX9TyPIyubSbaaBERlZpBqZjeyE",
      "include_colab_link": true
    },
    "kernelspec": {
      "name": "python3",
      "display_name": "Python 3"
    }
  },
  "cells": [
    {
      "cell_type": "markdown",
      "metadata": {
        "id": "view-in-github",
        "colab_type": "text"
      },
      "source": [
        "<a href=\"https://colab.research.google.com/github/timcsmith/MIS536-Public/blob/master/Notebooks/Assignment05_dtree.ipynb\" target=\"_parent\"><img src=\"https://colab.research.google.com/assets/colab-badge.svg\" alt=\"Open In Colab\"/></a>"
      ]
    },
    {
      "cell_type": "markdown",
      "metadata": {
        "id": "XPeNLeVojs9k"
      },
      "source": [
        "# Assignment05 - Predicting Delayed Flights.\n",
        "\n",
        "The file FlightDelays.csv contains information on all commercial flights departing the Washington, DC area and arriving at New York during January 2004. For each flight, there is information on the departure and arrival airports, the distance of the route, the scheduled time and date of the flight, and so on. The variable that we are trying to predict is whether or not a flight is delayed. A delay is defined as an arrival that is at least 15 minutes later than scheduled.\n",
        "\n",
        "Data Preprocessing. Transform variable day of week (DAY_WEEK) info a categorical variable. Bin the scheduled departure time into eight bins. Use these and all other columns as predictors (excluding DAY_OF_MONTH). Partition the data into training (60%) and validation (40%) sets."
      ]
    },
    {
      "cell_type": "markdown",
      "metadata": {
        "id": "TJuksEG5lfkZ"
      },
      "source": [
        "# Preliminary Data Cleaning (Done For You)"
      ]
    },
    {
      "cell_type": "code",
      "metadata": {
        "id": "eRJpyjCBlDrQ"
      },
      "source": [
        "# !pip install dmba # run once, when you start your work on this notebook"
      ],
      "execution_count": 92,
      "outputs": []
    },
    {
      "cell_type": "code",
      "metadata": {
        "id": "-AF_Qcpckr-X"
      },
      "source": [
        "import pandas as pd\n",
        "import numpy as np\n",
        "from sklearn.model_selection import train_test_split, GridSearchCV\n",
        "from sklearn.tree import DecisionTreeClassifier\n",
        "from sklearn.neighbors import KNeighborsClassifier\n",
        "from sklearn.metrics import accuracy_score\n",
        "\n",
        "import matplotlib.pylab as plt\n",
        "from dmba import plotDecisionTree, gainsChart, liftChart\n",
        "from dmba import classificationSummary"
      ],
      "execution_count": 93,
      "outputs": []
    },
    {
      "cell_type": "code",
      "metadata": {
        "id": "xKdXts5rjrDH",
        "outputId": "425d9581-f22d-4ef9-ab1e-01d01fd28199",
        "colab": {
          "base_uri": "https://localhost:8080/",
          "height": 204
        }
      },
      "source": [
        "delays_df = pd.read_csv('https://raw.githubusercontent.com/timcsmith/MIS536-Public/master/Data/FlightDelays.csv')\n",
        "delays_df.head()"
      ],
      "execution_count": 94,
      "outputs": [
        {
          "output_type": "execute_result",
          "data": {
            "text/html": [
              "<div>\n",
              "<style scoped>\n",
              "    .dataframe tbody tr th:only-of-type {\n",
              "        vertical-align: middle;\n",
              "    }\n",
              "\n",
              "    .dataframe tbody tr th {\n",
              "        vertical-align: top;\n",
              "    }\n",
              "\n",
              "    .dataframe thead th {\n",
              "        text-align: right;\n",
              "    }\n",
              "</style>\n",
              "<table border=\"1\" class=\"dataframe\">\n",
              "  <thead>\n",
              "    <tr style=\"text-align: right;\">\n",
              "      <th></th>\n",
              "      <th>CRS_DEP_TIME</th>\n",
              "      <th>CARRIER</th>\n",
              "      <th>DEP_TIME</th>\n",
              "      <th>DEST</th>\n",
              "      <th>DISTANCE</th>\n",
              "      <th>FL_DATE</th>\n",
              "      <th>FL_NUM</th>\n",
              "      <th>ORIGIN</th>\n",
              "      <th>Weather</th>\n",
              "      <th>DAY_WEEK</th>\n",
              "      <th>DAY_OF_MONTH</th>\n",
              "      <th>TAIL_NUM</th>\n",
              "      <th>Flight Status</th>\n",
              "    </tr>\n",
              "  </thead>\n",
              "  <tbody>\n",
              "    <tr>\n",
              "      <th>0</th>\n",
              "      <td>1455</td>\n",
              "      <td>OH</td>\n",
              "      <td>1455</td>\n",
              "      <td>JFK</td>\n",
              "      <td>184</td>\n",
              "      <td>01/01/2004</td>\n",
              "      <td>5935</td>\n",
              "      <td>BWI</td>\n",
              "      <td>0</td>\n",
              "      <td>4</td>\n",
              "      <td>1</td>\n",
              "      <td>N940CA</td>\n",
              "      <td>ontime</td>\n",
              "    </tr>\n",
              "    <tr>\n",
              "      <th>1</th>\n",
              "      <td>1640</td>\n",
              "      <td>DH</td>\n",
              "      <td>1640</td>\n",
              "      <td>JFK</td>\n",
              "      <td>213</td>\n",
              "      <td>01/01/2004</td>\n",
              "      <td>6155</td>\n",
              "      <td>DCA</td>\n",
              "      <td>0</td>\n",
              "      <td>4</td>\n",
              "      <td>1</td>\n",
              "      <td>N405FJ</td>\n",
              "      <td>ontime</td>\n",
              "    </tr>\n",
              "    <tr>\n",
              "      <th>2</th>\n",
              "      <td>1245</td>\n",
              "      <td>DH</td>\n",
              "      <td>1245</td>\n",
              "      <td>LGA</td>\n",
              "      <td>229</td>\n",
              "      <td>01/01/2004</td>\n",
              "      <td>7208</td>\n",
              "      <td>IAD</td>\n",
              "      <td>0</td>\n",
              "      <td>4</td>\n",
              "      <td>1</td>\n",
              "      <td>N695BR</td>\n",
              "      <td>ontime</td>\n",
              "    </tr>\n",
              "    <tr>\n",
              "      <th>3</th>\n",
              "      <td>1715</td>\n",
              "      <td>DH</td>\n",
              "      <td>1709</td>\n",
              "      <td>LGA</td>\n",
              "      <td>229</td>\n",
              "      <td>01/01/2004</td>\n",
              "      <td>7215</td>\n",
              "      <td>IAD</td>\n",
              "      <td>0</td>\n",
              "      <td>4</td>\n",
              "      <td>1</td>\n",
              "      <td>N662BR</td>\n",
              "      <td>ontime</td>\n",
              "    </tr>\n",
              "    <tr>\n",
              "      <th>4</th>\n",
              "      <td>1039</td>\n",
              "      <td>DH</td>\n",
              "      <td>1035</td>\n",
              "      <td>LGA</td>\n",
              "      <td>229</td>\n",
              "      <td>01/01/2004</td>\n",
              "      <td>7792</td>\n",
              "      <td>IAD</td>\n",
              "      <td>0</td>\n",
              "      <td>4</td>\n",
              "      <td>1</td>\n",
              "      <td>N698BR</td>\n",
              "      <td>ontime</td>\n",
              "    </tr>\n",
              "  </tbody>\n",
              "</table>\n",
              "</div>"
            ],
            "text/plain": [
              "   CRS_DEP_TIME CARRIER  DEP_TIME  ... DAY_OF_MONTH  TAIL_NUM Flight Status\n",
              "0          1455      OH      1455  ...            1    N940CA        ontime\n",
              "1          1640      DH      1640  ...            1    N405FJ        ontime\n",
              "2          1245      DH      1245  ...            1    N695BR        ontime\n",
              "3          1715      DH      1709  ...            1    N662BR        ontime\n",
              "4          1039      DH      1035  ...            1    N698BR        ontime\n",
              "\n",
              "[5 rows x 13 columns]"
            ]
          },
          "metadata": {
            "tags": []
          },
          "execution_count": 94
        }
      ]
    },
    {
      "cell_type": "code",
      "metadata": {
        "id": "ZcGndSgPlQC_",
        "outputId": "9f27e324-b15a-488d-a8d4-16a94015d4d6",
        "colab": {
          "base_uri": "https://localhost:8080/",
          "height": 238
        }
      },
      "source": [
        "# convert variable DAY_WEEK to categorical data type\n",
        "delays_df['DAY_WEEK'].astype('category')"
      ],
      "execution_count": 95,
      "outputs": [
        {
          "output_type": "execute_result",
          "data": {
            "text/plain": [
              "0       4\n",
              "1       4\n",
              "2       4\n",
              "3       4\n",
              "4       4\n",
              "       ..\n",
              "2196    6\n",
              "2197    6\n",
              "2198    6\n",
              "2199    6\n",
              "2200    6\n",
              "Name: DAY_WEEK, Length: 2201, dtype: category\n",
              "Categories (7, int64): [1, 2, 3, 4, 5, 6, 7]"
            ]
          },
          "metadata": {
            "tags": []
          },
          "execution_count": 95
        }
      ]
    },
    {
      "cell_type": "code",
      "metadata": {
        "id": "vYUwAiz4lSVP",
        "outputId": "851087e8-8e21-4059-b3cb-6792b9e7b61a",
        "colab": {
          "base_uri": "https://localhost:8080/",
          "height": 238
        }
      },
      "source": [
        "# bin CRS_DEP_TIME variable into 8 bins\n",
        "delays_df['binned_CRS_DEP_TIME'] = pd.cut(delays_df.CRS_DEP_TIME, 8, labels=False)\n",
        "delays_df['binned_CRS_DEP_TIME'].astype('category')"
      ],
      "execution_count": 96,
      "outputs": [
        {
          "output_type": "execute_result",
          "data": {
            "text/plain": [
              "0       4\n",
              "1       5\n",
              "2       3\n",
              "3       5\n",
              "4       2\n",
              "       ..\n",
              "2196    0\n",
              "2197    5\n",
              "2198    5\n",
              "2199    3\n",
              "2200    5\n",
              "Name: binned_CRS_DEP_TIME, Length: 2201, dtype: category\n",
              "Categories (8, int64): [0, 1, 2, 3, 4, 5, 6, 7]"
            ]
          },
          "metadata": {
            "tags": []
          },
          "execution_count": 96
        }
      ]
    },
    {
      "cell_type": "code",
      "metadata": {
        "id": "0iO6eFTtlWBg"
      },
      "source": [
        "# remove DAY_OF_MONTH variable\n",
        "predictors_df = delays_df\n",
        "columns = list(delays_df.columns)\n",
        "columns.remove('DAY_OF_MONTH')\n",
        "predictors_df = predictors_df[columns]"
      ],
      "execution_count": 97,
      "outputs": []
    },
    {
      "cell_type": "code",
      "metadata": {
        "id": "TJVkVy-enV3T",
        "outputId": "19241d77-4bae-4be8-f5fd-c5ff42603074",
        "colab": {
          "base_uri": "https://localhost:8080/",
          "height": 204
        }
      },
      "source": [
        "# select only those variables which can be used for predicting the outcome.\n",
        "# create a new dataframe with predictors\n",
        "columns = list(predictors_df.columns)\n",
        "columns\n",
        "\n",
        "columns.remove('CRS_DEP_TIME')\n",
        "columns.remove('DEP_TIME')\n",
        "columns.remove('FL_DATE')\n",
        "columns.remove('FL_NUM')\n",
        "columns.remove('TAIL_NUM')\n",
        "columns.remove('Flight Status')\n",
        "predictors_df = predictors_df[columns]\n",
        "predictors_df.columns\n",
        "\n",
        "predictors_df.head()"
      ],
      "execution_count": 98,
      "outputs": [
        {
          "output_type": "execute_result",
          "data": {
            "text/html": [
              "<div>\n",
              "<style scoped>\n",
              "    .dataframe tbody tr th:only-of-type {\n",
              "        vertical-align: middle;\n",
              "    }\n",
              "\n",
              "    .dataframe tbody tr th {\n",
              "        vertical-align: top;\n",
              "    }\n",
              "\n",
              "    .dataframe thead th {\n",
              "        text-align: right;\n",
              "    }\n",
              "</style>\n",
              "<table border=\"1\" class=\"dataframe\">\n",
              "  <thead>\n",
              "    <tr style=\"text-align: right;\">\n",
              "      <th></th>\n",
              "      <th>CARRIER</th>\n",
              "      <th>DEST</th>\n",
              "      <th>DISTANCE</th>\n",
              "      <th>ORIGIN</th>\n",
              "      <th>Weather</th>\n",
              "      <th>DAY_WEEK</th>\n",
              "      <th>binned_CRS_DEP_TIME</th>\n",
              "    </tr>\n",
              "  </thead>\n",
              "  <tbody>\n",
              "    <tr>\n",
              "      <th>0</th>\n",
              "      <td>OH</td>\n",
              "      <td>JFK</td>\n",
              "      <td>184</td>\n",
              "      <td>BWI</td>\n",
              "      <td>0</td>\n",
              "      <td>4</td>\n",
              "      <td>4</td>\n",
              "    </tr>\n",
              "    <tr>\n",
              "      <th>1</th>\n",
              "      <td>DH</td>\n",
              "      <td>JFK</td>\n",
              "      <td>213</td>\n",
              "      <td>DCA</td>\n",
              "      <td>0</td>\n",
              "      <td>4</td>\n",
              "      <td>5</td>\n",
              "    </tr>\n",
              "    <tr>\n",
              "      <th>2</th>\n",
              "      <td>DH</td>\n",
              "      <td>LGA</td>\n",
              "      <td>229</td>\n",
              "      <td>IAD</td>\n",
              "      <td>0</td>\n",
              "      <td>4</td>\n",
              "      <td>3</td>\n",
              "    </tr>\n",
              "    <tr>\n",
              "      <th>3</th>\n",
              "      <td>DH</td>\n",
              "      <td>LGA</td>\n",
              "      <td>229</td>\n",
              "      <td>IAD</td>\n",
              "      <td>0</td>\n",
              "      <td>4</td>\n",
              "      <td>5</td>\n",
              "    </tr>\n",
              "    <tr>\n",
              "      <th>4</th>\n",
              "      <td>DH</td>\n",
              "      <td>LGA</td>\n",
              "      <td>229</td>\n",
              "      <td>IAD</td>\n",
              "      <td>0</td>\n",
              "      <td>4</td>\n",
              "      <td>2</td>\n",
              "    </tr>\n",
              "  </tbody>\n",
              "</table>\n",
              "</div>"
            ],
            "text/plain": [
              "  CARRIER DEST  DISTANCE ORIGIN  Weather  DAY_WEEK  binned_CRS_DEP_TIME\n",
              "0      OH  JFK       184    BWI        0         4                    4\n",
              "1      DH  JFK       213    DCA        0         4                    5\n",
              "2      DH  LGA       229    IAD        0         4                    3\n",
              "3      DH  LGA       229    IAD        0         4                    5\n",
              "4      DH  LGA       229    IAD        0         4                    2"
            ]
          },
          "metadata": {
            "tags": []
          },
          "execution_count": 98
        }
      ]
    },
    {
      "cell_type": "code",
      "metadata": {
        "id": "n1vFax-wnXw7",
        "outputId": "5a5ebb92-c3fe-45a7-8576-703ee1bebbdf",
        "colab": {
          "base_uri": "https://localhost:8080/",
          "height": 102
        }
      },
      "source": [
        "# create dummies for categorical variables\n",
        "predictors_df = pd.get_dummies(predictors_df, prefix_sep='_')\n",
        "predictors_df.columns"
      ],
      "execution_count": 99,
      "outputs": [
        {
          "output_type": "execute_result",
          "data": {
            "text/plain": [
              "Index(['DISTANCE', 'Weather', 'DAY_WEEK', 'binned_CRS_DEP_TIME', 'CARRIER_CO',\n",
              "       'CARRIER_DH', 'CARRIER_DL', 'CARRIER_MQ', 'CARRIER_OH', 'CARRIER_RU',\n",
              "       'CARRIER_UA', 'CARRIER_US', 'DEST_EWR', 'DEST_JFK', 'DEST_LGA',\n",
              "       'ORIGIN_BWI', 'ORIGIN_DCA', 'ORIGIN_IAD'],\n",
              "      dtype='object')"
            ]
          },
          "metadata": {
            "tags": []
          },
          "execution_count": 99
        }
      ]
    },
    {
      "cell_type": "code",
      "metadata": {
        "id": "ey14qLXRnaMq",
        "outputId": "1df2e70a-1d50-4988-c0aa-bb46431b419a",
        "colab": {
          "base_uri": "https://localhost:8080/",
          "height": 224
        }
      },
      "source": [
        "# partition the data into training (70%) and validation (30%) sets. set random_state=1 for the reproducibility of results\n",
        "X = predictors_df\n",
        "y = delays_df['Flight Status']\n",
        "\n",
        "train_X, valid_X, train_y, valid_y = train_test_split(X, y, test_size=0.4, random_state=1)\n",
        "train_X.head()"
      ],
      "execution_count": 100,
      "outputs": [
        {
          "output_type": "execute_result",
          "data": {
            "text/html": [
              "<div>\n",
              "<style scoped>\n",
              "    .dataframe tbody tr th:only-of-type {\n",
              "        vertical-align: middle;\n",
              "    }\n",
              "\n",
              "    .dataframe tbody tr th {\n",
              "        vertical-align: top;\n",
              "    }\n",
              "\n",
              "    .dataframe thead th {\n",
              "        text-align: right;\n",
              "    }\n",
              "</style>\n",
              "<table border=\"1\" class=\"dataframe\">\n",
              "  <thead>\n",
              "    <tr style=\"text-align: right;\">\n",
              "      <th></th>\n",
              "      <th>DISTANCE</th>\n",
              "      <th>Weather</th>\n",
              "      <th>DAY_WEEK</th>\n",
              "      <th>binned_CRS_DEP_TIME</th>\n",
              "      <th>CARRIER_CO</th>\n",
              "      <th>CARRIER_DH</th>\n",
              "      <th>CARRIER_DL</th>\n",
              "      <th>CARRIER_MQ</th>\n",
              "      <th>CARRIER_OH</th>\n",
              "      <th>CARRIER_RU</th>\n",
              "      <th>CARRIER_UA</th>\n",
              "      <th>CARRIER_US</th>\n",
              "      <th>DEST_EWR</th>\n",
              "      <th>DEST_JFK</th>\n",
              "      <th>DEST_LGA</th>\n",
              "      <th>ORIGIN_BWI</th>\n",
              "      <th>ORIGIN_DCA</th>\n",
              "      <th>ORIGIN_IAD</th>\n",
              "    </tr>\n",
              "  </thead>\n",
              "  <tbody>\n",
              "    <tr>\n",
              "      <th>1215</th>\n",
              "      <td>229</td>\n",
              "      <td>0</td>\n",
              "      <td>7</td>\n",
              "      <td>7</td>\n",
              "      <td>0</td>\n",
              "      <td>1</td>\n",
              "      <td>0</td>\n",
              "      <td>0</td>\n",
              "      <td>0</td>\n",
              "      <td>0</td>\n",
              "      <td>0</td>\n",
              "      <td>0</td>\n",
              "      <td>0</td>\n",
              "      <td>0</td>\n",
              "      <td>1</td>\n",
              "      <td>0</td>\n",
              "      <td>0</td>\n",
              "      <td>1</td>\n",
              "    </tr>\n",
              "    <tr>\n",
              "      <th>1476</th>\n",
              "      <td>214</td>\n",
              "      <td>0</td>\n",
              "      <td>3</td>\n",
              "      <td>0</td>\n",
              "      <td>0</td>\n",
              "      <td>0</td>\n",
              "      <td>0</td>\n",
              "      <td>0</td>\n",
              "      <td>0</td>\n",
              "      <td>0</td>\n",
              "      <td>0</td>\n",
              "      <td>1</td>\n",
              "      <td>0</td>\n",
              "      <td>0</td>\n",
              "      <td>1</td>\n",
              "      <td>0</td>\n",
              "      <td>1</td>\n",
              "      <td>0</td>\n",
              "    </tr>\n",
              "    <tr>\n",
              "      <th>1897</th>\n",
              "      <td>214</td>\n",
              "      <td>0</td>\n",
              "      <td>2</td>\n",
              "      <td>1</td>\n",
              "      <td>0</td>\n",
              "      <td>0</td>\n",
              "      <td>0</td>\n",
              "      <td>0</td>\n",
              "      <td>0</td>\n",
              "      <td>0</td>\n",
              "      <td>0</td>\n",
              "      <td>1</td>\n",
              "      <td>0</td>\n",
              "      <td>0</td>\n",
              "      <td>1</td>\n",
              "      <td>0</td>\n",
              "      <td>1</td>\n",
              "      <td>0</td>\n",
              "    </tr>\n",
              "    <tr>\n",
              "      <th>83</th>\n",
              "      <td>214</td>\n",
              "      <td>0</td>\n",
              "      <td>5</td>\n",
              "      <td>3</td>\n",
              "      <td>0</td>\n",
              "      <td>0</td>\n",
              "      <td>0</td>\n",
              "      <td>0</td>\n",
              "      <td>0</td>\n",
              "      <td>0</td>\n",
              "      <td>0</td>\n",
              "      <td>1</td>\n",
              "      <td>0</td>\n",
              "      <td>0</td>\n",
              "      <td>1</td>\n",
              "      <td>0</td>\n",
              "      <td>1</td>\n",
              "      <td>0</td>\n",
              "    </tr>\n",
              "    <tr>\n",
              "      <th>1172</th>\n",
              "      <td>213</td>\n",
              "      <td>0</td>\n",
              "      <td>6</td>\n",
              "      <td>4</td>\n",
              "      <td>0</td>\n",
              "      <td>0</td>\n",
              "      <td>1</td>\n",
              "      <td>0</td>\n",
              "      <td>0</td>\n",
              "      <td>0</td>\n",
              "      <td>0</td>\n",
              "      <td>0</td>\n",
              "      <td>0</td>\n",
              "      <td>1</td>\n",
              "      <td>0</td>\n",
              "      <td>0</td>\n",
              "      <td>1</td>\n",
              "      <td>0</td>\n",
              "    </tr>\n",
              "  </tbody>\n",
              "</table>\n",
              "</div>"
            ],
            "text/plain": [
              "      DISTANCE  Weather  DAY_WEEK  ...  ORIGIN_BWI  ORIGIN_DCA  ORIGIN_IAD\n",
              "1215       229        0         7  ...           0           0           1\n",
              "1476       214        0         3  ...           0           1           0\n",
              "1897       214        0         2  ...           0           1           0\n",
              "83         214        0         5  ...           0           1           0\n",
              "1172       213        0         6  ...           0           1           0\n",
              "\n",
              "[5 rows x 18 columns]"
            ]
          },
          "metadata": {
            "tags": []
          },
          "execution_count": 100
        }
      ]
    },
    {
      "cell_type": "markdown",
      "metadata": {
        "id": "iJjOSEj2lao0"
      },
      "source": [
        "# Part1 (20pts): \n",
        "\n",
        "Develop a classification tree model to \n",
        "\n",
        "Fit a classification tree to determine the flight status of a flight using all the relevant predictors. NOTE: Do not include binned_CRS_DEP_TIME (actual departure time) in the model because it is unknown at the time of prediction (unless we generate our predictions of delays after the plane takes off, which is unlikely). \n",
        "\n",
        "1. For demonstration/exploration purposes, fit and display a full decision tree model.\n",
        "\n",
        "2. Use GridSearchCV method to determine the best decision tree parameters (based on your choice of performance measure(s))\n",
        "\n",
        "3. Demonstrate how the model performs on validation data.\n",
        "\n",
        "4. Display the chose decision tree model.\n"
      ]
    },
    {
      "cell_type": "code",
      "metadata": {
        "id": "eh4mcZivTDYC"
      },
      "source": [
        ""
      ],
      "execution_count": null,
      "outputs": []
    },
    {
      "cell_type": "markdown",
      "metadata": {
        "id": "yjKDQ8_moQv6"
      },
      "source": [
        "# Part2 (15pts):\n",
        "\n",
        "From your analysis in question 1, you may find that the weather dominates the model. Since the weather is a rather evident influence, please remove it from your predictors and rerun your analysis from question 1.\n"
      ]
    },
    {
      "cell_type": "code",
      "metadata": {
        "id": "WRX_6Seqxi8P"
      },
      "source": [
        ""
      ],
      "execution_count": null,
      "outputs": []
    },
    {
      "cell_type": "markdown",
      "metadata": {
        "id": "Rzx9df46wA0n"
      },
      "source": [
        "# Part3 (5 pts)\n",
        "\n",
        "Discuss your findings. Based on this, discuss your recommended model (note any qualifiers on your statement - that is, indicate assumptions made and any clarifications that would help the quality of this decision).\n"
      ]
    },
    {
      "cell_type": "code",
      "metadata": {
        "id": "2LBRMcE-xjec"
      },
      "source": [
        ""
      ],
      "execution_count": null,
      "outputs": []
    }
  ]
}